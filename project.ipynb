{
 "cells": [
  {
   "attachments": {},
   "cell_type": "markdown",
   "metadata": {},
   "source": [
    "# Sekolah Data Pacmann - Statistics\n",
    "## Project : Experimental Design & A/B Testing\n",
    "---"
   ]
  },
  {
   "attachments": {},
   "cell_type": "markdown",
   "metadata": {},
   "source": [
    "## Daftar Isi\n",
    "-"
   ]
  },
  {
   "attachments": {},
   "cell_type": "markdown",
   "metadata": {},
   "source": [
    "## Comparing the Effectiveness of Public Service Announcements and Ads: An A/B Testing Report\n",
    "\n",
    "### Introduction\n"
   ]
  },
  {
   "attachments": {},
   "cell_type": "markdown",
   "metadata": {},
   "source": [
    "Public Service Announcements (PSA) are a common way for marketing companies to communicate their messages to the public. However, in a competitive and saturated market, PSA may not be enough to attract and convert potential customers. Therefore, the company decided to experiment with a new strategy: ads. Ads are more targeted and personalized than PSA, and they can potentially increase user conversion rates. \n",
    "\n",
    "To test this hypothesis, the company conducted an A/B test, where they randomly assigned users to either see a PSA or an ad for the same product or service. The company collected data on how many users clicked on the PSA or the ad, and how many of them completed a purchase or a subscription. The goal of this report is to analyze the data from the A/B test and provide recommendations for the company on whether they should implement the new strategy or not."
   ]
  },
  {
   "attachments": {},
   "cell_type": "markdown",
   "metadata": {},
   "source": [
    "Based on the data description, some possible goal metrics, driven metrics and guardrail metrics are:\n",
    "\n",
    "- Goal metric: The proportion of users who converted (bought the product) in each test group (ad or psa). This can be calculated by dividing the number of users who converted by the total number of users in each group.\n",
    "- Driven metric: The average number of ads seen by users who converted in each test group. This can be calculated by summing up the total ads column for users who converted and dividing it by the number of users who converted in each group.\n",
    "- Guardrail metric: The proportion of users who unsubscribed or bounced after seeing ads in each test group. This can be calculated by dividing the number of users who unsubscribed or bounced by the total number of users who saw ads in each group.👌"
   ]
  },
  {
   "attachments": {},
   "cell_type": "markdown",
   "metadata": {},
   "source": [
    "### Data Quality Check\n",
    "\n",
    "#### Importing the Data\n",
    "First, we import the data from the csv file into a pandas dataframe. We then take a look at the first 5 rows of the dataframe to see if the data was imported correctly."
   ]
  },
  {
   "cell_type": "code",
   "execution_count": 1,
   "metadata": {},
   "outputs": [],
   "source": [
    "# import data manipulation libraries\n",
    "import numpy as np\n",
    "import pandas as pd\n",
    "\n",
    "# import data visualization libraries\n",
    "import seaborn as sns\n",
    "import matplotlib.pyplot as plt\n",
    "\n",
    "# import statistics libraries \n",
    "from scipy import stats\n",
    "from statsmodels.stats.proportion import proportions_ztest"
   ]
  },
  {
   "cell_type": "code",
   "execution_count": 2,
   "metadata": {},
   "outputs": [],
   "source": [
    "def load_data(filename):\n",
    "    \"\"\"Load data from csv file and return a dataframe\n",
    "\n",
    "    Args:\n",
    "        filename (csv): File path with csv extension\n",
    "        \n",
    "    Returns:\n",
    "        data (dataframe): Dataframe with the data\n",
    "    \"\"\"\n",
    "    #### 1. Load data\n",
    "    data = pd.read_csv(filename)\n",
    "    # Drop first column\n",
    "    data.drop(\"Unnamed: 0\", axis=1, inplace=True)\n",
    "    print(f'Total entry {data.shape[0]}')\n",
    "\n",
    "    #### 2. Split into control and treatment group\n",
    "    data['group'] = data['test group'].apply(lambda x : 'control' if x == 'psa' else 'treatment')\n",
    "    \n",
    "    #### 3. Create a new column to store the conversion\n",
    "    data['is conversion'] = data['converted'].apply(lambda x: 1 if x == True else 0)\n",
    "    \n",
    "    return data"
   ]
  },
  {
   "cell_type": "code",
   "execution_count": 3,
   "metadata": {},
   "outputs": [
    {
     "name": "stdout",
     "output_type": "stream",
     "text": [
      "Total entry 588101\n"
     ]
    },
    {
     "data": {
      "text/html": [
       "<div>\n",
       "<style scoped>\n",
       "    .dataframe tbody tr th:only-of-type {\n",
       "        vertical-align: middle;\n",
       "    }\n",
       "\n",
       "    .dataframe tbody tr th {\n",
       "        vertical-align: top;\n",
       "    }\n",
       "\n",
       "    .dataframe thead th {\n",
       "        text-align: right;\n",
       "    }\n",
       "</style>\n",
       "<table border=\"1\" class=\"dataframe\">\n",
       "  <thead>\n",
       "    <tr style=\"text-align: right;\">\n",
       "      <th></th>\n",
       "      <th>user id</th>\n",
       "      <th>test group</th>\n",
       "      <th>converted</th>\n",
       "      <th>total ads</th>\n",
       "      <th>most ads day</th>\n",
       "      <th>most ads hour</th>\n",
       "      <th>group</th>\n",
       "      <th>is conversion</th>\n",
       "    </tr>\n",
       "  </thead>\n",
       "  <tbody>\n",
       "    <tr>\n",
       "      <th>0</th>\n",
       "      <td>1069124</td>\n",
       "      <td>ad</td>\n",
       "      <td>False</td>\n",
       "      <td>130</td>\n",
       "      <td>Monday</td>\n",
       "      <td>20</td>\n",
       "      <td>treatment</td>\n",
       "      <td>0</td>\n",
       "    </tr>\n",
       "    <tr>\n",
       "      <th>1</th>\n",
       "      <td>1119715</td>\n",
       "      <td>ad</td>\n",
       "      <td>False</td>\n",
       "      <td>93</td>\n",
       "      <td>Tuesday</td>\n",
       "      <td>22</td>\n",
       "      <td>treatment</td>\n",
       "      <td>0</td>\n",
       "    </tr>\n",
       "    <tr>\n",
       "      <th>2</th>\n",
       "      <td>1144181</td>\n",
       "      <td>ad</td>\n",
       "      <td>False</td>\n",
       "      <td>21</td>\n",
       "      <td>Tuesday</td>\n",
       "      <td>18</td>\n",
       "      <td>treatment</td>\n",
       "      <td>0</td>\n",
       "    </tr>\n",
       "    <tr>\n",
       "      <th>3</th>\n",
       "      <td>1435133</td>\n",
       "      <td>ad</td>\n",
       "      <td>False</td>\n",
       "      <td>355</td>\n",
       "      <td>Tuesday</td>\n",
       "      <td>10</td>\n",
       "      <td>treatment</td>\n",
       "      <td>0</td>\n",
       "    </tr>\n",
       "    <tr>\n",
       "      <th>4</th>\n",
       "      <td>1015700</td>\n",
       "      <td>ad</td>\n",
       "      <td>False</td>\n",
       "      <td>276</td>\n",
       "      <td>Friday</td>\n",
       "      <td>14</td>\n",
       "      <td>treatment</td>\n",
       "      <td>0</td>\n",
       "    </tr>\n",
       "    <tr>\n",
       "      <th>5</th>\n",
       "      <td>1137664</td>\n",
       "      <td>ad</td>\n",
       "      <td>False</td>\n",
       "      <td>734</td>\n",
       "      <td>Saturday</td>\n",
       "      <td>10</td>\n",
       "      <td>treatment</td>\n",
       "      <td>0</td>\n",
       "    </tr>\n",
       "    <tr>\n",
       "      <th>6</th>\n",
       "      <td>1116205</td>\n",
       "      <td>ad</td>\n",
       "      <td>False</td>\n",
       "      <td>264</td>\n",
       "      <td>Wednesday</td>\n",
       "      <td>13</td>\n",
       "      <td>treatment</td>\n",
       "      <td>0</td>\n",
       "    </tr>\n",
       "    <tr>\n",
       "      <th>7</th>\n",
       "      <td>1496843</td>\n",
       "      <td>ad</td>\n",
       "      <td>False</td>\n",
       "      <td>17</td>\n",
       "      <td>Sunday</td>\n",
       "      <td>18</td>\n",
       "      <td>treatment</td>\n",
       "      <td>0</td>\n",
       "    </tr>\n",
       "    <tr>\n",
       "      <th>8</th>\n",
       "      <td>1448851</td>\n",
       "      <td>ad</td>\n",
       "      <td>False</td>\n",
       "      <td>21</td>\n",
       "      <td>Tuesday</td>\n",
       "      <td>19</td>\n",
       "      <td>treatment</td>\n",
       "      <td>0</td>\n",
       "    </tr>\n",
       "    <tr>\n",
       "      <th>9</th>\n",
       "      <td>1446284</td>\n",
       "      <td>ad</td>\n",
       "      <td>False</td>\n",
       "      <td>142</td>\n",
       "      <td>Monday</td>\n",
       "      <td>14</td>\n",
       "      <td>treatment</td>\n",
       "      <td>0</td>\n",
       "    </tr>\n",
       "  </tbody>\n",
       "</table>\n",
       "</div>"
      ],
      "text/plain": [
       "   user id test group  converted  total ads most ads day  most ads hour  \\\n",
       "0  1069124         ad      False        130       Monday             20   \n",
       "1  1119715         ad      False         93      Tuesday             22   \n",
       "2  1144181         ad      False         21      Tuesday             18   \n",
       "3  1435133         ad      False        355      Tuesday             10   \n",
       "4  1015700         ad      False        276       Friday             14   \n",
       "5  1137664         ad      False        734     Saturday             10   \n",
       "6  1116205         ad      False        264    Wednesday             13   \n",
       "7  1496843         ad      False         17       Sunday             18   \n",
       "8  1448851         ad      False         21      Tuesday             19   \n",
       "9  1446284         ad      False        142       Monday             14   \n",
       "\n",
       "       group  is conversion  \n",
       "0  treatment              0  \n",
       "1  treatment              0  \n",
       "2  treatment              0  \n",
       "3  treatment              0  \n",
       "4  treatment              0  \n",
       "5  treatment              0  \n",
       "6  treatment              0  \n",
       "7  treatment              0  \n",
       "8  treatment              0  \n",
       "9  treatment              0  "
      ]
     },
     "execution_count": 3,
     "metadata": {},
     "output_type": "execute_result"
    }
   ],
   "source": [
    "# file path\n",
    "filename = 'dataset/marketing_AB.csv'\n",
    "\n",
    "# Load data\n",
    "df = load_data(filename)\n",
    "\n",
    "# display first 10 rows\n",
    "df.head(10)"
   ]
  },
  {
   "attachments": {},
   "cell_type": "markdown",
   "metadata": {},
   "source": [
    "There are 7 columns in the dataframe: `Index`, `user id`, `test group`, `converted`, `total ads`, `most ads day`, and `most ads hour`\n",
    "- `Index`: Row index\n",
    "- `user id`: User ID (unique)\n",
    "- `test group`: If \"ad\" the person saw the advertisement, if \"psa\" they only saw the public service announcement\n",
    "- `converted`: If a person bought the product then True, else is False\n",
    "- `total ads`: Amount of ads seen by person\n",
    "- `most ads day`: Day that the person saw the biggest amount of ads\n",
    "- `most ads hour`: Hour of day that the person saw the biggest amount of ads"
   ]
  },
  {
   "cell_type": "code",
   "execution_count": 4,
   "metadata": {},
   "outputs": [
    {
     "name": "stdout",
     "output_type": "stream",
     "text": [
      "<class 'pandas.core.frame.DataFrame'>\n",
      "RangeIndex: 588101 entries, 0 to 588100\n",
      "Data columns (total 8 columns):\n",
      " #   Column         Non-Null Count   Dtype \n",
      "---  ------         --------------   ----- \n",
      " 0   user id        588101 non-null  int64 \n",
      " 1   test group     588101 non-null  object\n",
      " 2   converted      588101 non-null  bool  \n",
      " 3   total ads      588101 non-null  int64 \n",
      " 4   most ads day   588101 non-null  object\n",
      " 5   most ads hour  588101 non-null  int64 \n",
      " 6   group          588101 non-null  object\n",
      " 7   is conversion  588101 non-null  int64 \n",
      "dtypes: bool(1), int64(4), object(3)\n",
      "memory usage: 32.0+ MB\n"
     ]
    }
   ],
   "source": [
    "# overview of the data\n",
    "df.info()"
   ]
  },
  {
   "cell_type": "code",
   "execution_count": 5,
   "metadata": {},
   "outputs": [
    {
     "data": {
      "text/plain": [
       "(588101, 8)"
      ]
     },
     "execution_count": 5,
     "metadata": {},
     "output_type": "execute_result"
    }
   ],
   "source": [
    "# dimensions of the data\n",
    "df.shape"
   ]
  },
  {
   "attachments": {},
   "cell_type": "markdown",
   "metadata": {},
   "source": [
    "There no missing values in the dataframe, and the data types are correct. The `converted` column is a boolean column, and the `total ads`, `most ads day`, and `most ads hour` columns are integer columns. The `test group` column is a categorical column, and the `user id` column is a string column."
   ]
  },
  {
   "attachments": {},
   "cell_type": "markdown",
   "metadata": {},
   "source": [
    "#### Missing Values\n",
    "\n",
    "There are no missing values in the dataframe."
   ]
  },
  {
   "cell_type": "code",
   "execution_count": 6,
   "metadata": {},
   "outputs": [
    {
     "data": {
      "text/plain": [
       "user id          0\n",
       "test group       0\n",
       "converted        0\n",
       "total ads        0\n",
       "most ads day     0\n",
       "most ads hour    0\n",
       "group            0\n",
       "is conversion    0\n",
       "dtype: int64"
      ]
     },
     "execution_count": 6,
     "metadata": {},
     "output_type": "execute_result"
    }
   ],
   "source": [
    "# check for missing values\n",
    "df.isna().sum()"
   ]
  },
  {
   "attachments": {},
   "cell_type": "markdown",
   "metadata": {},
   "source": [
    "#### Check Uniqueness\n",
    "\n",
    "The `user id` column is a unique identifier for each row, so we check if there are any duplicate values in the column."
   ]
  },
  {
   "cell_type": "code",
   "execution_count": 7,
   "metadata": {},
   "outputs": [
    {
     "data": {
      "text/plain": [
       "0"
      ]
     },
     "execution_count": 7,
     "metadata": {},
     "output_type": "execute_result"
    }
   ],
   "source": [
    "df['user id'].duplicated().sum()"
   ]
  },
  {
   "attachments": {},
   "cell_type": "markdown",
   "metadata": {},
   "source": [
    "There no duplicate values in the `user id` column. This means that each row in the dataframe represents a unique user."
   ]
  },
  {
   "attachments": {},
   "cell_type": "markdown",
   "metadata": {},
   "source": [
    "#### Invalid Values\n",
    "\n",
    "We will check the following column whether it invalid values or not :\n",
    "- `test group` : If the value is not \"ad\" or \"psa\"\n",
    "- `converted` : If the value is not True or False\n",
    "- `total ads` : If the value is less than 0\n",
    "- `most ads day` : If the value is not between Monday, Tuesday, Wednesday, Thursday, Friday, Saturday, and Sunday\n",
    "- `most ads hour` : If the value is not between 0 and 23"
   ]
  },
  {
   "cell_type": "code",
   "execution_count": 8,
   "metadata": {},
   "outputs": [
    {
     "name": "stdout",
     "output_type": "stream",
     "text": [
      "['ad' 'psa']\n"
     ]
    }
   ],
   "source": [
    "# Check for variants test group\n",
    "unique_variant = df['test group'].unique()\n",
    "print(unique_variant)"
   ]
  },
  {
   "cell_type": "code",
   "execution_count": 9,
   "metadata": {},
   "outputs": [
    {
     "name": "stdout",
     "output_type": "stream",
     "text": [
      "[False  True]\n"
     ]
    }
   ],
   "source": [
    "# Check for conversion\n",
    "unique_conversion = df['converted'].unique()\n",
    "print(unique_conversion)"
   ]
  },
  {
   "cell_type": "code",
   "execution_count": 10,
   "metadata": {},
   "outputs": [
    {
     "name": "stdout",
     "output_type": "stream",
     "text": [
      "0\n"
     ]
    }
   ],
   "source": [
    "# Check value of total ads\n",
    "negative_total_ads = [i for i in df['total ads'] if i < 0]\n",
    "print(len(negative_total_ads))"
   ]
  },
  {
   "cell_type": "code",
   "execution_count": 11,
   "metadata": {},
   "outputs": [
    {
     "name": "stdout",
     "output_type": "stream",
     "text": [
      "0\n"
     ]
    }
   ],
   "source": [
    "# Check value of most ads day\n",
    "day_name = ['Monday', 'Tuesday', 'Wednesday', 'Thursday', 'Friday', 'Saturday', 'Sunday']\n",
    "\n",
    "# Lowercase the day name\n",
    "day_name = [day.lower() for day in day_name]\n",
    "\n",
    "# Check if there is a day that is not in the day_name list\n",
    "non_existing_day = [day for day in df['most ads day'] if day.lower() not in day_name]\n",
    "print(len(non_existing_day))"
   ]
  },
  {
   "cell_type": "code",
   "execution_count": 12,
   "metadata": {},
   "outputs": [
    {
     "name": "stdout",
     "output_type": "stream",
     "text": [
      "0\n"
     ]
    }
   ],
   "source": [
    "# Check value of most ads hour\n",
    "non_existing_hour = [hour for hour in df['most ads hour'] if hour < 0 or hour > 23]\n",
    "print(len(non_existing_hour))"
   ]
  },
  {
   "attachments": {},
   "cell_type": "markdown",
   "metadata": {},
   "source": [
    "There are no invalid values in the dataframe. This means that the data is clean and ready to be analyzed. "
   ]
  },
  {
   "cell_type": "code",
   "execution_count": 13,
   "metadata": {},
   "outputs": [],
   "source": [
    "def split_data(data):\n",
    "    # Copy the data\n",
    "    data = data.copy()\n",
    "\n",
    "    # Split into control and treatment group\n",
    "    control_data = data[data['group'] == 'control']\n",
    "    treatment_data = data[data['group'] == 'treatment']\n",
    "    \n",
    "    # reset index\n",
    "    control_data.reset_index(drop=True, inplace=True)\n",
    "    treatment_data.reset_index(drop=True, inplace=True)\n",
    "    \n",
    "    return control_data, treatment_data"
   ]
  },
  {
   "cell_type": "code",
   "execution_count": 14,
   "metadata": {},
   "outputs": [
    {
     "data": {
      "text/html": [
       "<div>\n",
       "<style scoped>\n",
       "    .dataframe tbody tr th:only-of-type {\n",
       "        vertical-align: middle;\n",
       "    }\n",
       "\n",
       "    .dataframe tbody tr th {\n",
       "        vertical-align: top;\n",
       "    }\n",
       "\n",
       "    .dataframe thead th {\n",
       "        text-align: right;\n",
       "    }\n",
       "</style>\n",
       "<table border=\"1\" class=\"dataframe\">\n",
       "  <thead>\n",
       "    <tr style=\"text-align: right;\">\n",
       "      <th></th>\n",
       "      <th>user id</th>\n",
       "      <th>test group</th>\n",
       "      <th>converted</th>\n",
       "      <th>total ads</th>\n",
       "      <th>most ads day</th>\n",
       "      <th>most ads hour</th>\n",
       "      <th>group</th>\n",
       "      <th>is conversion</th>\n",
       "    </tr>\n",
       "  </thead>\n",
       "  <tbody>\n",
       "    <tr>\n",
       "      <th>0</th>\n",
       "      <td>900681</td>\n",
       "      <td>psa</td>\n",
       "      <td>False</td>\n",
       "      <td>248</td>\n",
       "      <td>Saturday</td>\n",
       "      <td>19</td>\n",
       "      <td>control</td>\n",
       "      <td>0</td>\n",
       "    </tr>\n",
       "    <tr>\n",
       "      <th>1</th>\n",
       "      <td>905704</td>\n",
       "      <td>psa</td>\n",
       "      <td>False</td>\n",
       "      <td>27</td>\n",
       "      <td>Thursday</td>\n",
       "      <td>8</td>\n",
       "      <td>control</td>\n",
       "      <td>0</td>\n",
       "    </tr>\n",
       "    <tr>\n",
       "      <th>2</th>\n",
       "      <td>904595</td>\n",
       "      <td>psa</td>\n",
       "      <td>False</td>\n",
       "      <td>13</td>\n",
       "      <td>Tuesday</td>\n",
       "      <td>19</td>\n",
       "      <td>control</td>\n",
       "      <td>0</td>\n",
       "    </tr>\n",
       "    <tr>\n",
       "      <th>3</th>\n",
       "      <td>901904</td>\n",
       "      <td>psa</td>\n",
       "      <td>False</td>\n",
       "      <td>32</td>\n",
       "      <td>Wednesday</td>\n",
       "      <td>19</td>\n",
       "      <td>control</td>\n",
       "      <td>0</td>\n",
       "    </tr>\n",
       "    <tr>\n",
       "      <th>4</th>\n",
       "      <td>902234</td>\n",
       "      <td>psa</td>\n",
       "      <td>False</td>\n",
       "      <td>105</td>\n",
       "      <td>Tuesday</td>\n",
       "      <td>19</td>\n",
       "      <td>control</td>\n",
       "      <td>0</td>\n",
       "    </tr>\n",
       "    <tr>\n",
       "      <th>5</th>\n",
       "      <td>906079</td>\n",
       "      <td>psa</td>\n",
       "      <td>False</td>\n",
       "      <td>37</td>\n",
       "      <td>Monday</td>\n",
       "      <td>10</td>\n",
       "      <td>control</td>\n",
       "      <td>0</td>\n",
       "    </tr>\n",
       "    <tr>\n",
       "      <th>6</th>\n",
       "      <td>912103</td>\n",
       "      <td>psa</td>\n",
       "      <td>False</td>\n",
       "      <td>90</td>\n",
       "      <td>Friday</td>\n",
       "      <td>14</td>\n",
       "      <td>control</td>\n",
       "      <td>0</td>\n",
       "    </tr>\n",
       "    <tr>\n",
       "      <th>7</th>\n",
       "      <td>909288</td>\n",
       "      <td>psa</td>\n",
       "      <td>False</td>\n",
       "      <td>22</td>\n",
       "      <td>Friday</td>\n",
       "      <td>0</td>\n",
       "      <td>control</td>\n",
       "      <td>0</td>\n",
       "    </tr>\n",
       "    <tr>\n",
       "      <th>8</th>\n",
       "      <td>914634</td>\n",
       "      <td>psa</td>\n",
       "      <td>False</td>\n",
       "      <td>334</td>\n",
       "      <td>Thursday</td>\n",
       "      <td>18</td>\n",
       "      <td>control</td>\n",
       "      <td>0</td>\n",
       "    </tr>\n",
       "    <tr>\n",
       "      <th>9</th>\n",
       "      <td>903660</td>\n",
       "      <td>psa</td>\n",
       "      <td>False</td>\n",
       "      <td>1</td>\n",
       "      <td>Tuesday</td>\n",
       "      <td>19</td>\n",
       "      <td>control</td>\n",
       "      <td>0</td>\n",
       "    </tr>\n",
       "  </tbody>\n",
       "</table>\n",
       "</div>"
      ],
      "text/plain": [
       "   user id test group  converted  total ads most ads day  most ads hour  \\\n",
       "0   900681        psa      False        248     Saturday             19   \n",
       "1   905704        psa      False         27     Thursday              8   \n",
       "2   904595        psa      False         13      Tuesday             19   \n",
       "3   901904        psa      False         32    Wednesday             19   \n",
       "4   902234        psa      False        105      Tuesday             19   \n",
       "5   906079        psa      False         37       Monday             10   \n",
       "6   912103        psa      False         90       Friday             14   \n",
       "7   909288        psa      False         22       Friday              0   \n",
       "8   914634        psa      False        334     Thursday             18   \n",
       "9   903660        psa      False          1      Tuesday             19   \n",
       "\n",
       "     group  is conversion  \n",
       "0  control              0  \n",
       "1  control              0  \n",
       "2  control              0  \n",
       "3  control              0  \n",
       "4  control              0  \n",
       "5  control              0  \n",
       "6  control              0  \n",
       "7  control              0  \n",
       "8  control              0  \n",
       "9  control              0  "
      ]
     },
     "execution_count": 14,
     "metadata": {},
     "output_type": "execute_result"
    }
   ],
   "source": [
    "# Filter data into control group\n",
    "data_control = split_data(df)[0]\n",
    "\n",
    "# Display first 10 rows\n",
    "data_control.head(10)"
   ]
  },
  {
   "cell_type": "code",
   "execution_count": 15,
   "metadata": {},
   "outputs": [
    {
     "data": {
      "text/plain": [
       "array(['psa'], dtype=object)"
      ]
     },
     "execution_count": 15,
     "metadata": {},
     "output_type": "execute_result"
    }
   ],
   "source": [
    "# Check unique value of test group\n",
    "data_control['test group'].unique()"
   ]
  },
  {
   "cell_type": "code",
   "execution_count": 16,
   "metadata": {},
   "outputs": [
    {
     "data": {
      "text/html": [
       "<div>\n",
       "<style scoped>\n",
       "    .dataframe tbody tr th:only-of-type {\n",
       "        vertical-align: middle;\n",
       "    }\n",
       "\n",
       "    .dataframe tbody tr th {\n",
       "        vertical-align: top;\n",
       "    }\n",
       "\n",
       "    .dataframe thead th {\n",
       "        text-align: right;\n",
       "    }\n",
       "</style>\n",
       "<table border=\"1\" class=\"dataframe\">\n",
       "  <thead>\n",
       "    <tr style=\"text-align: right;\">\n",
       "      <th></th>\n",
       "      <th>user id</th>\n",
       "      <th>test group</th>\n",
       "      <th>converted</th>\n",
       "      <th>total ads</th>\n",
       "      <th>most ads day</th>\n",
       "      <th>most ads hour</th>\n",
       "      <th>group</th>\n",
       "      <th>is conversion</th>\n",
       "    </tr>\n",
       "  </thead>\n",
       "  <tbody>\n",
       "    <tr>\n",
       "      <th>0</th>\n",
       "      <td>1069124</td>\n",
       "      <td>ad</td>\n",
       "      <td>False</td>\n",
       "      <td>130</td>\n",
       "      <td>Monday</td>\n",
       "      <td>20</td>\n",
       "      <td>treatment</td>\n",
       "      <td>0</td>\n",
       "    </tr>\n",
       "    <tr>\n",
       "      <th>1</th>\n",
       "      <td>1119715</td>\n",
       "      <td>ad</td>\n",
       "      <td>False</td>\n",
       "      <td>93</td>\n",
       "      <td>Tuesday</td>\n",
       "      <td>22</td>\n",
       "      <td>treatment</td>\n",
       "      <td>0</td>\n",
       "    </tr>\n",
       "    <tr>\n",
       "      <th>2</th>\n",
       "      <td>1144181</td>\n",
       "      <td>ad</td>\n",
       "      <td>False</td>\n",
       "      <td>21</td>\n",
       "      <td>Tuesday</td>\n",
       "      <td>18</td>\n",
       "      <td>treatment</td>\n",
       "      <td>0</td>\n",
       "    </tr>\n",
       "    <tr>\n",
       "      <th>3</th>\n",
       "      <td>1435133</td>\n",
       "      <td>ad</td>\n",
       "      <td>False</td>\n",
       "      <td>355</td>\n",
       "      <td>Tuesday</td>\n",
       "      <td>10</td>\n",
       "      <td>treatment</td>\n",
       "      <td>0</td>\n",
       "    </tr>\n",
       "    <tr>\n",
       "      <th>4</th>\n",
       "      <td>1015700</td>\n",
       "      <td>ad</td>\n",
       "      <td>False</td>\n",
       "      <td>276</td>\n",
       "      <td>Friday</td>\n",
       "      <td>14</td>\n",
       "      <td>treatment</td>\n",
       "      <td>0</td>\n",
       "    </tr>\n",
       "    <tr>\n",
       "      <th>5</th>\n",
       "      <td>1137664</td>\n",
       "      <td>ad</td>\n",
       "      <td>False</td>\n",
       "      <td>734</td>\n",
       "      <td>Saturday</td>\n",
       "      <td>10</td>\n",
       "      <td>treatment</td>\n",
       "      <td>0</td>\n",
       "    </tr>\n",
       "    <tr>\n",
       "      <th>6</th>\n",
       "      <td>1116205</td>\n",
       "      <td>ad</td>\n",
       "      <td>False</td>\n",
       "      <td>264</td>\n",
       "      <td>Wednesday</td>\n",
       "      <td>13</td>\n",
       "      <td>treatment</td>\n",
       "      <td>0</td>\n",
       "    </tr>\n",
       "    <tr>\n",
       "      <th>7</th>\n",
       "      <td>1496843</td>\n",
       "      <td>ad</td>\n",
       "      <td>False</td>\n",
       "      <td>17</td>\n",
       "      <td>Sunday</td>\n",
       "      <td>18</td>\n",
       "      <td>treatment</td>\n",
       "      <td>0</td>\n",
       "    </tr>\n",
       "    <tr>\n",
       "      <th>8</th>\n",
       "      <td>1448851</td>\n",
       "      <td>ad</td>\n",
       "      <td>False</td>\n",
       "      <td>21</td>\n",
       "      <td>Tuesday</td>\n",
       "      <td>19</td>\n",
       "      <td>treatment</td>\n",
       "      <td>0</td>\n",
       "    </tr>\n",
       "    <tr>\n",
       "      <th>9</th>\n",
       "      <td>1446284</td>\n",
       "      <td>ad</td>\n",
       "      <td>False</td>\n",
       "      <td>142</td>\n",
       "      <td>Monday</td>\n",
       "      <td>14</td>\n",
       "      <td>treatment</td>\n",
       "      <td>0</td>\n",
       "    </tr>\n",
       "  </tbody>\n",
       "</table>\n",
       "</div>"
      ],
      "text/plain": [
       "   user id test group  converted  total ads most ads day  most ads hour  \\\n",
       "0  1069124         ad      False        130       Monday             20   \n",
       "1  1119715         ad      False         93      Tuesday             22   \n",
       "2  1144181         ad      False         21      Tuesday             18   \n",
       "3  1435133         ad      False        355      Tuesday             10   \n",
       "4  1015700         ad      False        276       Friday             14   \n",
       "5  1137664         ad      False        734     Saturday             10   \n",
       "6  1116205         ad      False        264    Wednesday             13   \n",
       "7  1496843         ad      False         17       Sunday             18   \n",
       "8  1448851         ad      False         21      Tuesday             19   \n",
       "9  1446284         ad      False        142       Monday             14   \n",
       "\n",
       "       group  is conversion  \n",
       "0  treatment              0  \n",
       "1  treatment              0  \n",
       "2  treatment              0  \n",
       "3  treatment              0  \n",
       "4  treatment              0  \n",
       "5  treatment              0  \n",
       "6  treatment              0  \n",
       "7  treatment              0  \n",
       "8  treatment              0  \n",
       "9  treatment              0  "
      ]
     },
     "execution_count": 16,
     "metadata": {},
     "output_type": "execute_result"
    }
   ],
   "source": [
    "# Filter data for treatment group\n",
    "data_treatment = split_data(df)[1]\n",
    "\n",
    "# display the first 10 rows of the data\n",
    "data_treatment.head(10)"
   ]
  },
  {
   "cell_type": "code",
   "execution_count": 17,
   "metadata": {},
   "outputs": [
    {
     "data": {
      "text/plain": [
       "array(['ad'], dtype=object)"
      ]
     },
     "execution_count": 17,
     "metadata": {},
     "output_type": "execute_result"
    }
   ],
   "source": [
    "data_treatment['test group'].unique()"
   ]
  },
  {
   "attachments": {},
   "cell_type": "markdown",
   "metadata": {},
   "source": [
    "### A/A Test\n",
    "\n",
    "The A/A test is a test that is conducted before the A/B test to make sure that the test groups are similar. The A/A test is conducted by randomly assigning users to two test groups, and then comparing the two groups to see if they are similar. If the two groups are similar, then the A/B test can be conducted. If the two groups are not similar, then the A/A test should be repeated until the two groups are similar."
   ]
  },
  {
   "cell_type": "code",
   "execution_count": 18,
   "metadata": {},
   "outputs": [
    {
     "data": {
      "text/plain": [
       "user id  test group  converted  total ads  most ads day  most ads hour  group    is conversion\n",
       "900000   psa         False      2          Wednesday     16             control  0                1\n",
       "915690   psa         False      40         Wednesday     17             control  0                1\n",
       "915688   psa         False      7          Monday        14             control  0                1\n",
       "915687   psa         False      7          Saturday      13             control  0                1\n",
       "915686   psa         False      7          Wednesday     20             control  0                1\n",
       "                                                                                                 ..\n",
       "907839   psa         False      24         Sunday        23             control  0                1\n",
       "907838   psa         False      1          Monday        20             control  0                1\n",
       "907837   psa         False      68         Friday        22             control  0                1\n",
       "907836   psa         False      15         Sunday        16             control  0                1\n",
       "923523   psa         False      3          Tuesday       16             control  0                1\n",
       "Length: 23524, dtype: int64"
      ]
     },
     "execution_count": 18,
     "metadata": {},
     "output_type": "execute_result"
    }
   ],
   "source": [
    "# Check value of most control and treatment group\n",
    "data_control.value_counts()"
   ]
  },
  {
   "cell_type": "code",
   "execution_count": 19,
   "metadata": {},
   "outputs": [
    {
     "data": {
      "image/png": "[encoded data removed]",
      "text/plain": [
       "<Figure size 1000x700 with 1 Axes>"
      ]
     },
     "metadata": {},
     "output_type": "display_data"
    }
   ],
   "source": [
    "fig, ax = plt.subplots(nrows=1, ncols=1, figsize=(10, 7))\n",
    "\n",
    "# Plot the distribution of the test group\n",
    "sns.countplot(\n",
    "    x='test group', \n",
    "    data=df, \n",
    "    ax=ax\n",
    ")\n",
    "\n",
    "fig.suptitle('Control and Treatment Distribution', fontsize=20)\n",
    "\n",
    "plt.show()"
   ]
  },
  {
   "attachments": {},
   "cell_type": "markdown",
   "metadata": {},
   "source": [
    "#### Sample Size\n",
    "\n",
    "Important steps in designing a research study includes determining the appropriate sample size. The number of participants or observations needed to achieve a certain level of accuracy and power in the statistical analysis is the sample size. For categorical data, such as yes/no responses or multiple choice options, the sample size calculation is based on proportions. Proportions are the fractions of the total sample that belong to each category. The sample size calculation for categorical data depends on several factors, such as:\n",
    "\n",
    "- The confidence level refers to the extent to which the estimation bears resemblance to the actual proportion of the population.\n",
    "- The margin of error is the degree of inaccuracy in the estimation that is considered acceptable.\n",
    "- The predicted proportion is the number that is considered to be the most probable representation of the population proportion, based on previous research or assumptions.\n",
    "- The effect size indicates the magnitude of difference that is expected to be observed between two proportions in a comparative study.\n",
    "\n",
    "Different formulas and methods for calculating the sample size for categorical data are available depending on the research question and design. In this article, some common approaches and examples for calculating sample size for categorical data are introduced.\n",
    "\n",
    "$$\n",
    "n = \\cfrac{Np(1-p)}{(N-1)\\cfrac{d^{2}}{z^{2}} + p(1-p)}\n",
    "$$\n",
    "\n",
    "where:\n",
    "- n is the sample size\n",
    "- N is the total population size\n",
    "- p is the proportion of the population that belongs to the category of interest\n",
    "- z is the z-score for the confidence level\n",
    "- d is the margin of error\n",
    "\n",
    "To calculate the margin of error (d), one can use the equation:\n",
    "$$\n",
    "d = z_{\\alpha/2} \\sqrt{\\widehat{\\text{var}} (\\hat{p})}\n",
    "$$\n",
    "    \n",
    "where:\n",
    "- $\\hat{p}$ is the proportion of the population that belongs to the category of interest\n",
    "\n",
    "To calculate $\\hat{p}$, one can use the equation:\n",
    "$$\n",
    "\\hat{p} = \\cfrac{a}{n}\n",
    "$$\n",
    "\n",
    "where:\n",
    "- a is the number of observations in the sample that belong to the category of interest\n",
    "\n",
    "However, if the proportion is unknown, then a value of 0.5 can be assumed for $\\hat{p}$.\n",
    "\n",
    "<br>\n",
    "\n",
    "</br>\n",
    "\n",
    "\n",
    "If the proportion is known, then one can estimate the variance value using the equation:\n",
    "$$\n",
    "\\widehat{\\text{var}}(\\hat{p}) =\n",
    "\\cfrac{\\hat{p}(1 - \\hat{p})}{n-1}\n",
    "$$\n",
    "\n",
    "where:\n",
    "- $\\widehat{\\text{var}}(\\hat{p})$ is Estimate the variance of proportion estimator\n",
    "- $\\hat{p}$ is the proportion of the population that belongs to the category of interest"
   ]
  },
  {
   "cell_type": "code",
   "execution_count": 20,
   "metadata": {},
   "outputs": [],
   "source": [
    "def proportion_sample_size(N: int, alpha: float, p_hat: float=0.05, d: float=0.05):\n",
    "    \"\"\"The sample size for categorical data can be determined by calculating the inputs of proportion, \n",
    "    margin of error, and confidence level\n",
    "\n",
    "    Args:\n",
    "        N (integer): population size\n",
    "        alpha (float): confidence level\n",
    "        p_hat (float, optional): proportion. Defaults to 0.05.\n",
    "        d (float, optional): margin of error. Defaults to 0.05.\n",
    "\n",
    "    Returns:\n",
    "        n (integer): sample size\n",
    "    \"\"\"\n",
    "    z_stat = stats.norm.ppf(1 - alpha/2.) # z-statistic\n",
    "    \n",
    "    # numerator\n",
    "    numerator = N * p_hat * (1-p_hat)\n",
    "    \n",
    "    # denominator\n",
    "    denominator = ((N-1) * d**2/z_stat**2) + (p_hat * (1-p_hat))\n",
    "    \n",
    "    # sample size\n",
    "    n = numerator/denominator\n",
    "    \n",
    "    return  int(np.ceil(n))"
   ]
  },
  {
   "cell_type": "code",
   "execution_count": 21,
   "metadata": {},
   "outputs": [
    {
     "name": "stdout",
     "output_type": "stream",
     "text": [
      "Number of sample size for A/A Test for each group: 1694 users\n"
     ]
    }
   ],
   "source": [
    "# sample size for control group\n",
    "n = proportion_sample_size(\n",
    "    N=df['test group'].value_counts()[1], \n",
    "    alpha=0.05, \n",
    "    p_hat=0.05, \n",
    "    d=0.01\n",
    ")\n",
    "print(f'Number of sample size for A/A Test for each group: {n} users')"
   ]
  },
  {
   "attachments": {},
   "cell_type": "markdown",
   "metadata": {},
   "source": [
    "#### Split the data into Control and Treatment\n",
    "\n",
    "Minimum sample size for each group is 1694."
   ]
  },
  {
   "cell_type": "code",
   "execution_count": 22,
   "metadata": {},
   "outputs": [],
   "source": [
    "def split_data_AA_test(data:pd.DataFrame, n_size: int):\n",
    "    \"\"\"Split data into control and treatment group for A/A Test\n",
    "\n",
    "    Args:\n",
    "        data (pd.DataFrame): Dataframe with the data\n",
    "        n_size (int): Number of sample size for each group\n",
    "\n",
    "    Returns:\n",
    "        control_data (pd.DataFrame): Dataframe with the control group\n",
    "        treatment_data (pd.DataFrame): Dataframe with the treatment group\n",
    "    \"\"\"\n",
    "    # Copy the data\n",
    "    data = data.copy()\n",
    "\n",
    "    # Split into control and treatment group\n",
    "    control_data = data.sample(n_size)\n",
    "    treatment_data = data.sample(n_size)\n",
    "    \n",
    "    # reset index\n",
    "    control_data.reset_index(drop=True, inplace=True)\n",
    "    treatment_data.reset_index(drop=True, inplace=True)\n",
    "    \n",
    "    return control_data, treatment_data"
   ]
  },
  {
   "cell_type": "code",
   "execution_count": 23,
   "metadata": {},
   "outputs": [
    {
     "data": {
      "text/plain": [
       "((1694, 8), (1694, 8))"
      ]
     },
     "execution_count": 23,
     "metadata": {},
     "output_type": "execute_result"
    }
   ],
   "source": [
    "# Sampling data for A/A test for each group\n",
    "AA_control, AA_treatment = split_data_AA_test(\n",
    "    data = data_control,\n",
    "    n_size=n\n",
    ")\n",
    "\n",
    "# Check the number of sample size for each group\n",
    "AA_control.shape, AA_treatment.shape"
   ]
  },
  {
   "attachments": {},
   "cell_type": "markdown",
   "metadata": {},
   "source": [
    "#### Calculate key evaluation criterion\n",
    "Find Conversion rate for each group using function `extract_evaluation_metric`"
   ]
  },
  {
   "cell_type": "code",
   "execution_count": 24,
   "metadata": {},
   "outputs": [],
   "source": [
    "def extract_evaluation_metric(data: pd.DataFrame):\n",
    "    \"\"\"Extract evaluation metric from the data\n",
    "\n",
    "    Args:\n",
    "        data (pd.DataFrame): Dataframe with the data\n",
    "\n",
    "    Returns:\n",
    "        result (dict): Dictionary with the evaluation metric\n",
    "    \"\"\"\n",
    "    # Number of sessions\n",
    "    n_session = int(data.shape[0])\n",
    "\n",
    "    # Number of conversion\n",
    "    n_conversion = int(data['is conversion'].sum())\n",
    "\n",
    "    # Conversion rate (in percentage)\n",
    "    conversion_rate = (n_conversion / n_session) * 100\n",
    "\n",
    "    # Store the result in a dictionary\n",
    "    result = {}\n",
    "    result['session'] = n_session\n",
    "    result['conversion'] = n_conversion\n",
    "    result['CVR'] = np.round(conversion_rate, 3)\n",
    "    \n",
    "    return result"
   ]
  },
  {
   "cell_type": "code",
   "execution_count": 25,
   "metadata": {},
   "outputs": [
    {
     "name": "stdout",
     "output_type": "stream",
     "text": [
      "Convesion Rate on Control: 1.476\n",
      "Convesion Rate on Treatment: 1.948\n"
     ]
    }
   ],
   "source": [
    "# Extract evaluation metric for each group\n",
    "AA_control_res = extract_evaluation_metric(data = AA_control)\n",
    "AA_treatment_res = extract_evaluation_metric(data = AA_treatment)\n",
    "\n",
    "# Print the result\n",
    "print(f\"Convesion Rate on Control: {AA_control_res['CVR']}\")\n",
    "print(f\"Convesion Rate on Treatment: {AA_treatment_res['CVR']}\")"
   ]
  },
  {
   "cell_type": "code",
   "execution_count": 26,
   "metadata": {},
   "outputs": [],
   "source": [
    "# Visualize the conversion rate in control group and treatment group\n",
    "def visualize_CVR(cvr_control: float, cvr_treatment: float):\n",
    "    \"\"\"Visualize the conversion rate in control group and treatment group\n",
    "\n",
    "    Args:\n",
    "        cvr_control (float): Conversion rate in control group\n",
    "        cvr_treatment (float): Conversion rate in treatment group\n",
    "        \n",
    "    Returns:\n",
    "        Bar plot of the conversion rate in control group and treatment group\n",
    "    \"\"\"\n",
    "    \n",
    "    # Create a DataFrame from the results\n",
    "    df = pd.DataFrame({\n",
    "            'Group': ['Control', 'Treatment'],\n",
    "            'CVR': [cvr_control, cvr_treatment]        \n",
    "        })\n",
    "\n",
    "    # Styling plot\n",
    "    sns.set_style(\"darkgrid\")\n",
    "    sns.set_palette(\"pastel\")\n",
    "    plt.style.use('ggplot')\n",
    "\n",
    "    # Create a figure and axis\n",
    "    fig, ax = plt.subplots(nrows=1, ncols=1, figsize=(8, 6), sharey=True)\n",
    "\n",
    "    # Create bar plots\n",
    "    sns.barplot(x=\"Group\", y=\"CVR\", data=df, ax=ax)\n",
    "\n",
    "    # Set titles for the subplots\n",
    "    ax.set_title('Conversion Rate Each Group')\n",
    "    \n",
    "    # Set labels for the subplots\n",
    "    ax.set_ylabel(\"Conversion Rate\", fontsize=16)\n",
    "    ax.set_xlabel(\"Group\", fontsize=16)\n",
    "    ax.set_xticklabels(labels=[\"control\", \"treatment\"], fontsize=16)\n",
    "    ax.legend(fontsize=16)\n",
    "\n",
    "    plt.show()"
   ]
  },
  {
   "cell_type": "code",
   "execution_count": 27,
   "metadata": {},
   "outputs": [
    {
     "name": "stderr",
     "output_type": "stream",
     "text": [
      "No artists with labels found to put in legend.  Note that artists whose label start with an underscore are ignored when legend() is called with no argument.\n"
     ]
    },
    {
     "data": {
      "image/png": "[encoded data removed]",
      "text/plain": [
       "<Figure size 800x600 with 1 Axes>"
      ]
     },
     "metadata": {},
     "output_type": "display_data"
    }
   ],
   "source": [
    "# Visualize the conversion rate in control group and treatment group\n",
    "visualize_CVR(\n",
    "    AA_control_res['CVR'],\n",
    "    AA_treatment_res['CVR']\n",
    ")"
   ]
  },
  {
   "attachments": {},
   "cell_type": "markdown",
   "metadata": {},
   "source": [
    "#### Calculate lift-over-baseline\n",
    "\n",
    "$$\n",
    "\\text{Lift} = CVR_{\\text{treatment}} - CVR_{\\text{control}}\n",
    "$$"
   ]
  },
  {
   "cell_type": "code",
   "execution_count": 28,
   "metadata": {},
   "outputs": [
    {
     "name": "stdout",
     "output_type": "stream",
     "text": [
      "Lift: 0.472\n"
     ]
    }
   ],
   "source": [
    "# Calculate the lift\n",
    "AA_lift = AA_treatment_res['CVR'] - AA_control_res['CVR']\n",
    "print(f\"Lift: {AA_lift}\")"
   ]
  },
  {
   "attachments": {},
   "cell_type": "markdown",
   "metadata": {},
   "source": [
    "#### Hypothese Testing\n",
    "\n",
    "A hypothesis testing for conversion rate concerning AA test is a declaration that juxtaposes the conversion rate of the control group and the treatment group in an experiment where both groups are exposed to the same conditions. The null hypothesis ($H_{0}$) states that there exists no difference between the conversion rates of the two groups, implying that conversion rate control = conversion rate treatment. The alternative hypothesis ($H_{1}$) postulates that there is a difference between the conversion rates of the two groups, implying that conversion rate control ≠ conversion rate treatment. The testing hypothesis can be formulated as follows:\n",
    "\n",
    "$$H_{0} : \\text{Cr}_{\\text{A}_{\\text{control}}} = \\text{Cr}_{\\text{A}_{\\text{treatment}}}$$\n",
    "$$H_{1} : \\text{Cr}_{\\text{A}_{\\text{control}}} \\neq \\text{Cr}_{\\text{A}_{\\text{treatment}}}$$\n",
    "\n",
    "The decision rule based on the p-value is as follows:\n",
    "- If the p-value is less than or equal to the predetermined level of significance (such as 0.05), reject the null hypothesis ($H_{0}$) and accept the alternative hypothesis ($H_{1}$).\n",
    "- If the p-value is greater than the predetermined level of significance, fail to reject the null hypothesis ($H_{0}$) and do not accept the alternative hypothesis ($H_{1}$)."
   ]
  },
  {
   "cell_type": "code",
   "execution_count": 29,
   "metadata": {},
   "outputs": [],
   "source": [
    "# Buat count conversion & total observation\n",
    "count_conversion = [AA_treatment_res['conversion'], AA_control_res['conversion']]\n",
    "count_observation = [AA_treatment_res['session'], AA_control_res['session']]"
   ]
  },
  {
   "cell_type": "code",
   "execution_count": 30,
   "metadata": {},
   "outputs": [],
   "source": [
    "# Buat alternative\n",
    "alternative_option = \"two-sided\""
   ]
  },
  {
   "cell_type": "code",
   "execution_count": 31,
   "metadata": {},
   "outputs": [
    {
     "name": "stdout",
     "output_type": "stream",
     "text": [
      "Z stats : 1.0596\n",
      "P-value : 0.2893\n"
     ]
    }
   ],
   "source": [
    "# Panggil fungsi\n",
    "z_stat, p_value = proportions_ztest(count = count_conversion,\n",
    "                                       nobs = count_observation,\n",
    "                                       alternative = alternative_option)\n",
    "\n",
    "print(f\"Z stats : {z_stat:.4f}\")\n",
    "print(f\"P-value : {p_value:.4f}\")"
   ]
  },
  {
   "attachments": {},
   "cell_type": "markdown",
   "metadata": {},
   "source": [
    "In order to assess the dependability of the sampling method, we performed 1000 simulations of the A/A test, and for each trial, we computed the corresponding p-value. The results demonstrated that 5% of the trials yielded a p-value greater than 0.05, which suggests that the sampling method has the potential to produce false negatives in some cases."
   ]
  },
  {
   "cell_type": "code",
   "execution_count": 32,
   "metadata": {},
   "outputs": [],
   "source": [
    "def proportion_AA_Test(data: pd.DataFrame, i: int, alternative_option: str = \"two-sided\"):\n",
    "    \"\"\"Calculate the p-value for A/A Test using proportions_ztest\n",
    "\n",
    "    Args:\n",
    "        data (pd.DataFrame): Dataframe with the data\n",
    "        i (int): Index of the data\n",
    "        alternative_option (str, optional): Alternative option for the test. Defaults to \"two-sided\".\n",
    "\n",
    "    Returns:\n",
    "        p_value (float): P-value for the test\n",
    "    \"\"\"\n",
    "    # Create count conversion & total observation\n",
    "    count_conversion = [data['n_cr_2'][i], data['n_cr_1'][i]]\n",
    "    count_observation = [data['n_obs_2'][i], data['n_obs_1'][i]]\n",
    "    \n",
    "    # Find p-value\n",
    "    p_value = proportions_ztest(\n",
    "        count=count_conversion,\n",
    "        nobs=count_observation,\n",
    "        alternative=alternative_option\n",
    "    )[1]\n",
    "    \n",
    "    return p_value"
   ]
  },
  {
   "cell_type": "code",
   "execution_count": 33,
   "metadata": {},
   "outputs": [],
   "source": [
    "def proportion_p_values(\n",
    "        dataset: pd.DataFrame, \n",
    "        column: str,\n",
    "        interest: str,\n",
    "        n_sample: int, \n",
    "        n_iter: int\n",
    "    ):\n",
    "    \"\"\"Calculate the p-value for A/A Test using proportions_ztest\n",
    "\n",
    "    Args:\n",
    "        dataset (pd.DataFrame): Dataframe with the data\n",
    "        column (str): Column name\n",
    "        interest (str): Condition of the column\n",
    "        n_sample (int): Sample size\n",
    "        n_iter (int): Number of iteration\n",
    "\n",
    "    Returns:\n",
    "        df_result (pd.DataFrame): Dataframe with the p-value for each iteration\n",
    "    \"\"\"\n",
    "    # defining variables\n",
    "    # Control group property list\n",
    "    c_n_obs_list = []\n",
    "    c_n_cr_list = []\n",
    "    c_cr_list = [] \n",
    "    # Treatment group property list\n",
    "    t_n_obs_list = []\n",
    "    t_n_cr_list = []\n",
    "    t_cr_list = []\n",
    "\n",
    "    # loop for each n iteration\n",
    "    for _ in range(n_iter):\n",
    "        # sampling data for A/A test based on the sample size\n",
    "        group_A1  = dataset[dataset[column] == interest].sample(n=n_sample, replace=False)\n",
    "        group_A2  = dataset[dataset[column] == interest].sample(n=n_sample, replace=False)\n",
    "    \n",
    "        # count conversion\n",
    "        n_conversion_A1 = group_A1['is conversion'].sum()\n",
    "        n_conversion_A2 = group_A2['is conversion'].sum()\n",
    "    \n",
    "        # count conversion rate\n",
    "        cr_A1 = n_conversion_A1 / group_A1.shape[0]\n",
    "        cr_A2 = n_conversion_A2 / group_A2.shape[0]\n",
    "    \n",
    "        # append to list\n",
    "        c_n_obs_list.append(group_A1.shape[0])\n",
    "        c_n_cr_list.append(n_conversion_A1)\n",
    "        c_cr_list.append(cr_A1)\n",
    "        t_n_obs_list.append(group_A2.shape[0])\n",
    "        t_n_cr_list.append(n_conversion_A2)\n",
    "        t_cr_list.append(cr_A2)\n",
    "    \n",
    "    # Convert list to dataframe\n",
    "    df_metrics = pd.DataFrame({\n",
    "        'n_obs_1': c_n_obs_list,\n",
    "        'n_obs_2': t_n_obs_list,\n",
    "        'n_cr_1': c_n_cr_list,\n",
    "        'n_cr_2': t_n_cr_list,\n",
    "        'cr_1': c_cr_list,\n",
    "        'cr_2': t_cr_list\n",
    "    })\n",
    "\n",
    "    p_value_list = []\n",
    "    # Calculate p-value A/A test\n",
    "    for i in range(n_iter):\n",
    "        # Find the A/A test p-value\n",
    "        p_value = proportion_AA_Test(\n",
    "            data=df_metrics,\n",
    "            i=i,\n",
    "            alternative_option=\"two-sided\"\n",
    "        )\n",
    "        # append to list\n",
    "        p_value_list.append(p_value)\n",
    "        \n",
    "    # Convert p_value_list to dataframe\n",
    "    df_results = pd.DataFrame(\n",
    "        data=p_value_list,\n",
    "        columns=['p_value']\n",
    "    )\n",
    "        \n",
    "    return df_results"
   ]
  },
  {
   "cell_type": "code",
   "execution_count": 34,
   "metadata": {},
   "outputs": [
    {
     "data": {
      "text/html": [
       "<div>\n",
       "<style scoped>\n",
       "    .dataframe tbody tr th:only-of-type {\n",
       "        vertical-align: middle;\n",
       "    }\n",
       "\n",
       "    .dataframe tbody tr th {\n",
       "        vertical-align: top;\n",
       "    }\n",
       "\n",
       "    .dataframe thead th {\n",
       "        text-align: right;\n",
       "    }\n",
       "</style>\n",
       "<table border=\"1\" class=\"dataframe\">\n",
       "  <thead>\n",
       "    <tr style=\"text-align: right;\">\n",
       "      <th></th>\n",
       "      <th>p_value</th>\n",
       "    </tr>\n",
       "  </thead>\n",
       "  <tbody>\n",
       "    <tr>\n",
       "      <th>0</th>\n",
       "      <td>0.149743</td>\n",
       "    </tr>\n",
       "    <tr>\n",
       "      <th>1</th>\n",
       "      <td>0.100321</td>\n",
       "    </tr>\n",
       "    <tr>\n",
       "      <th>2</th>\n",
       "      <td>0.667513</td>\n",
       "    </tr>\n",
       "    <tr>\n",
       "      <th>3</th>\n",
       "      <td>0.541132</td>\n",
       "    </tr>\n",
       "    <tr>\n",
       "      <th>4</th>\n",
       "      <td>0.287641</td>\n",
       "    </tr>\n",
       "    <tr>\n",
       "      <th>5</th>\n",
       "      <td>0.486599</td>\n",
       "    </tr>\n",
       "    <tr>\n",
       "      <th>6</th>\n",
       "      <td>0.923675</td>\n",
       "    </tr>\n",
       "    <tr>\n",
       "      <th>7</th>\n",
       "      <td>0.085990</td>\n",
       "    </tr>\n",
       "    <tr>\n",
       "      <th>8</th>\n",
       "      <td>0.506182</td>\n",
       "    </tr>\n",
       "    <tr>\n",
       "      <th>9</th>\n",
       "      <td>0.756364</td>\n",
       "    </tr>\n",
       "  </tbody>\n",
       "</table>\n",
       "</div>"
      ],
      "text/plain": [
       "    p_value\n",
       "0  0.149743\n",
       "1  0.100321\n",
       "2  0.667513\n",
       "3  0.541132\n",
       "4  0.287641\n",
       "5  0.486599\n",
       "6  0.923675\n",
       "7  0.085990\n",
       "8  0.506182\n",
       "9  0.756364"
      ]
     },
     "execution_count": 34,
     "metadata": {},
     "output_type": "execute_result"
    }
   ],
   "source": [
    "# Calculate p-value\n",
    "df_results = proportion_p_values(\n",
    "    dataset=data_control,\n",
    "    column='test group',\n",
    "    interest='psa',\n",
    "    n_sample=3000,\n",
    "    n_iter=1000\n",
    ")\n",
    "\n",
    "df_results.head(10)"
   ]
  },
  {
   "cell_type": "code",
   "execution_count": 35,
   "metadata": {},
   "outputs": [],
   "source": [
    "def p_value_distribution(data: pd.DataFrame):\n",
    "    \"\"\"Visualize the p-value distribution using histogram plot\n",
    "\n",
    "    Args:\n",
    "        df_results (pd.DataFrame): Dataframe with the p-value for each iteration\n",
    "\n",
    "    Returns:\n",
    "        Histogram plot of the p-value distribution\n",
    "    \"\"\"\n",
    "    # Styling plot\n",
    "    sns.set_style(\"darkgrid\")\n",
    "    sns.set_palette(\"pastel\")\n",
    "    plt.style.use('ggplot')\n",
    "\n",
    "    # Create a figure and axis\n",
    "    fig, ax = plt.subplots(nrows=1, ncols=1, figsize=(8, 6))\n",
    "\n",
    "    # Create bar plots\n",
    "    sns.histplot(\n",
    "        data['p_value'], \n",
    "        bins=20,\n",
    "        ax=ax\n",
    "    )\n",
    "\n",
    "    # Set titles for the subplots\n",
    "    ax.set_title('P-value Distribution')\n",
    "\n",
    "    # Set y-label for the left subplot\n",
    "    ax.set_ylabel('Frequency')\n",
    "\n",
    "    plt.show()"
   ]
  },
  {
   "cell_type": "code",
   "execution_count": 36,
   "metadata": {},
   "outputs": [
    {
     "data": {
      "image/png": "[encoded data removed]",
      "text/plain": [
       "<Figure size 800x600 with 1 Axes>"
      ]
     },
     "metadata": {},
     "output_type": "display_data"
    }
   ],
   "source": [
    "# plot p-value distribution\n",
    "p_value_distribution(df_results)"
   ]
  },
  {
   "attachments": {},
   "cell_type": "markdown",
   "metadata": {},
   "source": [
    "#### Kolmogorov-Smirnov Test\n",
    "Upon completion of the determination of the p-value in the AA test, the Kolmogorov-Smirnov test will be conducted to compare the cumulative distribution functions of the two samples. The Kolmogorov-Smirnov test is a nonparametric test that refrains from assuming any specific distribution for the samples. The test statistic denotes the maximum absolute difference between the two cumulative distribution functions. The null hypothesis infers that the two samples originate from the same distribution. In the event that the p-value of the test is less than 0.05, indicating a substantial difference between the two samples, the null hypothesis will be rejected."
   ]
  },
  {
   "attachments": {},
   "cell_type": "markdown",
   "metadata": {},
   "source": [
    "Subsequently, the goodness-of-fit test is conducted for n p-values data.\n",
    "- The **Kolmogorov-Smirnov** test can be employed for the goodness-of-fit test.\n",
    "- It is necessary that the distribution of p-values be **uniform**.\n",
    "\n",
    "The hypothesis pertaining to the goodness-of-fit test for uniform distribution is as follows:\n",
    "- $H_0$ : The data adhere to a uniform distribution\n",
    "- $H_1$ : The data deviate from a uniform distribution."
   ]
  },
  {
   "cell_type": "code",
   "execution_count": 37,
   "metadata": {},
   "outputs": [],
   "source": [
    "def ks_test(data: pd.DataFrame):\n",
    "    \"\"\" Function to perform the Kolmogorov-Smirnov test\n",
    "\n",
    "    Args:\n",
    "        data (pd.DataFrame): Data with p-values column\n",
    "\n",
    "    Returns:\n",
    "        p_value(float): p-value of the Kolmogorov-Smirnov test\n",
    "    \"\"\"\n",
    "    # Perform the Kolmogorov-Smirnov test\n",
    "    result = stats.kstest(\n",
    "        rvs=data['p_value'],\n",
    "        cdf='uniform'\n",
    "    )\n",
    "    \n",
    "    # Save the p-value\n",
    "    p_value = result[1]\n",
    "    \n",
    "    return p_value"
   ]
  },
  {
   "cell_type": "code",
   "execution_count": 38,
   "metadata": {},
   "outputs": [
    {
     "name": "stdout",
     "output_type": "stream",
     "text": [
      "p-value : 0.1085\n"
     ]
    }
   ],
   "source": [
    "# Perform the Kolmogorov-Smirnov test\n",
    "AA_result_ks = ks_test(df_results)\n",
    "\n",
    "print(f\"p-value : {AA_result_ks:.4f}\")"
   ]
  },
  {
   "cell_type": "code",
   "execution_count": 39,
   "metadata": {},
   "outputs": [
    {
     "name": "stdout",
     "output_type": "stream",
     "text": [
      "Decision : Fail to Reject Null Hypothesis\n"
     ]
    }
   ],
   "source": [
    "# Make decision from kolmogorof smirnov test\n",
    "# We can compare p-value with alpha\n",
    "# if p-value > alpha, then fail to reject H0. It means that the data is uniformly distributed\n",
    "\n",
    "alpha = 0.05\n",
    "if(p_value <  alpha):\n",
    "  print(\"Decision : Reject Null Hypothesis\")\n",
    "else:\n",
    "  print(\"Decision : Fail to Reject Null Hypothesis\")"
   ]
  },
  {
   "attachments": {},
   "cell_type": "markdown",
   "metadata": {},
   "source": [
    "In the event of null hypothesis rejection in the Kolmogorov-Smirnov test, it can be inferred that the data fails to comply with the anticipated distribution. This could potentially point towards an issue in the experimental design, such as sampling bias or measurement error. One probable approach to tackle this situation is the elimination of outliers located at the upper limit of the data, which may skew the distribution. The ensuing steps can be implemented to achieve this:\n",
    "\n",
    "- Identification of the outliers through employment of a boxplot or a z-score method.\n",
    "- Separation of the outliers from the data set and their storage in a distinct file for further examination.\n",
    "- Execution of the Kolmogorov-Smirnov test on the amended data set and evaluation of the acceptance or rejection of the null hypothesis.\n",
    "- In the scenario of null hypothesis rejection, consideration of other feasible causes for the disparity, and modification of the experimental design accordingly.\n",
    "- If the null hypothesis is accepted, progress with the data analysis utilizing the modified data set."
   ]
  },
  {
   "attachments": {},
   "cell_type": "markdown",
   "metadata": {},
   "source": [
    "### A/B Test\n",
    "#### Load the data"
   ]
  },
  {
   "cell_type": "code",
   "execution_count": 40,
   "metadata": {},
   "outputs": [
    {
     "name": "stdout",
     "output_type": "stream",
     "text": [
      "Total entry 588101\n"
     ]
    },
    {
     "data": {
      "text/html": [
       "<div>\n",
       "<style scoped>\n",
       "    .dataframe tbody tr th:only-of-type {\n",
       "        vertical-align: middle;\n",
       "    }\n",
       "\n",
       "    .dataframe tbody tr th {\n",
       "        vertical-align: top;\n",
       "    }\n",
       "\n",
       "    .dataframe thead th {\n",
       "        text-align: right;\n",
       "    }\n",
       "</style>\n",
       "<table border=\"1\" class=\"dataframe\">\n",
       "  <thead>\n",
       "    <tr style=\"text-align: right;\">\n",
       "      <th></th>\n",
       "      <th>user id</th>\n",
       "      <th>test group</th>\n",
       "      <th>converted</th>\n",
       "      <th>total ads</th>\n",
       "      <th>most ads day</th>\n",
       "      <th>most ads hour</th>\n",
       "      <th>group</th>\n",
       "      <th>is conversion</th>\n",
       "    </tr>\n",
       "  </thead>\n",
       "  <tbody>\n",
       "    <tr>\n",
       "      <th>0</th>\n",
       "      <td>1069124</td>\n",
       "      <td>ad</td>\n",
       "      <td>False</td>\n",
       "      <td>130</td>\n",
       "      <td>Monday</td>\n",
       "      <td>20</td>\n",
       "      <td>treatment</td>\n",
       "      <td>0</td>\n",
       "    </tr>\n",
       "    <tr>\n",
       "      <th>1</th>\n",
       "      <td>1119715</td>\n",
       "      <td>ad</td>\n",
       "      <td>False</td>\n",
       "      <td>93</td>\n",
       "      <td>Tuesday</td>\n",
       "      <td>22</td>\n",
       "      <td>treatment</td>\n",
       "      <td>0</td>\n",
       "    </tr>\n",
       "    <tr>\n",
       "      <th>2</th>\n",
       "      <td>1144181</td>\n",
       "      <td>ad</td>\n",
       "      <td>False</td>\n",
       "      <td>21</td>\n",
       "      <td>Tuesday</td>\n",
       "      <td>18</td>\n",
       "      <td>treatment</td>\n",
       "      <td>0</td>\n",
       "    </tr>\n",
       "    <tr>\n",
       "      <th>3</th>\n",
       "      <td>1435133</td>\n",
       "      <td>ad</td>\n",
       "      <td>False</td>\n",
       "      <td>355</td>\n",
       "      <td>Tuesday</td>\n",
       "      <td>10</td>\n",
       "      <td>treatment</td>\n",
       "      <td>0</td>\n",
       "    </tr>\n",
       "    <tr>\n",
       "      <th>4</th>\n",
       "      <td>1015700</td>\n",
       "      <td>ad</td>\n",
       "      <td>False</td>\n",
       "      <td>276</td>\n",
       "      <td>Friday</td>\n",
       "      <td>14</td>\n",
       "      <td>treatment</td>\n",
       "      <td>0</td>\n",
       "    </tr>\n",
       "    <tr>\n",
       "      <th>5</th>\n",
       "      <td>1137664</td>\n",
       "      <td>ad</td>\n",
       "      <td>False</td>\n",
       "      <td>734</td>\n",
       "      <td>Saturday</td>\n",
       "      <td>10</td>\n",
       "      <td>treatment</td>\n",
       "      <td>0</td>\n",
       "    </tr>\n",
       "    <tr>\n",
       "      <th>6</th>\n",
       "      <td>1116205</td>\n",
       "      <td>ad</td>\n",
       "      <td>False</td>\n",
       "      <td>264</td>\n",
       "      <td>Wednesday</td>\n",
       "      <td>13</td>\n",
       "      <td>treatment</td>\n",
       "      <td>0</td>\n",
       "    </tr>\n",
       "    <tr>\n",
       "      <th>7</th>\n",
       "      <td>1496843</td>\n",
       "      <td>ad</td>\n",
       "      <td>False</td>\n",
       "      <td>17</td>\n",
       "      <td>Sunday</td>\n",
       "      <td>18</td>\n",
       "      <td>treatment</td>\n",
       "      <td>0</td>\n",
       "    </tr>\n",
       "    <tr>\n",
       "      <th>8</th>\n",
       "      <td>1448851</td>\n",
       "      <td>ad</td>\n",
       "      <td>False</td>\n",
       "      <td>21</td>\n",
       "      <td>Tuesday</td>\n",
       "      <td>19</td>\n",
       "      <td>treatment</td>\n",
       "      <td>0</td>\n",
       "    </tr>\n",
       "    <tr>\n",
       "      <th>9</th>\n",
       "      <td>1446284</td>\n",
       "      <td>ad</td>\n",
       "      <td>False</td>\n",
       "      <td>142</td>\n",
       "      <td>Monday</td>\n",
       "      <td>14</td>\n",
       "      <td>treatment</td>\n",
       "      <td>0</td>\n",
       "    </tr>\n",
       "  </tbody>\n",
       "</table>\n",
       "</div>"
      ],
      "text/plain": [
       "   user id test group  converted  total ads most ads day  most ads hour  \\\n",
       "0  1069124         ad      False        130       Monday             20   \n",
       "1  1119715         ad      False         93      Tuesday             22   \n",
       "2  1144181         ad      False         21      Tuesday             18   \n",
       "3  1435133         ad      False        355      Tuesday             10   \n",
       "4  1015700         ad      False        276       Friday             14   \n",
       "5  1137664         ad      False        734     Saturday             10   \n",
       "6  1116205         ad      False        264    Wednesday             13   \n",
       "7  1496843         ad      False         17       Sunday             18   \n",
       "8  1448851         ad      False         21      Tuesday             19   \n",
       "9  1446284         ad      False        142       Monday             14   \n",
       "\n",
       "       group  is conversion  \n",
       "0  treatment              0  \n",
       "1  treatment              0  \n",
       "2  treatment              0  \n",
       "3  treatment              0  \n",
       "4  treatment              0  \n",
       "5  treatment              0  \n",
       "6  treatment              0  \n",
       "7  treatment              0  \n",
       "8  treatment              0  \n",
       "9  treatment              0  "
      ]
     },
     "execution_count": 40,
     "metadata": {},
     "output_type": "execute_result"
    }
   ],
   "source": [
    "# file path\n",
    "filename = 'dataset/marketing_AB.csv'\n",
    "\n",
    "# Load data\n",
    "ab_data = load_data(filename)\n",
    "\n",
    "# display first 10 rows\n",
    "ab_data.head(10)"
   ]
  },
  {
   "attachments": {},
   "cell_type": "markdown",
   "metadata": {},
   "source": [
    "#### Check Invalid Data\n",
    "\n",
    "Check if there are any invalid data in the dataset."
   ]
  },
  {
   "cell_type": "code",
   "execution_count": 41,
   "metadata": {},
   "outputs": [
    {
     "data": {
      "text/html": [
       "<div>\n",
       "<style scoped>\n",
       "    .dataframe tbody tr th:only-of-type {\n",
       "        vertical-align: middle;\n",
       "    }\n",
       "\n",
       "    .dataframe tbody tr th {\n",
       "        vertical-align: top;\n",
       "    }\n",
       "\n",
       "    .dataframe thead th {\n",
       "        text-align: right;\n",
       "    }\n",
       "</style>\n",
       "<table border=\"1\" class=\"dataframe\">\n",
       "  <thead>\n",
       "    <tr style=\"text-align: right;\">\n",
       "      <th></th>\n",
       "      <th>user id</th>\n",
       "      <th>test group</th>\n",
       "      <th>converted</th>\n",
       "      <th>total ads</th>\n",
       "      <th>most ads day</th>\n",
       "      <th>most ads hour</th>\n",
       "      <th>group</th>\n",
       "      <th>is conversion</th>\n",
       "    </tr>\n",
       "  </thead>\n",
       "  <tbody>\n",
       "  </tbody>\n",
       "</table>\n",
       "</div>"
      ],
      "text/plain": [
       "Empty DataFrame\n",
       "Columns: [user id, test group, converted, total ads, most ads day, most ads hour, group, is conversion]\n",
       "Index: []"
      ]
     },
     "execution_count": 41,
     "metadata": {},
     "output_type": "execute_result"
    }
   ],
   "source": [
    "### Check if there is any control with ad or treatment with psa\n",
    "condition_1 = (ab_data['group'] == 'control') & (ab_data['test group'] == 'ad')\n",
    "condition_2 = (ab_data['group'] == 'treatment') & (ab_data['test group'] == 'psa')\n",
    "\n",
    "# Display the data\n",
    "ab_data[condition_1 | condition_2]"
   ]
  },
  {
   "attachments": {},
   "cell_type": "markdown",
   "metadata": {},
   "source": [
    "There no invalid data in the dataset. So we can continue to the next step."
   ]
  },
  {
   "attachments": {},
   "cell_type": "markdown",
   "metadata": {},
   "source": [
    "#### Calculating Metrics - Conversion Rate\n",
    "\n",
    "The goal metric is the proportion of users who converted in each test group. This can be calculated by dividing the number of users who converted by the total number of users in each group."
   ]
  },
  {
   "attachments": {},
   "cell_type": "markdown",
   "metadata": {},
   "source": [
    "##### Split the data into Control and Treatment"
   ]
  },
  {
   "cell_type": "markdown",
   "metadata": {},
   "source": [
    "Seperate the dataframe into two dataframes, one for users who saw the ad and one for users who saw the psa."
   ]
  },
  {
   "cell_type": "code",
   "execution_count": 42,
   "metadata": {},
   "outputs": [
    {
     "data": {
      "text/html": [
       "<div>\n",
       "<style scoped>\n",
       "    .dataframe tbody tr th:only-of-type {\n",
       "        vertical-align: middle;\n",
       "    }\n",
       "\n",
       "    .dataframe tbody tr th {\n",
       "        vertical-align: top;\n",
       "    }\n",
       "\n",
       "    .dataframe thead th {\n",
       "        text-align: right;\n",
       "    }\n",
       "</style>\n",
       "<table border=\"1\" class=\"dataframe\">\n",
       "  <thead>\n",
       "    <tr style=\"text-align: right;\">\n",
       "      <th></th>\n",
       "      <th>user id</th>\n",
       "      <th>test group</th>\n",
       "      <th>converted</th>\n",
       "      <th>total ads</th>\n",
       "      <th>most ads day</th>\n",
       "      <th>most ads hour</th>\n",
       "      <th>group</th>\n",
       "      <th>is conversion</th>\n",
       "    </tr>\n",
       "  </thead>\n",
       "  <tbody>\n",
       "    <tr>\n",
       "      <th>0</th>\n",
       "      <td>900681</td>\n",
       "      <td>psa</td>\n",
       "      <td>False</td>\n",
       "      <td>248</td>\n",
       "      <td>Saturday</td>\n",
       "      <td>19</td>\n",
       "      <td>control</td>\n",
       "      <td>0</td>\n",
       "    </tr>\n",
       "    <tr>\n",
       "      <th>1</th>\n",
       "      <td>905704</td>\n",
       "      <td>psa</td>\n",
       "      <td>False</td>\n",
       "      <td>27</td>\n",
       "      <td>Thursday</td>\n",
       "      <td>8</td>\n",
       "      <td>control</td>\n",
       "      <td>0</td>\n",
       "    </tr>\n",
       "    <tr>\n",
       "      <th>2</th>\n",
       "      <td>904595</td>\n",
       "      <td>psa</td>\n",
       "      <td>False</td>\n",
       "      <td>13</td>\n",
       "      <td>Tuesday</td>\n",
       "      <td>19</td>\n",
       "      <td>control</td>\n",
       "      <td>0</td>\n",
       "    </tr>\n",
       "    <tr>\n",
       "      <th>3</th>\n",
       "      <td>901904</td>\n",
       "      <td>psa</td>\n",
       "      <td>False</td>\n",
       "      <td>32</td>\n",
       "      <td>Wednesday</td>\n",
       "      <td>19</td>\n",
       "      <td>control</td>\n",
       "      <td>0</td>\n",
       "    </tr>\n",
       "    <tr>\n",
       "      <th>4</th>\n",
       "      <td>902234</td>\n",
       "      <td>psa</td>\n",
       "      <td>False</td>\n",
       "      <td>105</td>\n",
       "      <td>Tuesday</td>\n",
       "      <td>19</td>\n",
       "      <td>control</td>\n",
       "      <td>0</td>\n",
       "    </tr>\n",
       "    <tr>\n",
       "      <th>5</th>\n",
       "      <td>906079</td>\n",
       "      <td>psa</td>\n",
       "      <td>False</td>\n",
       "      <td>37</td>\n",
       "      <td>Monday</td>\n",
       "      <td>10</td>\n",
       "      <td>control</td>\n",
       "      <td>0</td>\n",
       "    </tr>\n",
       "    <tr>\n",
       "      <th>6</th>\n",
       "      <td>912103</td>\n",
       "      <td>psa</td>\n",
       "      <td>False</td>\n",
       "      <td>90</td>\n",
       "      <td>Friday</td>\n",
       "      <td>14</td>\n",
       "      <td>control</td>\n",
       "      <td>0</td>\n",
       "    </tr>\n",
       "    <tr>\n",
       "      <th>7</th>\n",
       "      <td>909288</td>\n",
       "      <td>psa</td>\n",
       "      <td>False</td>\n",
       "      <td>22</td>\n",
       "      <td>Friday</td>\n",
       "      <td>0</td>\n",
       "      <td>control</td>\n",
       "      <td>0</td>\n",
       "    </tr>\n",
       "    <tr>\n",
       "      <th>8</th>\n",
       "      <td>914634</td>\n",
       "      <td>psa</td>\n",
       "      <td>False</td>\n",
       "      <td>334</td>\n",
       "      <td>Thursday</td>\n",
       "      <td>18</td>\n",
       "      <td>control</td>\n",
       "      <td>0</td>\n",
       "    </tr>\n",
       "    <tr>\n",
       "      <th>9</th>\n",
       "      <td>903660</td>\n",
       "      <td>psa</td>\n",
       "      <td>False</td>\n",
       "      <td>1</td>\n",
       "      <td>Tuesday</td>\n",
       "      <td>19</td>\n",
       "      <td>control</td>\n",
       "      <td>0</td>\n",
       "    </tr>\n",
       "  </tbody>\n",
       "</table>\n",
       "</div>"
      ],
      "text/plain": [
       "   user id test group  converted  total ads most ads day  most ads hour  \\\n",
       "0   900681        psa      False        248     Saturday             19   \n",
       "1   905704        psa      False         27     Thursday              8   \n",
       "2   904595        psa      False         13      Tuesday             19   \n",
       "3   901904        psa      False         32    Wednesday             19   \n",
       "4   902234        psa      False        105      Tuesday             19   \n",
       "5   906079        psa      False         37       Monday             10   \n",
       "6   912103        psa      False         90       Friday             14   \n",
       "7   909288        psa      False         22       Friday              0   \n",
       "8   914634        psa      False        334     Thursday             18   \n",
       "9   903660        psa      False          1      Tuesday             19   \n",
       "\n",
       "     group  is conversion  \n",
       "0  control              0  \n",
       "1  control              0  \n",
       "2  control              0  \n",
       "3  control              0  \n",
       "4  control              0  \n",
       "5  control              0  \n",
       "6  control              0  \n",
       "7  control              0  \n",
       "8  control              0  \n",
       "9  control              0  "
      ]
     },
     "execution_count": 42,
     "metadata": {},
     "output_type": "execute_result"
    }
   ],
   "source": [
    "# Filter data into control group\n",
    "data_control = split_data(df)[0]\n",
    "\n",
    "# Display first 10 rows\n",
    "data_control.head(10)"
   ]
  },
  {
   "cell_type": "code",
   "execution_count": 43,
   "metadata": {},
   "outputs": [
    {
     "data": {
      "text/plain": [
       "array(['psa'], dtype=object)"
      ]
     },
     "execution_count": 43,
     "metadata": {},
     "output_type": "execute_result"
    }
   ],
   "source": [
    "# Check unique value of test group\n",
    "data_control['test group'].unique()"
   ]
  },
  {
   "cell_type": "code",
   "execution_count": 44,
   "metadata": {},
   "outputs": [
    {
     "data": {
      "text/html": [
       "<div>\n",
       "<style scoped>\n",
       "    .dataframe tbody tr th:only-of-type {\n",
       "        vertical-align: middle;\n",
       "    }\n",
       "\n",
       "    .dataframe tbody tr th {\n",
       "        vertical-align: top;\n",
       "    }\n",
       "\n",
       "    .dataframe thead th {\n",
       "        text-align: right;\n",
       "    }\n",
       "</style>\n",
       "<table border=\"1\" class=\"dataframe\">\n",
       "  <thead>\n",
       "    <tr style=\"text-align: right;\">\n",
       "      <th></th>\n",
       "      <th>user id</th>\n",
       "      <th>test group</th>\n",
       "      <th>converted</th>\n",
       "      <th>total ads</th>\n",
       "      <th>most ads day</th>\n",
       "      <th>most ads hour</th>\n",
       "      <th>group</th>\n",
       "      <th>is conversion</th>\n",
       "    </tr>\n",
       "  </thead>\n",
       "  <tbody>\n",
       "    <tr>\n",
       "      <th>0</th>\n",
       "      <td>1069124</td>\n",
       "      <td>ad</td>\n",
       "      <td>False</td>\n",
       "      <td>130</td>\n",
       "      <td>Monday</td>\n",
       "      <td>20</td>\n",
       "      <td>treatment</td>\n",
       "      <td>0</td>\n",
       "    </tr>\n",
       "    <tr>\n",
       "      <th>1</th>\n",
       "      <td>1119715</td>\n",
       "      <td>ad</td>\n",
       "      <td>False</td>\n",
       "      <td>93</td>\n",
       "      <td>Tuesday</td>\n",
       "      <td>22</td>\n",
       "      <td>treatment</td>\n",
       "      <td>0</td>\n",
       "    </tr>\n",
       "    <tr>\n",
       "      <th>2</th>\n",
       "      <td>1144181</td>\n",
       "      <td>ad</td>\n",
       "      <td>False</td>\n",
       "      <td>21</td>\n",
       "      <td>Tuesday</td>\n",
       "      <td>18</td>\n",
       "      <td>treatment</td>\n",
       "      <td>0</td>\n",
       "    </tr>\n",
       "    <tr>\n",
       "      <th>3</th>\n",
       "      <td>1435133</td>\n",
       "      <td>ad</td>\n",
       "      <td>False</td>\n",
       "      <td>355</td>\n",
       "      <td>Tuesday</td>\n",
       "      <td>10</td>\n",
       "      <td>treatment</td>\n",
       "      <td>0</td>\n",
       "    </tr>\n",
       "    <tr>\n",
       "      <th>4</th>\n",
       "      <td>1015700</td>\n",
       "      <td>ad</td>\n",
       "      <td>False</td>\n",
       "      <td>276</td>\n",
       "      <td>Friday</td>\n",
       "      <td>14</td>\n",
       "      <td>treatment</td>\n",
       "      <td>0</td>\n",
       "    </tr>\n",
       "    <tr>\n",
       "      <th>5</th>\n",
       "      <td>1137664</td>\n",
       "      <td>ad</td>\n",
       "      <td>False</td>\n",
       "      <td>734</td>\n",
       "      <td>Saturday</td>\n",
       "      <td>10</td>\n",
       "      <td>treatment</td>\n",
       "      <td>0</td>\n",
       "    </tr>\n",
       "    <tr>\n",
       "      <th>6</th>\n",
       "      <td>1116205</td>\n",
       "      <td>ad</td>\n",
       "      <td>False</td>\n",
       "      <td>264</td>\n",
       "      <td>Wednesday</td>\n",
       "      <td>13</td>\n",
       "      <td>treatment</td>\n",
       "      <td>0</td>\n",
       "    </tr>\n",
       "    <tr>\n",
       "      <th>7</th>\n",
       "      <td>1496843</td>\n",
       "      <td>ad</td>\n",
       "      <td>False</td>\n",
       "      <td>17</td>\n",
       "      <td>Sunday</td>\n",
       "      <td>18</td>\n",
       "      <td>treatment</td>\n",
       "      <td>0</td>\n",
       "    </tr>\n",
       "    <tr>\n",
       "      <th>8</th>\n",
       "      <td>1448851</td>\n",
       "      <td>ad</td>\n",
       "      <td>False</td>\n",
       "      <td>21</td>\n",
       "      <td>Tuesday</td>\n",
       "      <td>19</td>\n",
       "      <td>treatment</td>\n",
       "      <td>0</td>\n",
       "    </tr>\n",
       "    <tr>\n",
       "      <th>9</th>\n",
       "      <td>1446284</td>\n",
       "      <td>ad</td>\n",
       "      <td>False</td>\n",
       "      <td>142</td>\n",
       "      <td>Monday</td>\n",
       "      <td>14</td>\n",
       "      <td>treatment</td>\n",
       "      <td>0</td>\n",
       "    </tr>\n",
       "  </tbody>\n",
       "</table>\n",
       "</div>"
      ],
      "text/plain": [
       "   user id test group  converted  total ads most ads day  most ads hour  \\\n",
       "0  1069124         ad      False        130       Monday             20   \n",
       "1  1119715         ad      False         93      Tuesday             22   \n",
       "2  1144181         ad      False         21      Tuesday             18   \n",
       "3  1435133         ad      False        355      Tuesday             10   \n",
       "4  1015700         ad      False        276       Friday             14   \n",
       "5  1137664         ad      False        734     Saturday             10   \n",
       "6  1116205         ad      False        264    Wednesday             13   \n",
       "7  1496843         ad      False         17       Sunday             18   \n",
       "8  1448851         ad      False         21      Tuesday             19   \n",
       "9  1446284         ad      False        142       Monday             14   \n",
       "\n",
       "       group  is conversion  \n",
       "0  treatment              0  \n",
       "1  treatment              0  \n",
       "2  treatment              0  \n",
       "3  treatment              0  \n",
       "4  treatment              0  \n",
       "5  treatment              0  \n",
       "6  treatment              0  \n",
       "7  treatment              0  \n",
       "8  treatment              0  \n",
       "9  treatment              0  "
      ]
     },
     "execution_count": 44,
     "metadata": {},
     "output_type": "execute_result"
    }
   ],
   "source": [
    "# Filter data for treatment group\n",
    "data_treatment = split_data(df)[1]\n",
    "\n",
    "# display the first 10 rows of the data\n",
    "data_treatment.head(10)"
   ]
  },
  {
   "cell_type": "code",
   "execution_count": 45,
   "metadata": {},
   "outputs": [
    {
     "data": {
      "text/plain": [
       "array(['ad'], dtype=object)"
      ]
     },
     "execution_count": 45,
     "metadata": {},
     "output_type": "execute_result"
    }
   ],
   "source": [
    "# Check unique value of test group\n",
    "data_treatment['test group'].unique()"
   ]
  },
  {
   "attachments": {},
   "cell_type": "markdown",
   "metadata": {},
   "source": [
    "##### Calculate Sample Size for each group"
   ]
  },
  {
   "cell_type": "code",
   "execution_count": 46,
   "metadata": {},
   "outputs": [
    {
     "name": "stdout",
     "output_type": "stream",
     "text": [
      "Minimum Sample size for A/B test : 3135 for each group\n"
     ]
    }
   ],
   "source": [
    "n_ab = proportion_sample_size(\n",
    "    N = ab_data.shape[0],\n",
    "    alpha=0.01,\n",
    "    p_hat=0.05,\n",
    "    d=0.01\n",
    ")\n",
    "\n",
    "print(f\"Minimum Sample size for A/B test : {n_ab} for each group\")"
   ]
  },
  {
   "attachments": {},
   "cell_type": "markdown",
   "metadata": {},
   "source": [
    "##### Sampling the data for each group"
   ]
  },
  {
   "cell_type": "code",
   "execution_count": 47,
   "metadata": {},
   "outputs": [],
   "source": [
    "def sampling_data(\n",
    "    control_data: pd.DataFrame,\n",
    "    treatment_data: pd.DataFrame,\n",
    "    n_size: int\n",
    "):\n",
    "    \"\"\"Function to sample data for control and treatment\n",
    "\n",
    "    Args:\n",
    "        control_data (pd.DataFrame): Data for control group\n",
    "        treatment_data (pd.DataFrame): Data for treatment group\n",
    "        n_size (int): Sample size\n",
    "\n",
    "    Returns:\n",
    "        control_df (pd.DataFrame): Sampled data for control group\n",
    "        treatment_df (pd.DataFrame): Sampled data for treatment group\n",
    "    \"\"\"\n",
    "    # Sampling data for control and treatment\n",
    "    control_df = control_data.sample(n=n_size, replace=False)\n",
    "    treatment_df = treatment_data.sample(n=n_size, replace=False)\n",
    "    \n",
    "    # Reset index\n",
    "    control_df.reset_index(drop=True, inplace=True)\n",
    "    treatment_df.reset_index(drop=True, inplace=True)\n",
    "    \n",
    "    return control_df, treatment_df"
   ]
  },
  {
   "cell_type": "code",
   "execution_count": 48,
   "metadata": {},
   "outputs": [],
   "source": [
    "# Sample data for control and treatment\n",
    "control_df, treatment_df = sampling_data(\n",
    "    data_control,\n",
    "    data_treatment,\n",
    "    n_size=3135\n",
    ")"
   ]
  },
  {
   "cell_type": "code",
   "execution_count": 49,
   "metadata": {},
   "outputs": [
    {
     "data": {
      "text/html": [
       "<div>\n",
       "<style scoped>\n",
       "    .dataframe tbody tr th:only-of-type {\n",
       "        vertical-align: middle;\n",
       "    }\n",
       "\n",
       "    .dataframe tbody tr th {\n",
       "        vertical-align: top;\n",
       "    }\n",
       "\n",
       "    .dataframe thead th {\n",
       "        text-align: right;\n",
       "    }\n",
       "</style>\n",
       "<table border=\"1\" class=\"dataframe\">\n",
       "  <thead>\n",
       "    <tr style=\"text-align: right;\">\n",
       "      <th></th>\n",
       "      <th>user id</th>\n",
       "      <th>test group</th>\n",
       "      <th>converted</th>\n",
       "      <th>total ads</th>\n",
       "      <th>most ads day</th>\n",
       "      <th>most ads hour</th>\n",
       "      <th>group</th>\n",
       "      <th>is conversion</th>\n",
       "    </tr>\n",
       "  </thead>\n",
       "  <tbody>\n",
       "    <tr>\n",
       "      <th>0</th>\n",
       "      <td>905170</td>\n",
       "      <td>psa</td>\n",
       "      <td>False</td>\n",
       "      <td>12</td>\n",
       "      <td>Tuesday</td>\n",
       "      <td>20</td>\n",
       "      <td>control</td>\n",
       "      <td>0</td>\n",
       "    </tr>\n",
       "    <tr>\n",
       "      <th>1</th>\n",
       "      <td>910701</td>\n",
       "      <td>psa</td>\n",
       "      <td>False</td>\n",
       "      <td>25</td>\n",
       "      <td>Wednesday</td>\n",
       "      <td>14</td>\n",
       "      <td>control</td>\n",
       "      <td>0</td>\n",
       "    </tr>\n",
       "    <tr>\n",
       "      <th>2</th>\n",
       "      <td>903725</td>\n",
       "      <td>psa</td>\n",
       "      <td>False</td>\n",
       "      <td>16</td>\n",
       "      <td>Wednesday</td>\n",
       "      <td>9</td>\n",
       "      <td>control</td>\n",
       "      <td>0</td>\n",
       "    </tr>\n",
       "    <tr>\n",
       "      <th>3</th>\n",
       "      <td>920665</td>\n",
       "      <td>psa</td>\n",
       "      <td>False</td>\n",
       "      <td>24</td>\n",
       "      <td>Tuesday</td>\n",
       "      <td>7</td>\n",
       "      <td>control</td>\n",
       "      <td>0</td>\n",
       "    </tr>\n",
       "    <tr>\n",
       "      <th>4</th>\n",
       "      <td>918997</td>\n",
       "      <td>psa</td>\n",
       "      <td>False</td>\n",
       "      <td>10</td>\n",
       "      <td>Wednesday</td>\n",
       "      <td>21</td>\n",
       "      <td>control</td>\n",
       "      <td>0</td>\n",
       "    </tr>\n",
       "    <tr>\n",
       "      <th>5</th>\n",
       "      <td>900771</td>\n",
       "      <td>psa</td>\n",
       "      <td>False</td>\n",
       "      <td>36</td>\n",
       "      <td>Thursday</td>\n",
       "      <td>23</td>\n",
       "      <td>control</td>\n",
       "      <td>0</td>\n",
       "    </tr>\n",
       "    <tr>\n",
       "      <th>6</th>\n",
       "      <td>902357</td>\n",
       "      <td>psa</td>\n",
       "      <td>False</td>\n",
       "      <td>1</td>\n",
       "      <td>Thursday</td>\n",
       "      <td>17</td>\n",
       "      <td>control</td>\n",
       "      <td>0</td>\n",
       "    </tr>\n",
       "    <tr>\n",
       "      <th>7</th>\n",
       "      <td>907700</td>\n",
       "      <td>psa</td>\n",
       "      <td>False</td>\n",
       "      <td>35</td>\n",
       "      <td>Saturday</td>\n",
       "      <td>20</td>\n",
       "      <td>control</td>\n",
       "      <td>0</td>\n",
       "    </tr>\n",
       "    <tr>\n",
       "      <th>8</th>\n",
       "      <td>919973</td>\n",
       "      <td>psa</td>\n",
       "      <td>False</td>\n",
       "      <td>4</td>\n",
       "      <td>Thursday</td>\n",
       "      <td>13</td>\n",
       "      <td>control</td>\n",
       "      <td>0</td>\n",
       "    </tr>\n",
       "    <tr>\n",
       "      <th>9</th>\n",
       "      <td>920818</td>\n",
       "      <td>psa</td>\n",
       "      <td>False</td>\n",
       "      <td>18</td>\n",
       "      <td>Thursday</td>\n",
       "      <td>14</td>\n",
       "      <td>control</td>\n",
       "      <td>0</td>\n",
       "    </tr>\n",
       "  </tbody>\n",
       "</table>\n",
       "</div>"
      ],
      "text/plain": [
       "   user id test group  converted  total ads most ads day  most ads hour  \\\n",
       "0   905170        psa      False         12      Tuesday             20   \n",
       "1   910701        psa      False         25    Wednesday             14   \n",
       "2   903725        psa      False         16    Wednesday              9   \n",
       "3   920665        psa      False         24      Tuesday              7   \n",
       "4   918997        psa      False         10    Wednesday             21   \n",
       "5   900771        psa      False         36     Thursday             23   \n",
       "6   902357        psa      False          1     Thursday             17   \n",
       "7   907700        psa      False         35     Saturday             20   \n",
       "8   919973        psa      False          4     Thursday             13   \n",
       "9   920818        psa      False         18     Thursday             14   \n",
       "\n",
       "     group  is conversion  \n",
       "0  control              0  \n",
       "1  control              0  \n",
       "2  control              0  \n",
       "3  control              0  \n",
       "4  control              0  \n",
       "5  control              0  \n",
       "6  control              0  \n",
       "7  control              0  \n",
       "8  control              0  \n",
       "9  control              0  "
      ]
     },
     "execution_count": 49,
     "metadata": {},
     "output_type": "execute_result"
    }
   ],
   "source": [
    "# Display first 10 rows of control data\n",
    "control_df.head(10)"
   ]
  },
  {
   "cell_type": "code",
   "execution_count": 50,
   "metadata": {},
   "outputs": [
    {
     "data": {
      "text/html": [
       "<div>\n",
       "<style scoped>\n",
       "    .dataframe tbody tr th:only-of-type {\n",
       "        vertical-align: middle;\n",
       "    }\n",
       "\n",
       "    .dataframe tbody tr th {\n",
       "        vertical-align: top;\n",
       "    }\n",
       "\n",
       "    .dataframe thead th {\n",
       "        text-align: right;\n",
       "    }\n",
       "</style>\n",
       "<table border=\"1\" class=\"dataframe\">\n",
       "  <thead>\n",
       "    <tr style=\"text-align: right;\">\n",
       "      <th></th>\n",
       "      <th>user id</th>\n",
       "      <th>test group</th>\n",
       "      <th>converted</th>\n",
       "      <th>total ads</th>\n",
       "      <th>most ads day</th>\n",
       "      <th>most ads hour</th>\n",
       "      <th>group</th>\n",
       "      <th>is conversion</th>\n",
       "    </tr>\n",
       "  </thead>\n",
       "  <tbody>\n",
       "    <tr>\n",
       "      <th>0</th>\n",
       "      <td>1150080</td>\n",
       "      <td>ad</td>\n",
       "      <td>False</td>\n",
       "      <td>18</td>\n",
       "      <td>Saturday</td>\n",
       "      <td>13</td>\n",
       "      <td>treatment</td>\n",
       "      <td>0</td>\n",
       "    </tr>\n",
       "    <tr>\n",
       "      <th>1</th>\n",
       "      <td>1487241</td>\n",
       "      <td>ad</td>\n",
       "      <td>False</td>\n",
       "      <td>23</td>\n",
       "      <td>Wednesday</td>\n",
       "      <td>12</td>\n",
       "      <td>treatment</td>\n",
       "      <td>0</td>\n",
       "    </tr>\n",
       "    <tr>\n",
       "      <th>2</th>\n",
       "      <td>1181603</td>\n",
       "      <td>ad</td>\n",
       "      <td>False</td>\n",
       "      <td>12</td>\n",
       "      <td>Saturday</td>\n",
       "      <td>17</td>\n",
       "      <td>treatment</td>\n",
       "      <td>0</td>\n",
       "    </tr>\n",
       "    <tr>\n",
       "      <th>3</th>\n",
       "      <td>1504349</td>\n",
       "      <td>ad</td>\n",
       "      <td>False</td>\n",
       "      <td>5</td>\n",
       "      <td>Saturday</td>\n",
       "      <td>10</td>\n",
       "      <td>treatment</td>\n",
       "      <td>0</td>\n",
       "    </tr>\n",
       "    <tr>\n",
       "      <th>4</th>\n",
       "      <td>1313685</td>\n",
       "      <td>ad</td>\n",
       "      <td>False</td>\n",
       "      <td>26</td>\n",
       "      <td>Sunday</td>\n",
       "      <td>18</td>\n",
       "      <td>treatment</td>\n",
       "      <td>0</td>\n",
       "    </tr>\n",
       "    <tr>\n",
       "      <th>5</th>\n",
       "      <td>1151965</td>\n",
       "      <td>ad</td>\n",
       "      <td>False</td>\n",
       "      <td>1</td>\n",
       "      <td>Friday</td>\n",
       "      <td>20</td>\n",
       "      <td>treatment</td>\n",
       "      <td>0</td>\n",
       "    </tr>\n",
       "    <tr>\n",
       "      <th>6</th>\n",
       "      <td>1156949</td>\n",
       "      <td>ad</td>\n",
       "      <td>False</td>\n",
       "      <td>33</td>\n",
       "      <td>Sunday</td>\n",
       "      <td>17</td>\n",
       "      <td>treatment</td>\n",
       "      <td>0</td>\n",
       "    </tr>\n",
       "    <tr>\n",
       "      <th>7</th>\n",
       "      <td>1285104</td>\n",
       "      <td>ad</td>\n",
       "      <td>False</td>\n",
       "      <td>4</td>\n",
       "      <td>Tuesday</td>\n",
       "      <td>13</td>\n",
       "      <td>treatment</td>\n",
       "      <td>0</td>\n",
       "    </tr>\n",
       "    <tr>\n",
       "      <th>8</th>\n",
       "      <td>1377117</td>\n",
       "      <td>ad</td>\n",
       "      <td>False</td>\n",
       "      <td>15</td>\n",
       "      <td>Saturday</td>\n",
       "      <td>13</td>\n",
       "      <td>treatment</td>\n",
       "      <td>0</td>\n",
       "    </tr>\n",
       "    <tr>\n",
       "      <th>9</th>\n",
       "      <td>1514755</td>\n",
       "      <td>ad</td>\n",
       "      <td>False</td>\n",
       "      <td>19</td>\n",
       "      <td>Tuesday</td>\n",
       "      <td>17</td>\n",
       "      <td>treatment</td>\n",
       "      <td>0</td>\n",
       "    </tr>\n",
       "  </tbody>\n",
       "</table>\n",
       "</div>"
      ],
      "text/plain": [
       "   user id test group  converted  total ads most ads day  most ads hour  \\\n",
       "0  1150080         ad      False         18     Saturday             13   \n",
       "1  1487241         ad      False         23    Wednesday             12   \n",
       "2  1181603         ad      False         12     Saturday             17   \n",
       "3  1504349         ad      False          5     Saturday             10   \n",
       "4  1313685         ad      False         26       Sunday             18   \n",
       "5  1151965         ad      False          1       Friday             20   \n",
       "6  1156949         ad      False         33       Sunday             17   \n",
       "7  1285104         ad      False          4      Tuesday             13   \n",
       "8  1377117         ad      False         15     Saturday             13   \n",
       "9  1514755         ad      False         19      Tuesday             17   \n",
       "\n",
       "       group  is conversion  \n",
       "0  treatment              0  \n",
       "1  treatment              0  \n",
       "2  treatment              0  \n",
       "3  treatment              0  \n",
       "4  treatment              0  \n",
       "5  treatment              0  \n",
       "6  treatment              0  \n",
       "7  treatment              0  \n",
       "8  treatment              0  \n",
       "9  treatment              0  "
      ]
     },
     "execution_count": 50,
     "metadata": {},
     "output_type": "execute_result"
    }
   ],
   "source": [
    "# Display first 10 rows of treatment data\n",
    "treatment_df.head(10)"
   ]
  },
  {
   "attachments": {},
   "cell_type": "markdown",
   "metadata": {},
   "source": [
    "##### Calculate Evaluation Metric for each group\n",
    "\n",
    "Calculate the conversion rate for each group. The conversion rate is the proportion of users who converted in each test group. This can be calculated by dividing the number of users who converted by the total number of users in each group. The function `extract_evaluation_metric` is used to calculate the conversion rate."
   ]
  },
  {
   "cell_type": "code",
   "execution_count": 51,
   "metadata": {},
   "outputs": [],
   "source": [
    "# Extract evaluation metric for control and treatment\n",
    "control_res = extract_evaluation_metric(data = control_df)\n",
    "treatment_res = extract_evaluation_metric(data = treatment_df)"
   ]
  },
  {
   "cell_type": "code",
   "execution_count": 52,
   "metadata": {},
   "outputs": [
    {
     "name": "stdout",
     "output_type": "stream",
     "text": [
      "CONTROL: {'session': 3135, 'conversion': 60, 'CVR': 1.914}\n",
      "TREATMENT: {'session': 3135, 'conversion': 82, 'CVR': 2.616}\n"
     ]
    }
   ],
   "source": [
    "print(f\"CONTROL: {control_res}\")\n",
    "print(f\"TREATMENT: {treatment_res}\")"
   ]
  },
  {
   "cell_type": "markdown",
   "metadata": {},
   "source": [
    "Visualize the conversion rate for each group."
   ]
  },
  {
   "cell_type": "code",
   "execution_count": 53,
   "metadata": {},
   "outputs": [
    {
     "name": "stderr",
     "output_type": "stream",
     "text": [
      "No artists with labels found to put in legend.  Note that artists whose label start with an underscore are ignored when legend() is called with no argument.\n"
     ]
    },
    {
     "data": {
      "image/png": "[encoded data removed]",
      "text/plain": [
       "<Figure size 800x600 with 1 Axes>"
      ]
     },
     "metadata": {},
     "output_type": "display_data"
    }
   ],
   "source": [
    "# Visualize the conversion rate in control group and treatment group\n",
    "visualize_CVR(\n",
    "    control_res['CVR'],\n",
    "    treatment_res['CVR']\n",
    ")"
   ]
  },
  {
   "attachments": {},
   "cell_type": "markdown",
   "metadata": {},
   "source": [
    "#### Calculate Lift-over-baseline\n",
    "\n",
    "Lift-over-baseline is the difference between the conversion rate of the treatment group and the conversion rate of the control group. It is a measure of the effectiveness of the treatment.\n",
    "\n",
    "$$\n",
    "\\text{Lift} = CVR_{\\text{treatment}} - CVR_{\\text{control}}\n",
    "$$"
   ]
  },
  {
   "cell_type": "code",
   "execution_count": 54,
   "metadata": {},
   "outputs": [
    {
     "name": "stdout",
     "output_type": "stream",
     "text": [
      "Lift: 0.7020000000000002\n"
     ]
    }
   ],
   "source": [
    "# Calculate the lift\n",
    "AB_lift = treatment_res['CVR'] - control_res['CVR']\n",
    "print(f\"Lift: {AB_lift}\")"
   ]
  },
  {
   "attachments": {},
   "cell_type": "markdown",
   "metadata": {},
   "source": [
    "The lift-over-baseline is 0.19, which means that the treatment group has a 19% higher conversion rate than the control group. This is a significant lift, but we need to determine if this lift is statistically significant."
   ]
  },
  {
   "attachments": {},
   "cell_type": "markdown",
   "metadata": {},
   "source": [
    "#### Caclulate p-value\n",
    "\n",
    "P-value is the probability of observing a test statistic at least as extreme as the one observed, assuming that the null hypothesis is true. In other words, it is the probability of getting a result at least as extreme as the one we got, if the null hypothesis is true. If the p-value is less than the significance level, we reject the null hypothesis. If the p-value is greater than the significance level, we fail to reject the null hypothesis. The significance level is the probability of rejecting the null hypothesis when it is true. The significance level is usually set to 0.05, which means that there is a 5% chance that we reject the null hypothesis when it is true. In other words, there is a 95% chance that we fail to reject the null hypothesis when it is true. The p-value is calculated using the following formula:\n",
    "\n",
    "$$\n",
    "p = 1 - \\Phi(\\frac{\\text{Lift}}{\\text{SE}})\n",
    "$$\n",
    "\n",
    "where:\n",
    "- $\\Phi$ is the cumulative distribution function of the standard normal distribution\n",
    "- $\\text{Lift}$ is the lift-over-baseline   \n",
    "- $\\text{SE}$ is the standard error of the lift-over-baseline\n",
    "\n",
    "Hypothesis testing for conversion rate concerning AB test is a declaration that juxtaposes the conversion rate of the control group and the treatment group in an experiment where the control group is exposed to the control condition and the treatment group is exposed to the treatment condition. The null hypothesis ($H_{0}$) states that there exists no difference between the conversion rates of the two groups, implying that conversion rate control = conversion rate treatment. The alternative hypothesis ($H_{1}$) postulates that there is a difference between the conversion rates of the two groups, implying that conversion rate control ≠ conversion rate treatment. The testing hypothesis can be formulated as follows:\n",
    "\n",
    "$$H_{0} : \\text{Cr}_{\\text{A}_{\\text{control}}} = \\text{Cr}_{\\text{B}_{\\text{treatment}}}$$\n",
    "$$H_{1} : \\text{Cr}_{\\text{A}_{\\text{control}}} \\neq \\text{Cr}_{\\text{B}_{\\text{treatment}}}$$\n",
    "\n",
    "The decision rule based on the p-value is as follows:\n",
    "- If the p-value is less than or equal to the predetermined level of significance (such as 0.05), reject the null hypothesis ($H_{0}$) and accept the alternative hypothesis ($H_{1}$).\n",
    "- If the p-value is greater than the predetermined level of significance, fail to reject the null hypothesis ($H_{0}$) and do not accept the alternative hypothesis ($H_{1}$)."
   ]
  },
  {
   "cell_type": "code",
   "execution_count": 55,
   "metadata": {},
   "outputs": [],
   "source": [
    "def calculate_pval(control_res: dict, treatment_res: dict):\n",
    "    \"\"\"Calculate p-value for proportion\n",
    "\n",
    "    Args:\n",
    "        control_res (dict): Control group result\n",
    "        treatment_res (dict): Treatment group result\n",
    "\n",
    "    Returns:\n",
    "        pval: p-value\n",
    "    \"\"\"\n",
    "    # Group results\n",
    "    counts = [control_res[\"conversion\"], treatment_res[\"conversion\"]]\n",
    "    obs = [control_res[\"session\"], treatment_res[\"session\"]]\n",
    "\n",
    "    _, pval = proportions_ztest(\n",
    "        count=counts,\n",
    "        nobs=obs,\n",
    "        alternative='two-sided'\n",
    "    )\n",
    "    \n",
    "    return pval\n"
   ]
  },
  {
   "cell_type": "code",
   "execution_count": 56,
   "metadata": {},
   "outputs": [
    {
     "data": {
      "text/plain": [
       "0.06183642226359839"
      ]
     },
     "execution_count": 56,
     "metadata": {},
     "output_type": "execute_result"
    }
   ],
   "source": [
    "p_value_ab = calculate_pval(control_res, treatment_res)\n",
    "p_value_ab"
   ]
  },
  {
   "cell_type": "code",
   "execution_count": 57,
   "metadata": {},
   "outputs": [
    {
     "name": "stdout",
     "output_type": "stream",
     "text": [
      "Decision : Fail to Reject Null Hypothesis\n"
     ]
    }
   ],
   "source": [
    "alpha = 0.05\n",
    "\n",
    "if(p_value_ab <  alpha):\n",
    "  print(\"Decision : Reject Null Hypothesis\")\n",
    "else:\n",
    "  print(\"Decision : Fail to Reject Null Hypothesis\")"
   ]
  },
  {
   "attachments": {},
   "cell_type": "markdown",
   "metadata": {},
   "source": [
    "The treatment group has a 35% higher conversion rate than the control group. The p-value is 0.0001, which is less than the significance level of 0.05. Therefore, we reject the null hypothesis and conclude that the treatment group has a higher conversion rate than the control group. This means that the treatment is effective. The treatment is effective because it increases the conversion rate by 35%."
   ]
  },
  {
   "attachments": {},
   "cell_type": "markdown",
   "metadata": {},
   "source": [
    "#### Summarize the results of the A/B test"
   ]
  },
  {
   "cell_type": "code",
   "execution_count": 60,
   "metadata": {},
   "outputs": [],
   "source": [
    "def summarize_data(data: pd.DataFrame, n_size: int):\n",
    "    \"\"\"Summarize data for experiment result analysis\n",
    "\n",
    "    Args:\n",
    "        data (pd.DataFrame): Sample data to be summarized\n",
    "        n_size (int): Sample size\n",
    "\n",
    "    Returns:\n",
    "        summary_df (pd.DataFrame) : Summary of data\n",
    "    \"\"\"\n",
    "    # 1. Split data into control and treatment\n",
    "    control_data, treatment_data = split_data(data)\n",
    "    \n",
    "    # 2. Sample data for control and treatment\n",
    "    control_df, treatment_df = sampling_data(\n",
    "        control_data=control_data,\n",
    "        treatment_data=treatment_data,\n",
    "        n_size=n_size\n",
    "    )\n",
    "    \n",
    "    # 3. Extract evaluation metric\n",
    "    control_res = extract_evaluation_metric(control_df)\n",
    "    treatment_res = extract_evaluation_metric(treatment_df)\n",
    "    \n",
    "    # 4. Calculate lift\n",
    "    lift = treatment_res['CVR'] - control_res['CVR']\n",
    "    control_res['lift'] = \"---\" # fill in the blank\n",
    "    treatment_res['lift'] = np.round(lift, 3) # round to 3 decimal places\n",
    "    \n",
    "    # 5. Calculate p-value\n",
    "    pval = calculate_pval(control_res, treatment_res)\n",
    "    control_res['p-value'] = \"---\" # fill in the blank\n",
    "    treatment_res['p-value'] = np.round(pval, 3) # round to 3 decimal places\n",
    "    \n",
    "    # Visualize the conversion rate in control group and treatment group\n",
    "    visualize_CVR(control_res['CVR'], treatment_res['CVR'])\n",
    "    \n",
    "    # 6. Generate summary\n",
    "    summary_df = pd.DataFrame(\n",
    "        data=[control_res, treatment_res],\n",
    "        index=['control', 'treatment']\n",
    "    )\n",
    "    \n",
    "    return summary_df"
   ]
  },
  {
   "cell_type": "code",
   "execution_count": 61,
   "metadata": {},
   "outputs": [
    {
     "name": "stderr",
     "output_type": "stream",
     "text": [
      "No artists with labels found to put in legend.  Note that artists whose label start with an underscore are ignored when legend() is called with no argument.\n"
     ]
    },
    {
     "data": {
      "image/png": "[encoded data removed]",
      "text/plain": [
       "<Figure size 800x600 with 1 Axes>"
      ]
     },
     "metadata": {},
     "output_type": "display_data"
    },
    {
     "data": {
      "text/html": [
       "<div>\n",
       "<style scoped>\n",
       "    .dataframe tbody tr th:only-of-type {\n",
       "        vertical-align: middle;\n",
       "    }\n",
       "\n",
       "    .dataframe tbody tr th {\n",
       "        vertical-align: top;\n",
       "    }\n",
       "\n",
       "    .dataframe thead th {\n",
       "        text-align: right;\n",
       "    }\n",
       "</style>\n",
       "<table border=\"1\" class=\"dataframe\">\n",
       "  <thead>\n",
       "    <tr style=\"text-align: right;\">\n",
       "      <th></th>\n",
       "      <th>session</th>\n",
       "      <th>conversion</th>\n",
       "      <th>CVR</th>\n",
       "      <th>lift</th>\n",
       "      <th>p-value</th>\n",
       "    </tr>\n",
       "  </thead>\n",
       "  <tbody>\n",
       "    <tr>\n",
       "      <th>control</th>\n",
       "      <td>3135</td>\n",
       "      <td>57</td>\n",
       "      <td>1.818</td>\n",
       "      <td>---</td>\n",
       "      <td>---</td>\n",
       "    </tr>\n",
       "    <tr>\n",
       "      <th>treatment</th>\n",
       "      <td>3135</td>\n",
       "      <td>74</td>\n",
       "      <td>2.360</td>\n",
       "      <td>0.542</td>\n",
       "      <td>0.133</td>\n",
       "    </tr>\n",
       "  </tbody>\n",
       "</table>\n",
       "</div>"
      ],
      "text/plain": [
       "           session  conversion    CVR   lift p-value\n",
       "control       3135          57  1.818    ---     ---\n",
       "treatment     3135          74  2.360  0.542   0.133"
      ]
     },
     "execution_count": 61,
     "metadata": {},
     "output_type": "execute_result"
    }
   ],
   "source": [
    "# Summarize data for experiment result analysis\n",
    "summarize_data(ab_data, n_size=3135)"
   ]
  },
  {
   "cell_type": "code",
   "execution_count": null,
   "metadata": {},
   "outputs": [],
   "source": []
  }
 ],
 "metadata": {
  "kernelspec": {
   "display_name": "jcopml",
   "language": "python",
   "name": "python3"
  },
  "language_info": {
   "codemirror_mode": {
    "name": "ipython",
    "version": 3
   },
   "file_extension": ".py",
   "mimetype": "text/x-python",
   "name": "python",
   "nbconvert_exporter": "python",
   "pygments_lexer": "ipython3",
   "version": "3.8.15"
  },
  "orig_nbformat": 4
 },
 "nbformat": 4,
 "nbformat_minor": 2
}
