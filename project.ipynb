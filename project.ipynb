{
 "cells": [
  {
   "attachments": {},
   "cell_type": "markdown",
   "metadata": {},
   "source": [
    "# Sekolah Data Pacmann - Statistics\n",
    "## Project : Experimental Design & A/B Testing\n",
    "---"
   ]
  },
  {
   "attachments": {},
   "cell_type": "markdown",
   "metadata": {},
   "source": [
    "## Daftar Isi\n",
    "\n",
    "* [A/B Testing: A Data-Driven Approach to Optimize Marketing Campaigns](#A/B-Testing:-A-Data-Driven-Approach-to-Optimize-Marketing-Campaigns)\n",
    "    * [Introduction](#Introduction)\n",
    "    * [Data Quality Check](#Data-Quality-Check)\n",
    "        * [Importing the Data](#Importing-the-Data)\n",
    "        * [Missing Values](#Missing-Values)\n",
    "        * [Check Uniqueness](#Check-Uniqueness)\n",
    "        * [Invalid Values](#Invalid-Values)\n",
    "    * [A/A Test](#A/A-Test)\n",
    "        * [Sample Size](#Sample-Size)\n",
    "        * [Split the data into Control and Treatment](#Split-the-data-into-Control-and-Treatment)\n",
    "        * [Calculate key evaluation metrics](#Calculate-key-evaluation-metrics)\n",
    "        * [Calculate lift-over-baseline](#Calculate-lift-over-baseline)\n",
    "        * [Hypothesis Testing](#Hypothesis-Testing)\n",
    "        * [Create Decision Rules](#Create-Decision-Rules)\n",
    "        * [Visualize the decision rules using z-statistics distribution](#Visualize-the-decision-rules-using-z-statistics-distribution)\n",
    "        * [Kolmogorov-Smirnov Test](#Kolmogorov-Smirnov-Test)\n",
    "    * [A/B Test](#A/B-Test)\n",
    "        * [Load the data](#Load-the-data)\n",
    "        * [Check Invalid Data](#Check-Invalid-Data)\n",
    "        * [Split and Sampling](#Split-and-Sampling)\n",
    "            * [Split the data into Control and Treatment](#Split-the-data-into-Control-and-Treatment)\n",
    "            * [Calculate Sample Size](#Calculate-Sample-Size)\n",
    "            * [Sampling the data for each group](#Sampling-the-data-for-each-group)\n",
    "        * [Sample Ratio Mismatch](#Sample-Ratio-Mismatch)\n",
    "            * [Chi-Square Test for Detect SRM](#Chi-Square-Test-for-Detect-SRM)\n",
    "        * [Calculate Evaluation Metrics](#Calculate-Evaluation-Metrics)\n",
    "        * [Calculate Lift-Over-Baseline](#Calculate-Lift-Over-Baseline)\n",
    "        * [Calculate p-value](#Calculate-p-value)\n",
    "        * [Confidence Interval](#Confidence-Interval)\n",
    "    * [Summarize the results](#Summarize-the-results)\n",
    "    * [Conclusion](#Conclusion)"
   ]
  },
  {
   "attachments": {},
   "cell_type": "markdown",
   "metadata": {},
   "source": [
    "## A/B Testing: A Data-Driven Approach to Optimize Marketing Campaigns\n",
    "\n",
    "### Introduction\n",
    "\n",
    "Public Service Announcements (PSA) are a common way for marketing companies to communicate their messages to the public. However, in a competitive and saturated market, PSA may not be enough to attract and convert potential customers. Therefore, the company decided to experiment with a new strategy: ads. Ads are more targeted and personalized than PSA, and they can potentially increase user conversion rates. \n",
    "\n",
    "To test this hypothesis, the company conducted an A/B test, where they randomly assigned users to either see a PSA or an ad for the same product or service. The company collected data on how many users clicked on the PSA or the ad, and how many of them completed a purchase or a subscription. The goal of this report is to analyze the data from the A/B test and provide recommendations for the company on whether they should implement the new strategy or not."
   ]
  },
  {
   "attachments": {},
   "cell_type": "markdown",
   "metadata": {},
   "source": [
    "Based on the data description, some possible goal metrics, driven metrics and guardrail metrics are:\n",
    "\n",
    "- Goal metric: The main goal in this experiment is to increase revenue.\n",
    "- Driven metric: The secondary goal in this experiment is to increase Conversion Rate. Conversion Rate is the proportion of users who completed a purchase or a subscription after seeing ads in each test group. This can be calculated by dividing the number of users who completed a purchase or a subscription by the total number of users who saw ads in each group.\n",
    "- Guardrail metric: The proportion of users who unsubscribed or bounced after seeing ads in each test group. This can be calculated by dividing the number of users who unsubscribed or bounced by the total number of users who saw ads in each group."
   ]
  },
  {
   "attachments": {},
   "cell_type": "markdown",
   "metadata": {},
   "source": [
    "### Data Quality Check\n",
    "\n",
    "#### Importing the Data\n",
    "First, we import the data from the csv file into a pandas dataframe. We then take a look at the first 5 rows of the dataframe to see if the data was imported correctly."
   ]
  },
  {
   "cell_type": "code",
   "execution_count": 92,
   "metadata": {},
   "outputs": [],
   "source": [
    "# import data manipulation libraries\n",
    "import numpy as np\n",
    "import pandas as pd\n",
    "\n",
    "# import data visualization libraries\n",
    "import seaborn as sns\n",
    "import matplotlib.pyplot as plt\n",
    "\n",
    "# import statistics libraries \n",
    "from scipy import stats\n",
    "from statsmodels.stats.proportion import proportions_ztest, confint_proportions_2indep, proportion_confint\n",
    "from statsmodels.stats.api import proportion_effectsize, NormalIndPower"
   ]
  },
  {
   "cell_type": "code",
   "execution_count": 2,
   "metadata": {},
   "outputs": [],
   "source": [
    "def load_data(filename):\n",
    "    \"\"\"Load data from csv file and return a dataframe\n",
    "\n",
    "    Args:\n",
    "        filename (csv): File path with csv extension\n",
    "        \n",
    "    Returns:\n",
    "        data (dataframe): Dataframe with the data\n",
    "    \"\"\"\n",
    "    #### 1. Load data\n",
    "    data = pd.read_csv(filename)\n",
    "    # Drop first column\n",
    "    data.drop(\"Unnamed: 0\", axis=1, inplace=True)\n",
    "    print(f'Total entry {data.shape[0]}')\n",
    "\n",
    "    #### 2. Split into control and treatment group\n",
    "    data['group'] = data['test group'].apply(lambda x : 'control' if x == 'psa' else 'treatment')\n",
    "    \n",
    "    #### 3. Create a new column to store the conversion\n",
    "    data['is conversion'] = data['converted'].apply(lambda x: 1 if x == True else 0)\n",
    "    \n",
    "    return data"
   ]
  },
  {
   "cell_type": "code",
   "execution_count": 3,
   "metadata": {},
   "outputs": [
    {
     "name": "stdout",
     "output_type": "stream",
     "text": [
      "Total entry 588101\n"
     ]
    },
    {
     "data": {
      "text/html": [
       "<div>\n",
       "<style scoped>\n",
       "    .dataframe tbody tr th:only-of-type {\n",
       "        vertical-align: middle;\n",
       "    }\n",
       "\n",
       "    .dataframe tbody tr th {\n",
       "        vertical-align: top;\n",
       "    }\n",
       "\n",
       "    .dataframe thead th {\n",
       "        text-align: right;\n",
       "    }\n",
       "</style>\n",
       "<table border=\"1\" class=\"dataframe\">\n",
       "  <thead>\n",
       "    <tr style=\"text-align: right;\">\n",
       "      <th></th>\n",
       "      <th>user id</th>\n",
       "      <th>test group</th>\n",
       "      <th>converted</th>\n",
       "      <th>total ads</th>\n",
       "      <th>most ads day</th>\n",
       "      <th>most ads hour</th>\n",
       "      <th>group</th>\n",
       "      <th>is conversion</th>\n",
       "    </tr>\n",
       "  </thead>\n",
       "  <tbody>\n",
       "    <tr>\n",
       "      <th>0</th>\n",
       "      <td>1069124</td>\n",
       "      <td>ad</td>\n",
       "      <td>False</td>\n",
       "      <td>130</td>\n",
       "      <td>Monday</td>\n",
       "      <td>20</td>\n",
       "      <td>treatment</td>\n",
       "      <td>0</td>\n",
       "    </tr>\n",
       "    <tr>\n",
       "      <th>1</th>\n",
       "      <td>1119715</td>\n",
       "      <td>ad</td>\n",
       "      <td>False</td>\n",
       "      <td>93</td>\n",
       "      <td>Tuesday</td>\n",
       "      <td>22</td>\n",
       "      <td>treatment</td>\n",
       "      <td>0</td>\n",
       "    </tr>\n",
       "    <tr>\n",
       "      <th>2</th>\n",
       "      <td>1144181</td>\n",
       "      <td>ad</td>\n",
       "      <td>False</td>\n",
       "      <td>21</td>\n",
       "      <td>Tuesday</td>\n",
       "      <td>18</td>\n",
       "      <td>treatment</td>\n",
       "      <td>0</td>\n",
       "    </tr>\n",
       "    <tr>\n",
       "      <th>3</th>\n",
       "      <td>1435133</td>\n",
       "      <td>ad</td>\n",
       "      <td>False</td>\n",
       "      <td>355</td>\n",
       "      <td>Tuesday</td>\n",
       "      <td>10</td>\n",
       "      <td>treatment</td>\n",
       "      <td>0</td>\n",
       "    </tr>\n",
       "    <tr>\n",
       "      <th>4</th>\n",
       "      <td>1015700</td>\n",
       "      <td>ad</td>\n",
       "      <td>False</td>\n",
       "      <td>276</td>\n",
       "      <td>Friday</td>\n",
       "      <td>14</td>\n",
       "      <td>treatment</td>\n",
       "      <td>0</td>\n",
       "    </tr>\n",
       "    <tr>\n",
       "      <th>5</th>\n",
       "      <td>1137664</td>\n",
       "      <td>ad</td>\n",
       "      <td>False</td>\n",
       "      <td>734</td>\n",
       "      <td>Saturday</td>\n",
       "      <td>10</td>\n",
       "      <td>treatment</td>\n",
       "      <td>0</td>\n",
       "    </tr>\n",
       "    <tr>\n",
       "      <th>6</th>\n",
       "      <td>1116205</td>\n",
       "      <td>ad</td>\n",
       "      <td>False</td>\n",
       "      <td>264</td>\n",
       "      <td>Wednesday</td>\n",
       "      <td>13</td>\n",
       "      <td>treatment</td>\n",
       "      <td>0</td>\n",
       "    </tr>\n",
       "    <tr>\n",
       "      <th>7</th>\n",
       "      <td>1496843</td>\n",
       "      <td>ad</td>\n",
       "      <td>False</td>\n",
       "      <td>17</td>\n",
       "      <td>Sunday</td>\n",
       "      <td>18</td>\n",
       "      <td>treatment</td>\n",
       "      <td>0</td>\n",
       "    </tr>\n",
       "    <tr>\n",
       "      <th>8</th>\n",
       "      <td>1448851</td>\n",
       "      <td>ad</td>\n",
       "      <td>False</td>\n",
       "      <td>21</td>\n",
       "      <td>Tuesday</td>\n",
       "      <td>19</td>\n",
       "      <td>treatment</td>\n",
       "      <td>0</td>\n",
       "    </tr>\n",
       "    <tr>\n",
       "      <th>9</th>\n",
       "      <td>1446284</td>\n",
       "      <td>ad</td>\n",
       "      <td>False</td>\n",
       "      <td>142</td>\n",
       "      <td>Monday</td>\n",
       "      <td>14</td>\n",
       "      <td>treatment</td>\n",
       "      <td>0</td>\n",
       "    </tr>\n",
       "  </tbody>\n",
       "</table>\n",
       "</div>"
      ],
      "text/plain": [
       "   user id test group  converted  total ads most ads day  most ads hour  \\\n",
       "0  1069124         ad      False        130       Monday             20   \n",
       "1  1119715         ad      False         93      Tuesday             22   \n",
       "2  1144181         ad      False         21      Tuesday             18   \n",
       "3  1435133         ad      False        355      Tuesday             10   \n",
       "4  1015700         ad      False        276       Friday             14   \n",
       "5  1137664         ad      False        734     Saturday             10   \n",
       "6  1116205         ad      False        264    Wednesday             13   \n",
       "7  1496843         ad      False         17       Sunday             18   \n",
       "8  1448851         ad      False         21      Tuesday             19   \n",
       "9  1446284         ad      False        142       Monday             14   \n",
       "\n",
       "       group  is conversion  \n",
       "0  treatment              0  \n",
       "1  treatment              0  \n",
       "2  treatment              0  \n",
       "3  treatment              0  \n",
       "4  treatment              0  \n",
       "5  treatment              0  \n",
       "6  treatment              0  \n",
       "7  treatment              0  \n",
       "8  treatment              0  \n",
       "9  treatment              0  "
      ]
     },
     "execution_count": 3,
     "metadata": {},
     "output_type": "execute_result"
    }
   ],
   "source": [
    "# file path\n",
    "filename = 'dataset/marketing_AB.csv'\n",
    "\n",
    "# Load data\n",
    "df = load_data(filename)\n",
    "\n",
    "# display first 10 rows\n",
    "df.head(10)"
   ]
  },
  {
   "attachments": {},
   "cell_type": "markdown",
   "metadata": {},
   "source": [
    "There are 7 columns in the dataframe: `Index`, `user id`, `test group`, `converted`, `total ads`, `most ads day`, and `most ads hour`\n",
    "- `Index`: Row index\n",
    "- `user id`: User ID (unique)\n",
    "- `test group`: If \"ad\" the person saw the advertisement, if \"psa\" they only saw the public service announcement\n",
    "- `converted`: If a person bought the product then True, else is False\n",
    "- `total ads`: Amount of ads seen by person\n",
    "- `most ads day`: Day that the person saw the biggest amount of ads\n",
    "- `most ads hour`: Hour of day that the person saw the biggest amount of ads"
   ]
  },
  {
   "cell_type": "code",
   "execution_count": 4,
   "metadata": {},
   "outputs": [
    {
     "name": "stdout",
     "output_type": "stream",
     "text": [
      "<class 'pandas.core.frame.DataFrame'>\n",
      "RangeIndex: 588101 entries, 0 to 588100\n",
      "Data columns (total 8 columns):\n",
      " #   Column         Non-Null Count   Dtype \n",
      "---  ------         --------------   ----- \n",
      " 0   user id        588101 non-null  int64 \n",
      " 1   test group     588101 non-null  object\n",
      " 2   converted      588101 non-null  bool  \n",
      " 3   total ads      588101 non-null  int64 \n",
      " 4   most ads day   588101 non-null  object\n",
      " 5   most ads hour  588101 non-null  int64 \n",
      " 6   group          588101 non-null  object\n",
      " 7   is conversion  588101 non-null  int64 \n",
      "dtypes: bool(1), int64(4), object(3)\n",
      "memory usage: 32.0+ MB\n"
     ]
    }
   ],
   "source": [
    "# overview of the data\n",
    "df.info()"
   ]
  },
  {
   "cell_type": "code",
   "execution_count": 5,
   "metadata": {},
   "outputs": [
    {
     "data": {
      "text/plain": [
       "(588101, 8)"
      ]
     },
     "execution_count": 5,
     "metadata": {},
     "output_type": "execute_result"
    }
   ],
   "source": [
    "# dimensions of the data\n",
    "df.shape"
   ]
  },
  {
   "attachments": {},
   "cell_type": "markdown",
   "metadata": {},
   "source": [
    "There no missing values in the dataframe, and the data types are correct. The `converted` column is a boolean column, and the `total ads`, `most ads day`, and `most ads hour` columns are integer columns. The `test group` column is a categorical column, and the `user id` column is a string column."
   ]
  },
  {
   "attachments": {},
   "cell_type": "markdown",
   "metadata": {},
   "source": [
    "#### Missing Values\n",
    "\n",
    "There are no missing values in the dataframe."
   ]
  },
  {
   "cell_type": "code",
   "execution_count": 6,
   "metadata": {},
   "outputs": [
    {
     "data": {
      "text/plain": [
       "user id          0\n",
       "test group       0\n",
       "converted        0\n",
       "total ads        0\n",
       "most ads day     0\n",
       "most ads hour    0\n",
       "group            0\n",
       "is conversion    0\n",
       "dtype: int64"
      ]
     },
     "execution_count": 6,
     "metadata": {},
     "output_type": "execute_result"
    }
   ],
   "source": [
    "# check for missing values\n",
    "df.isna().sum()"
   ]
  },
  {
   "attachments": {},
   "cell_type": "markdown",
   "metadata": {},
   "source": [
    "#### Check Uniqueness\n",
    "\n",
    "The `user id` column is a unique identifier for each row, so we check if there are any duplicate values in the column."
   ]
  },
  {
   "cell_type": "code",
   "execution_count": 7,
   "metadata": {},
   "outputs": [
    {
     "data": {
      "text/plain": [
       "0"
      ]
     },
     "execution_count": 7,
     "metadata": {},
     "output_type": "execute_result"
    }
   ],
   "source": [
    "df['user id'].duplicated().sum()"
   ]
  },
  {
   "attachments": {},
   "cell_type": "markdown",
   "metadata": {},
   "source": [
    "There no duplicate values in the `user id` column. This means that each row in the dataframe represents a unique user."
   ]
  },
  {
   "attachments": {},
   "cell_type": "markdown",
   "metadata": {},
   "source": [
    "#### Invalid Values\n",
    "\n",
    "We will check the following column whether it invalid values or not :\n",
    "- `test group` : If the value is not \"ad\" or \"psa\"\n",
    "- `converted` : If the value is not True or False\n",
    "- `total ads` : If the value is less than 0\n",
    "- `most ads day` : If the value is not between Monday, Tuesday, Wednesday, Thursday, Friday, Saturday, and Sunday\n",
    "- `most ads hour` : If the value is not between 0 and 23"
   ]
  },
  {
   "cell_type": "code",
   "execution_count": 8,
   "metadata": {},
   "outputs": [
    {
     "name": "stdout",
     "output_type": "stream",
     "text": [
      "['ad' 'psa']\n"
     ]
    }
   ],
   "source": [
    "# Check for variants test group\n",
    "unique_variant = df['test group'].unique()\n",
    "print(unique_variant)"
   ]
  },
  {
   "cell_type": "code",
   "execution_count": 9,
   "metadata": {},
   "outputs": [
    {
     "name": "stdout",
     "output_type": "stream",
     "text": [
      "[False  True]\n"
     ]
    }
   ],
   "source": [
    "# Check for conversion\n",
    "unique_conversion = df['converted'].unique()\n",
    "print(unique_conversion)"
   ]
  },
  {
   "cell_type": "code",
   "execution_count": 10,
   "metadata": {},
   "outputs": [
    {
     "name": "stdout",
     "output_type": "stream",
     "text": [
      "0\n"
     ]
    }
   ],
   "source": [
    "# Check value of total ads\n",
    "negative_total_ads = [i for i in df['total ads'] if i < 0]\n",
    "print(len(negative_total_ads))"
   ]
  },
  {
   "cell_type": "code",
   "execution_count": 11,
   "metadata": {},
   "outputs": [
    {
     "name": "stdout",
     "output_type": "stream",
     "text": [
      "0\n"
     ]
    }
   ],
   "source": [
    "# Check value of most ads day\n",
    "day_name = ['Monday', 'Tuesday', 'Wednesday', 'Thursday', 'Friday', 'Saturday', 'Sunday']\n",
    "\n",
    "# Lowercase the day name\n",
    "day_name = [day.lower() for day in day_name]\n",
    "\n",
    "# Check if there is a day that is not in the day_name list\n",
    "non_existing_day = [day for day in df['most ads day'] if day.lower() not in day_name]\n",
    "print(len(non_existing_day))"
   ]
  },
  {
   "cell_type": "code",
   "execution_count": 12,
   "metadata": {},
   "outputs": [
    {
     "name": "stdout",
     "output_type": "stream",
     "text": [
      "0\n"
     ]
    }
   ],
   "source": [
    "# Check value of most ads hour\n",
    "non_existing_hour = [hour for hour in df['most ads hour'] if hour < 0 or hour > 23]\n",
    "print(len(non_existing_hour))"
   ]
  },
  {
   "attachments": {},
   "cell_type": "markdown",
   "metadata": {},
   "source": [
    "There are no invalid values in the dataframe. This means that the data is clean and ready to be analyzed. "
   ]
  },
  {
   "cell_type": "code",
   "execution_count": 13,
   "metadata": {},
   "outputs": [],
   "source": [
    "def split_data(data: pd.DataFrame):\n",
    "    \"\"\"Function to split data into control and treatment group\n",
    "\n",
    "    Args:\n",
    "        data (pd.DataFrame): Dataframe with the data\n",
    "\n",
    "    Returns:\n",
    "        control_data (pd.DataFrame): Dataframe with the control group data\n",
    "        treatment_data (pd.DataFrame): Dataframe with the treatment group data\n",
    "    \"\"\"\n",
    "    # Copy the data\n",
    "    data = data.copy()\n",
    "\n",
    "    # Split into control and treatment group\n",
    "    control_data = data[data['group'] == 'control']\n",
    "    treatment_data = data[data['group'] == 'treatment']\n",
    "    \n",
    "    # reset index\n",
    "    control_data.reset_index(drop=True, inplace=True)\n",
    "    treatment_data.reset_index(drop=True, inplace=True)\n",
    "    \n",
    "    return control_data, treatment_data"
   ]
  },
  {
   "cell_type": "code",
   "execution_count": 14,
   "metadata": {},
   "outputs": [
    {
     "data": {
      "text/html": [
       "<div>\n",
       "<style scoped>\n",
       "    .dataframe tbody tr th:only-of-type {\n",
       "        vertical-align: middle;\n",
       "    }\n",
       "\n",
       "    .dataframe tbody tr th {\n",
       "        vertical-align: top;\n",
       "    }\n",
       "\n",
       "    .dataframe thead th {\n",
       "        text-align: right;\n",
       "    }\n",
       "</style>\n",
       "<table border=\"1\" class=\"dataframe\">\n",
       "  <thead>\n",
       "    <tr style=\"text-align: right;\">\n",
       "      <th></th>\n",
       "      <th>user id</th>\n",
       "      <th>test group</th>\n",
       "      <th>converted</th>\n",
       "      <th>total ads</th>\n",
       "      <th>most ads day</th>\n",
       "      <th>most ads hour</th>\n",
       "      <th>group</th>\n",
       "      <th>is conversion</th>\n",
       "    </tr>\n",
       "  </thead>\n",
       "  <tbody>\n",
       "    <tr>\n",
       "      <th>0</th>\n",
       "      <td>900681</td>\n",
       "      <td>psa</td>\n",
       "      <td>False</td>\n",
       "      <td>248</td>\n",
       "      <td>Saturday</td>\n",
       "      <td>19</td>\n",
       "      <td>control</td>\n",
       "      <td>0</td>\n",
       "    </tr>\n",
       "    <tr>\n",
       "      <th>1</th>\n",
       "      <td>905704</td>\n",
       "      <td>psa</td>\n",
       "      <td>False</td>\n",
       "      <td>27</td>\n",
       "      <td>Thursday</td>\n",
       "      <td>8</td>\n",
       "      <td>control</td>\n",
       "      <td>0</td>\n",
       "    </tr>\n",
       "    <tr>\n",
       "      <th>2</th>\n",
       "      <td>904595</td>\n",
       "      <td>psa</td>\n",
       "      <td>False</td>\n",
       "      <td>13</td>\n",
       "      <td>Tuesday</td>\n",
       "      <td>19</td>\n",
       "      <td>control</td>\n",
       "      <td>0</td>\n",
       "    </tr>\n",
       "    <tr>\n",
       "      <th>3</th>\n",
       "      <td>901904</td>\n",
       "      <td>psa</td>\n",
       "      <td>False</td>\n",
       "      <td>32</td>\n",
       "      <td>Wednesday</td>\n",
       "      <td>19</td>\n",
       "      <td>control</td>\n",
       "      <td>0</td>\n",
       "    </tr>\n",
       "    <tr>\n",
       "      <th>4</th>\n",
       "      <td>902234</td>\n",
       "      <td>psa</td>\n",
       "      <td>False</td>\n",
       "      <td>105</td>\n",
       "      <td>Tuesday</td>\n",
       "      <td>19</td>\n",
       "      <td>control</td>\n",
       "      <td>0</td>\n",
       "    </tr>\n",
       "    <tr>\n",
       "      <th>5</th>\n",
       "      <td>906079</td>\n",
       "      <td>psa</td>\n",
       "      <td>False</td>\n",
       "      <td>37</td>\n",
       "      <td>Monday</td>\n",
       "      <td>10</td>\n",
       "      <td>control</td>\n",
       "      <td>0</td>\n",
       "    </tr>\n",
       "    <tr>\n",
       "      <th>6</th>\n",
       "      <td>912103</td>\n",
       "      <td>psa</td>\n",
       "      <td>False</td>\n",
       "      <td>90</td>\n",
       "      <td>Friday</td>\n",
       "      <td>14</td>\n",
       "      <td>control</td>\n",
       "      <td>0</td>\n",
       "    </tr>\n",
       "    <tr>\n",
       "      <th>7</th>\n",
       "      <td>909288</td>\n",
       "      <td>psa</td>\n",
       "      <td>False</td>\n",
       "      <td>22</td>\n",
       "      <td>Friday</td>\n",
       "      <td>0</td>\n",
       "      <td>control</td>\n",
       "      <td>0</td>\n",
       "    </tr>\n",
       "    <tr>\n",
       "      <th>8</th>\n",
       "      <td>914634</td>\n",
       "      <td>psa</td>\n",
       "      <td>False</td>\n",
       "      <td>334</td>\n",
       "      <td>Thursday</td>\n",
       "      <td>18</td>\n",
       "      <td>control</td>\n",
       "      <td>0</td>\n",
       "    </tr>\n",
       "    <tr>\n",
       "      <th>9</th>\n",
       "      <td>903660</td>\n",
       "      <td>psa</td>\n",
       "      <td>False</td>\n",
       "      <td>1</td>\n",
       "      <td>Tuesday</td>\n",
       "      <td>19</td>\n",
       "      <td>control</td>\n",
       "      <td>0</td>\n",
       "    </tr>\n",
       "  </tbody>\n",
       "</table>\n",
       "</div>"
      ],
      "text/plain": [
       "   user id test group  converted  total ads most ads day  most ads hour  \\\n",
       "0   900681        psa      False        248     Saturday             19   \n",
       "1   905704        psa      False         27     Thursday              8   \n",
       "2   904595        psa      False         13      Tuesday             19   \n",
       "3   901904        psa      False         32    Wednesday             19   \n",
       "4   902234        psa      False        105      Tuesday             19   \n",
       "5   906079        psa      False         37       Monday             10   \n",
       "6   912103        psa      False         90       Friday             14   \n",
       "7   909288        psa      False         22       Friday              0   \n",
       "8   914634        psa      False        334     Thursday             18   \n",
       "9   903660        psa      False          1      Tuesday             19   \n",
       "\n",
       "     group  is conversion  \n",
       "0  control              0  \n",
       "1  control              0  \n",
       "2  control              0  \n",
       "3  control              0  \n",
       "4  control              0  \n",
       "5  control              0  \n",
       "6  control              0  \n",
       "7  control              0  \n",
       "8  control              0  \n",
       "9  control              0  "
      ]
     },
     "execution_count": 14,
     "metadata": {},
     "output_type": "execute_result"
    }
   ],
   "source": [
    "# Filter data into control group\n",
    "data_control = split_data(df)[0]\n",
    "\n",
    "# Display first 10 rows\n",
    "data_control.head(10)"
   ]
  },
  {
   "cell_type": "code",
   "execution_count": 15,
   "metadata": {},
   "outputs": [
    {
     "data": {
      "text/plain": [
       "array(['psa'], dtype=object)"
      ]
     },
     "execution_count": 15,
     "metadata": {},
     "output_type": "execute_result"
    }
   ],
   "source": [
    "# Check unique value of test group\n",
    "data_control['test group'].unique()"
   ]
  },
  {
   "cell_type": "code",
   "execution_count": 16,
   "metadata": {},
   "outputs": [
    {
     "data": {
      "text/html": [
       "<div>\n",
       "<style scoped>\n",
       "    .dataframe tbody tr th:only-of-type {\n",
       "        vertical-align: middle;\n",
       "    }\n",
       "\n",
       "    .dataframe tbody tr th {\n",
       "        vertical-align: top;\n",
       "    }\n",
       "\n",
       "    .dataframe thead th {\n",
       "        text-align: right;\n",
       "    }\n",
       "</style>\n",
       "<table border=\"1\" class=\"dataframe\">\n",
       "  <thead>\n",
       "    <tr style=\"text-align: right;\">\n",
       "      <th></th>\n",
       "      <th>user id</th>\n",
       "      <th>test group</th>\n",
       "      <th>converted</th>\n",
       "      <th>total ads</th>\n",
       "      <th>most ads day</th>\n",
       "      <th>most ads hour</th>\n",
       "      <th>group</th>\n",
       "      <th>is conversion</th>\n",
       "    </tr>\n",
       "  </thead>\n",
       "  <tbody>\n",
       "    <tr>\n",
       "      <th>0</th>\n",
       "      <td>1069124</td>\n",
       "      <td>ad</td>\n",
       "      <td>False</td>\n",
       "      <td>130</td>\n",
       "      <td>Monday</td>\n",
       "      <td>20</td>\n",
       "      <td>treatment</td>\n",
       "      <td>0</td>\n",
       "    </tr>\n",
       "    <tr>\n",
       "      <th>1</th>\n",
       "      <td>1119715</td>\n",
       "      <td>ad</td>\n",
       "      <td>False</td>\n",
       "      <td>93</td>\n",
       "      <td>Tuesday</td>\n",
       "      <td>22</td>\n",
       "      <td>treatment</td>\n",
       "      <td>0</td>\n",
       "    </tr>\n",
       "    <tr>\n",
       "      <th>2</th>\n",
       "      <td>1144181</td>\n",
       "      <td>ad</td>\n",
       "      <td>False</td>\n",
       "      <td>21</td>\n",
       "      <td>Tuesday</td>\n",
       "      <td>18</td>\n",
       "      <td>treatment</td>\n",
       "      <td>0</td>\n",
       "    </tr>\n",
       "    <tr>\n",
       "      <th>3</th>\n",
       "      <td>1435133</td>\n",
       "      <td>ad</td>\n",
       "      <td>False</td>\n",
       "      <td>355</td>\n",
       "      <td>Tuesday</td>\n",
       "      <td>10</td>\n",
       "      <td>treatment</td>\n",
       "      <td>0</td>\n",
       "    </tr>\n",
       "    <tr>\n",
       "      <th>4</th>\n",
       "      <td>1015700</td>\n",
       "      <td>ad</td>\n",
       "      <td>False</td>\n",
       "      <td>276</td>\n",
       "      <td>Friday</td>\n",
       "      <td>14</td>\n",
       "      <td>treatment</td>\n",
       "      <td>0</td>\n",
       "    </tr>\n",
       "    <tr>\n",
       "      <th>5</th>\n",
       "      <td>1137664</td>\n",
       "      <td>ad</td>\n",
       "      <td>False</td>\n",
       "      <td>734</td>\n",
       "      <td>Saturday</td>\n",
       "      <td>10</td>\n",
       "      <td>treatment</td>\n",
       "      <td>0</td>\n",
       "    </tr>\n",
       "    <tr>\n",
       "      <th>6</th>\n",
       "      <td>1116205</td>\n",
       "      <td>ad</td>\n",
       "      <td>False</td>\n",
       "      <td>264</td>\n",
       "      <td>Wednesday</td>\n",
       "      <td>13</td>\n",
       "      <td>treatment</td>\n",
       "      <td>0</td>\n",
       "    </tr>\n",
       "    <tr>\n",
       "      <th>7</th>\n",
       "      <td>1496843</td>\n",
       "      <td>ad</td>\n",
       "      <td>False</td>\n",
       "      <td>17</td>\n",
       "      <td>Sunday</td>\n",
       "      <td>18</td>\n",
       "      <td>treatment</td>\n",
       "      <td>0</td>\n",
       "    </tr>\n",
       "    <tr>\n",
       "      <th>8</th>\n",
       "      <td>1448851</td>\n",
       "      <td>ad</td>\n",
       "      <td>False</td>\n",
       "      <td>21</td>\n",
       "      <td>Tuesday</td>\n",
       "      <td>19</td>\n",
       "      <td>treatment</td>\n",
       "      <td>0</td>\n",
       "    </tr>\n",
       "    <tr>\n",
       "      <th>9</th>\n",
       "      <td>1446284</td>\n",
       "      <td>ad</td>\n",
       "      <td>False</td>\n",
       "      <td>142</td>\n",
       "      <td>Monday</td>\n",
       "      <td>14</td>\n",
       "      <td>treatment</td>\n",
       "      <td>0</td>\n",
       "    </tr>\n",
       "  </tbody>\n",
       "</table>\n",
       "</div>"
      ],
      "text/plain": [
       "   user id test group  converted  total ads most ads day  most ads hour  \\\n",
       "0  1069124         ad      False        130       Monday             20   \n",
       "1  1119715         ad      False         93      Tuesday             22   \n",
       "2  1144181         ad      False         21      Tuesday             18   \n",
       "3  1435133         ad      False        355      Tuesday             10   \n",
       "4  1015700         ad      False        276       Friday             14   \n",
       "5  1137664         ad      False        734     Saturday             10   \n",
       "6  1116205         ad      False        264    Wednesday             13   \n",
       "7  1496843         ad      False         17       Sunday             18   \n",
       "8  1448851         ad      False         21      Tuesday             19   \n",
       "9  1446284         ad      False        142       Monday             14   \n",
       "\n",
       "       group  is conversion  \n",
       "0  treatment              0  \n",
       "1  treatment              0  \n",
       "2  treatment              0  \n",
       "3  treatment              0  \n",
       "4  treatment              0  \n",
       "5  treatment              0  \n",
       "6  treatment              0  \n",
       "7  treatment              0  \n",
       "8  treatment              0  \n",
       "9  treatment              0  "
      ]
     },
     "execution_count": 16,
     "metadata": {},
     "output_type": "execute_result"
    }
   ],
   "source": [
    "# Filter data for treatment group\n",
    "data_treatment = split_data(df)[1]\n",
    "\n",
    "# display the first 10 rows of the data\n",
    "data_treatment.head(10)"
   ]
  },
  {
   "cell_type": "code",
   "execution_count": 17,
   "metadata": {},
   "outputs": [
    {
     "data": {
      "text/plain": [
       "array(['ad'], dtype=object)"
      ]
     },
     "execution_count": 17,
     "metadata": {},
     "output_type": "execute_result"
    }
   ],
   "source": [
    "data_treatment['test group'].unique()"
   ]
  },
  {
   "attachments": {},
   "cell_type": "markdown",
   "metadata": {},
   "source": [
    "### A/A Test\n",
    "\n",
    "The A/A test is a test that is conducted before the A/B test to make sure that the test groups are similar. The A/A test is conducted by randomly assigning users to two test groups, and then comparing the two groups to see if they are similar. If the two groups are similar, then the A/B test can be conducted. If the two groups are not similar, then the A/A test should be repeated until the two groups are similar."
   ]
  },
  {
   "cell_type": "code",
   "execution_count": 18,
   "metadata": {},
   "outputs": [
    {
     "data": {
      "text/plain": [
       "user id  test group  converted  total ads  most ads day  most ads hour  group    is conversion\n",
       "900000   psa         False      2          Wednesday     16             control  0                1\n",
       "915690   psa         False      40         Wednesday     17             control  0                1\n",
       "915688   psa         False      7          Monday        14             control  0                1\n",
       "915687   psa         False      7          Saturday      13             control  0                1\n",
       "915686   psa         False      7          Wednesday     20             control  0                1\n",
       "                                                                                                 ..\n",
       "907839   psa         False      24         Sunday        23             control  0                1\n",
       "907838   psa         False      1          Monday        20             control  0                1\n",
       "907837   psa         False      68         Friday        22             control  0                1\n",
       "907836   psa         False      15         Sunday        16             control  0                1\n",
       "923523   psa         False      3          Tuesday       16             control  0                1\n",
       "Length: 23524, dtype: int64"
      ]
     },
     "execution_count": 18,
     "metadata": {},
     "output_type": "execute_result"
    }
   ],
   "source": [
    "# Check value of most control and treatment group\n",
    "data_control.value_counts()"
   ]
  },
  {
   "cell_type": "code",
   "execution_count": 19,
   "metadata": {},
   "outputs": [
    {
     "data": {
      "image/png": "[encoded data removed]",
      "text/plain": [
       "<Figure size 1000x700 with 1 Axes>"
      ]
     },
     "metadata": {},
     "output_type": "display_data"
    }
   ],
   "source": [
    "fig, ax = plt.subplots(nrows=1, ncols=1, figsize=(10, 7))\n",
    "\n",
    "# Styling plot\n",
    "sns.set_style(\"darkgrid\")\n",
    "sns.set_palette(\"pastel\")\n",
    "plt.style.use('ggplot')\n",
    "\n",
    "# Plot the distribution of the test group\n",
    "sns.countplot(\n",
    "    x='test group', \n",
    "    data=df, \n",
    "    ax=ax\n",
    ")\n",
    "\n",
    "fig.suptitle('Control and Treatment Distribution', fontsize=20)\n",
    "\n",
    "plt.show()"
   ]
  },
  {
   "attachments": {},
   "cell_type": "markdown",
   "metadata": {},
   "source": [
    "#### Sample Size\n",
    "\n",
    "Important steps in designing a research study includes determining the appropriate sample size. The number of participants or observations needed to achieve a certain level of accuracy and power in the statistical analysis is the sample size. For categorical data, such as yes/no responses or multiple choice options, the sample size calculation is based on proportions. Proportions are the fractions of the total sample that belong to each category. The sample size calculation for categorical data depends on several factors, such as:\n",
    "\n",
    "- The confidence level refers to the extent to which the estimation bears resemblance to the actual proportion of the population.\n",
    "- The margin of error is the degree of inaccuracy in the estimation that is considered acceptable.\n",
    "- The predicted proportion is the number that is considered to be the most probable representation of the population proportion, based on previous research or assumptions.\n",
    "- The effect size indicates the magnitude of difference that is expected to be observed between two proportions in a comparative study.\n",
    "\n",
    "Different formulas and methods for calculating the sample size for categorical data are available depending on the research question and design. In this article, some common approaches and examples for calculating sample size for categorical data are introduced.\n",
    "\n",
    "$$\n",
    "n = \\cfrac{Np(1-p)}{(N-1)\\cfrac{d^{2}}{z^{2}} + p(1-p)}\n",
    "$$\n",
    "\n",
    "where:\n",
    "- n is the sample size\n",
    "- N is the total population size\n",
    "- p is the proportion of the population that belongs to the category of interest\n",
    "- z is the z-score for the confidence level\n",
    "- d is the margin of error\n",
    "\n",
    "To calculate the margin of error (d), one can use the equation:\n",
    "$$\n",
    "d = z_{\\alpha/2} \\sqrt{\\widehat{\\text{var}} (\\hat{p})}\n",
    "$$\n",
    "    \n",
    "where:\n",
    "- $\\hat{p}$ is the proportion of the population that belongs to the category of interest\n",
    "\n",
    "To calculate $\\hat{p}$, one can use the equation:\n",
    "$$\n",
    "\\hat{p} = \\cfrac{a}{n}\n",
    "$$\n",
    "\n",
    "where:\n",
    "- a is the number of observations in the sample that belong to the category of interest\n",
    "\n",
    "However, if the proportion is unknown, then a value of 0.5 can be assumed for $\\hat{p}$.\n",
    "\n",
    "<br>\n",
    "\n",
    "</br>\n",
    "\n",
    "\n",
    "If the proportion is known, then one can estimate the variance value using the equation:\n",
    "$$\n",
    "\\widehat{\\text{var}}(\\hat{p}) =\n",
    "\\cfrac{\\hat{p}(1 - \\hat{p})}{n-1}\n",
    "$$\n",
    "\n",
    "where:\n",
    "- $\\widehat{\\text{var}}(\\hat{p})$ is Estimate the variance of proportion estimator\n",
    "- $\\hat{p}$ is the proportion of the population that belongs to the category of interest"
   ]
  },
  {
   "cell_type": "code",
   "execution_count": 20,
   "metadata": {},
   "outputs": [],
   "source": [
    "def proportion_sample_size(N: int, alpha: float, p_hat: float=0.05, d: float=0.05):\n",
    "    \"\"\"The sample size for categorical data can be determined by calculating the inputs of proportion, \n",
    "    margin of error, and confidence level\n",
    "\n",
    "    Args:\n",
    "        N (integer): population size\n",
    "        alpha (float): confidence level\n",
    "        p_hat (float, optional): proportion. Defaults to 0.05.\n",
    "        d (float, optional): margin of error. Defaults to 0.05.\n",
    "\n",
    "    Returns:\n",
    "        n (integer): sample size\n",
    "    \"\"\"\n",
    "    z_stat = stats.norm.ppf(1 - alpha/2.) # z-statistic\n",
    "    \n",
    "    # numerator\n",
    "    numerator = N * p_hat * (1-p_hat)\n",
    "    \n",
    "    # denominator\n",
    "    denominator = ((N-1) * d**2/z_stat**2) + (p_hat * (1-p_hat))\n",
    "    \n",
    "    # sample size\n",
    "    n = numerator/denominator\n",
    "    \n",
    "    return  int(np.ceil(n))"
   ]
  },
  {
   "cell_type": "code",
   "execution_count": 21,
   "metadata": {},
   "outputs": [
    {
     "name": "stdout",
     "output_type": "stream",
     "text": [
      "Number of sample size for A/A Test for each group: 1694 users\n"
     ]
    }
   ],
   "source": [
    "# sample size for control group\n",
    "n = proportion_sample_size(\n",
    "    N=df['test group'].value_counts()[1], \n",
    "    alpha=0.05, \n",
    "    p_hat=0.05, \n",
    "    d=0.01\n",
    ")\n",
    "print(f'Number of sample size for A/A Test for each group: {n} users')"
   ]
  },
  {
   "attachments": {},
   "cell_type": "markdown",
   "metadata": {},
   "source": [
    "#### Split the data into Control and Treatment\n",
    "\n",
    "Minimum sample size for each group is 1694."
   ]
  },
  {
   "cell_type": "code",
   "execution_count": 22,
   "metadata": {},
   "outputs": [],
   "source": [
    "def split_data_AA_test(data:pd.DataFrame, n_size: int):\n",
    "    \"\"\"Split data into control and treatment group for A/A Test\n",
    "\n",
    "    Args:\n",
    "        data (pd.DataFrame): Dataframe with the data\n",
    "        n_size (int): Number of sample size for each group\n",
    "\n",
    "    Returns:\n",
    "        control_data (pd.DataFrame): Dataframe with the control group\n",
    "        treatment_data (pd.DataFrame): Dataframe with the treatment group\n",
    "    \"\"\"\n",
    "    # Copy the data\n",
    "    data = data.copy()\n",
    "\n",
    "    # Split into control and treatment group\n",
    "    control_data = data.sample(n_size)\n",
    "    treatment_data = data.sample(n_size)\n",
    "    \n",
    "    # reset index\n",
    "    control_data.reset_index(drop=True, inplace=True)\n",
    "    treatment_data.reset_index(drop=True, inplace=True)\n",
    "    \n",
    "    return control_data, treatment_data"
   ]
  },
  {
   "cell_type": "code",
   "execution_count": 23,
   "metadata": {},
   "outputs": [
    {
     "data": {
      "text/plain": [
       "((1694, 8), (1694, 8))"
      ]
     },
     "execution_count": 23,
     "metadata": {},
     "output_type": "execute_result"
    }
   ],
   "source": [
    "# Sampling data for A/A test for each group\n",
    "AA_control, AA_treatment = split_data_AA_test(\n",
    "    data = data_control,\n",
    "    n_size=n\n",
    ")\n",
    "\n",
    "# Check the number of sample size for each group\n",
    "AA_control.shape, AA_treatment.shape"
   ]
  },
  {
   "attachments": {},
   "cell_type": "markdown",
   "metadata": {},
   "source": [
    "#### Calculate key evaluation metrics\n",
    "Find Conversion rate for each group using function `extract_evaluation_metric`"
   ]
  },
  {
   "cell_type": "code",
   "execution_count": 24,
   "metadata": {},
   "outputs": [],
   "source": [
    "def extract_evaluation_metric(data: pd.DataFrame):\n",
    "    \"\"\"Extract evaluation metric from the data\n",
    "\n",
    "    Args:\n",
    "        data (pd.DataFrame): Dataframe with the data\n",
    "\n",
    "    Returns:\n",
    "        result (dict): Dictionary with the evaluation metric\n",
    "    \"\"\"\n",
    "    # Number of sessions\n",
    "    n_session = int(data.shape[0])\n",
    "\n",
    "    # Number of conversion\n",
    "    n_conversion = int(data['is conversion'].sum())\n",
    "\n",
    "    # Conversion rate (in percentage)\n",
    "    conversion_rate = (n_conversion / n_session) * 100\n",
    "\n",
    "    # Store the result in a dictionary\n",
    "    result = {}\n",
    "    result['session'] = n_session\n",
    "    result['conversion'] = n_conversion\n",
    "    result['CVR'] = np.round(conversion_rate, 3)\n",
    "    \n",
    "    return result"
   ]
  },
  {
   "cell_type": "code",
   "execution_count": 25,
   "metadata": {},
   "outputs": [
    {
     "name": "stdout",
     "output_type": "stream",
     "text": [
      "Convesion Rate on Control: 1.653\n",
      "Convesion Rate on Treatment: 1.948\n"
     ]
    }
   ],
   "source": [
    "# Extract evaluation metric for each group\n",
    "AA_control_res = extract_evaluation_metric(data = AA_control)\n",
    "AA_treatment_res = extract_evaluation_metric(data = AA_treatment)\n",
    "\n",
    "# Print the result\n",
    "print(f\"Convesion Rate on Control: {AA_control_res['CVR']}\")\n",
    "print(f\"Convesion Rate on Treatment: {AA_treatment_res['CVR']}\")"
   ]
  },
  {
   "cell_type": "code",
   "execution_count": 26,
   "metadata": {},
   "outputs": [],
   "source": [
    "# Visualize the conversion rate in control group and treatment group\n",
    "def visualize_CVR(cvr_control: float, cvr_treatment: float):\n",
    "    \"\"\"Visualize the conversion rate in control group and treatment group\n",
    "\n",
    "    Args:\n",
    "        cvr_control (float): Conversion rate in control group\n",
    "        cvr_treatment (float): Conversion rate in treatment group\n",
    "        \n",
    "    Returns:\n",
    "        Bar plot of the conversion rate in control group and treatment group\n",
    "    \"\"\"\n",
    "    \n",
    "    # Create a DataFrame from the results\n",
    "    df = pd.DataFrame({\n",
    "            'Group': ['Control', 'Treatment'],\n",
    "            'CVR': [cvr_control, cvr_treatment]        \n",
    "        })\n",
    "\n",
    "    # Styling plot\n",
    "    sns.set_style(\"darkgrid\")\n",
    "    sns.set_palette(\"pastel\")\n",
    "    plt.style.use('ggplot')\n",
    "\n",
    "    # Create a figure and axis\n",
    "    fig, ax = plt.subplots(nrows=1, ncols=1, figsize=(8, 6), sharey=True)\n",
    "\n",
    "    # Create bar plots\n",
    "    sns.barplot(x=\"Group\", y=\"CVR\", data=df, ax=ax)\n",
    "\n",
    "    # Set titles for the subplots\n",
    "    ax.set_title('Conversion Rate Each Group')\n",
    "    \n",
    "    # Set labels for the subplots\n",
    "    ax.set_ylabel(\"Conversion Rate\", fontsize=16)\n",
    "    ax.set_xlabel(\"Group\", fontsize=16)\n",
    "    ax.set_xticklabels(labels=[\"control 1\", \"control 2\"], fontsize=16)\n",
    "    ax.legend(fontsize=16)\n",
    "\n",
    "    plt.show()"
   ]
  },
  {
   "cell_type": "code",
   "execution_count": 27,
   "metadata": {},
   "outputs": [
    {
     "name": "stderr",
     "output_type": "stream",
     "text": [
      "No artists with labels found to put in legend.  Note that artists whose label start with an underscore are ignored when legend() is called with no argument.\n"
     ]
    },
    {
     "data": {
      "image/png": "[encoded data removed]",
      "text/plain": [
       "<Figure size 800x600 with 1 Axes>"
      ]
     },
     "metadata": {},
     "output_type": "display_data"
    }
   ],
   "source": [
    "# Visualize the conversion rate in control group and treatment group\n",
    "visualize_CVR(\n",
    "    AA_control_res['CVR'],\n",
    "    AA_treatment_res['CVR']\n",
    ")"
   ]
  },
  {
   "attachments": {},
   "cell_type": "markdown",
   "metadata": {},
   "source": [
    "#### Calculate lift-over-baseline\n",
    "\n",
    "$$\n",
    "\\text{Lift} = CVR_{\\text{treatment}} - CVR_{\\text{control}}\n",
    "$$"
   ]
  },
  {
   "cell_type": "code",
   "execution_count": 28,
   "metadata": {},
   "outputs": [
    {
     "name": "stdout",
     "output_type": "stream",
     "text": [
      "Lift: 0.29499999999999993\n"
     ]
    }
   ],
   "source": [
    "# Calculate the lift\n",
    "AA_lift = AA_treatment_res['CVR'] - AA_control_res['CVR']\n",
    "print(f\"Lift: {AA_lift}\")"
   ]
  },
  {
   "attachments": {},
   "cell_type": "markdown",
   "metadata": {},
   "source": [
    "#### Hypothesis Testing\n",
    "\n",
    "A hypothesis testing for conversion rate concerning AA test is a declaration that juxtaposes the conversion rate of the control group and the treatment group in an experiment where both groups are exposed to the same conditions. The null hypothesis ($H_{0}$) states that there exists no difference between the conversion rates of the two groups, implying that conversion rate control = conversion rate treatment. The alternative hypothesis ($H_{1}$) postulates that there is a difference between the conversion rates of the two groups, implying that conversion rate control ≠ conversion rate treatment. The testing hypothesis can be formulated as follows:\n",
    "\n",
    "$$H_{0} : \\text{Cr}_{\\text{A}_{\\text{control}}} = \\text{Cr}_{\\text{A}_{\\text{treatment}}}$$\n",
    "$$H_{1} : \\text{Cr}_{\\text{A}_{\\text{control}}} \\neq \\text{Cr}_{\\text{A}_{\\text{treatment}}}$$\n",
    "\n",
    "The decision rule based on the p-value is as follows:\n",
    "- If the p-value is less than or equal to the predetermined level of significance (such as 0.05), reject the null hypothesis ($H_{0}$) and accept the alternative hypothesis ($H_{1}$).\n",
    "- If the p-value is greater than the predetermined level of significance, fail to reject the null hypothesis ($H_{0}$) and do not accept the alternative hypothesis ($H_{1}$)."
   ]
  },
  {
   "cell_type": "code",
   "execution_count": 29,
   "metadata": {},
   "outputs": [],
   "source": [
    "# Buat count conversion & total observation\n",
    "count_conversion = [AA_treatment_res['conversion'], AA_control_res['conversion']]\n",
    "count_observation = [AA_treatment_res['session'], AA_control_res['session']]"
   ]
  },
  {
   "cell_type": "code",
   "execution_count": 30,
   "metadata": {},
   "outputs": [],
   "source": [
    "# Buat alternative\n",
    "alternative_option = \"two-sided\""
   ]
  },
  {
   "cell_type": "code",
   "execution_count": 31,
   "metadata": {},
   "outputs": [
    {
     "name": "stdout",
     "output_type": "stream",
     "text": [
      "Z stats : 0.6460\n",
      "P-value : 0.5183\n"
     ]
    }
   ],
   "source": [
    "# Panggil fungsi\n",
    "z_stat, p_value = proportions_ztest(count = count_conversion,\n",
    "                                       nobs = count_observation,\n",
    "                                       alternative = alternative_option)\n",
    "\n",
    "print(f\"Z stats : {z_stat:.4f}\")\n",
    "print(f\"P-value : {p_value:.4f}\")"
   ]
  },
  {
   "attachments": {},
   "cell_type": "markdown",
   "metadata": {},
   "source": [
    "##### Create Decision Rules\n",
    "\n",
    "In making statistical test decisions, we can use :\n",
    "- Comparison of z-statistics with critical value\n",
    "    - Two-tailed, z-test $>$ z-crit or z-test $<$ -z-crit; reject $H_0$\n",
    "\n",
    "- Comparison of p-value with alpha\n",
    "  - pvalue < $\\alpha$ → reject $H_0$\n",
    "\n",
    "The next step is to find the critical value to compare with the z-statistic. We use a significance level of 5%"
   ]
  },
  {
   "cell_type": "code",
   "execution_count": 32,
   "metadata": {},
   "outputs": [
    {
     "name": "stdout",
     "output_type": "stream",
     "text": [
      "z critical value : 1.9600\n"
     ]
    }
   ],
   "source": [
    "# critical value\n",
    "alpha= 0.05\n",
    "z_crit = stats.norm.ppf(1-alpha/2)\n",
    "\n",
    "print(f\"z critical value : {z_crit:.4f}\")"
   ]
  },
  {
   "cell_type": "code",
   "execution_count": 33,
   "metadata": {},
   "outputs": [
    {
     "name": "stdout",
     "output_type": "stream",
     "text": [
      "Fail to reject Null Hypothesis\n",
      "There is no significant difference between the two groups\n"
     ]
    }
   ],
   "source": [
    "# Making a decision\n",
    "if z_stat > z_crit:\n",
    "    print(\"Reject Null Hypothesis\")\n",
    "    print(\"There is a significant difference between the two groups\")\n",
    "else:\n",
    "    print(\"Fail to reject Null Hypothesis\")\n",
    "    print(\"There is no significant difference between the two groups\")"
   ]
  },
  {
   "cell_type": "code",
   "execution_count": 34,
   "metadata": {},
   "outputs": [
    {
     "name": "stdout",
     "output_type": "stream",
     "text": [
      "Reject Null Hypothesis\n"
     ]
    }
   ],
   "source": [
    "# Comparison of p-value and alpha\n",
    "if alpha< p_value:\n",
    "    print(\"Reject Null Hypothesis\")\n",
    "else:\n",
    "    print(\"Fail to reject Null Hypothesis\")"
   ]
  },
  {
   "attachments": {},
   "cell_type": "markdown",
   "metadata": {},
   "source": [
    "##### Visualize the decision rules using z-statistics distribution\n"
   ]
  },
  {
   "cell_type": "code",
   "execution_count": 35,
   "metadata": {},
   "outputs": [
    {
     "data": {
      "image/png": "[encoded data removed]",
      "text/plain": [
       "<Figure size 1000x700 with 1 Axes>"
      ]
     },
     "metadata": {},
     "output_type": "display_data"
    },
    {
     "name": "stdout",
     "output_type": "stream",
     "text": [
      "-Z-statistics:-0.6460\n",
      "Z-statistics: 0.6460\n",
      "-Z-critical : -1.9600\n",
      "Z-critical : 1.9600\n"
     ]
    }
   ],
   "source": [
    "fig, ax = plt.subplots(nrows=1, ncols=1, figsize=(10, 7))\n",
    "\n",
    "# Plot distribusi sample\n",
    "x = np.arange(-4, 4, 0.001)\n",
    "plt.plot(x, stats.norm.pdf(x, 0, 1), \n",
    "         color='blue')\n",
    "\n",
    "# Plot region dari alpha (region tempat menolak H-0)\n",
    "# Region ini berwarna merah\n",
    "x_alpha = np.arange(z_crit, 4., 0.001)\n",
    "y_alpha = stats.norm.pdf(x_alpha)\n",
    "ax.fill_between(x = x_alpha,\n",
    "                y1 = y_alpha,\n",
    "                facecolor = \"red\", \n",
    "                alpha = .35,\n",
    "                label = \"alpha\")\n",
    "\n",
    "x_alpha = np.arange(-4,-z_crit, 0.001)\n",
    "y_alpha = stats.norm.pdf(x_alpha)\n",
    "ax.fill_between(x = x_alpha,\n",
    "                y1 = y_alpha,\n",
    "                facecolor = \"red\", \n",
    "                alpha = .35)\n",
    "\n",
    "# Plot region dari sampel yang kita temukan\n",
    "# Region ini berwarna hijau\n",
    "x_test = np.arange(z_stat, 4., 0.001)\n",
    "y_test = stats.norm.pdf(x_test)\n",
    "ax.fill_between(x = x_test,\n",
    "                y1 = y_test,\n",
    "                facecolor = \"green\", \n",
    "                alpha = .35,\n",
    "                label = \"pvalue\")\n",
    "x_test = np.arange(-4.,-z_stat, 0.001)\n",
    "y_test = stats.norm.pdf(x_test)\n",
    "ax.fill_between(x = x_test,\n",
    "                y1 = y_test,\n",
    "                facecolor = \"green\", \n",
    "                alpha = .35)\n",
    "\n",
    "# Plot vertical line alpha\n",
    "ax.axvline(z_crit, \n",
    "           color = \"red\",\n",
    "           linestyle = \"--\",\n",
    "           label = \"t-critical\")\n",
    "ax.axvline(-z_crit, \n",
    "           color = \"red\",\n",
    "           linestyle = \"--\")\n",
    "\n",
    "# Plot vertical line test\n",
    "ax.axvline(z_stat, \n",
    "           color = \"green\",\n",
    "           linestyle = \"--\",\n",
    "           label = \"t-statistics\")\n",
    "ax.axvline(-z_stat, \n",
    "           color = \"green\",\n",
    "           linestyle = \"--\")\n",
    "\n",
    "# Styling plot\n",
    "ax.set_xlabel(\"Z\", fontsize=16)\n",
    "ax.set_ylabel(\"density\", fontsize=16)\n",
    "\n",
    "plt.legend(fontsize=10)\n",
    "plt.show()\n",
    "\n",
    "print(f\"-Z-statistics:{-z_stat:.4f}\")\n",
    "print(f\"Z-statistics: {z_stat:.4f}\")\n",
    "print(f\"-Z-critical : {-z_crit:.4f}\")\n",
    "print(f\"Z-critical : {z_crit:.4f}\")"
   ]
  },
  {
   "attachments": {},
   "cell_type": "markdown",
   "metadata": {},
   "source": [
    "In order to assess the dependability of the sampling method, we performed 1000 simulations of the A/A test, and for each trial, we computed the corresponding p-value. The results demonstrated that 5% of the trials yielded a p-value greater than 0.05, which suggests that the sampling method has the potential to produce false negatives in some cases."
   ]
  },
  {
   "cell_type": "code",
   "execution_count": 36,
   "metadata": {},
   "outputs": [],
   "source": [
    "def proportion_AA_Test(data: pd.DataFrame, i: int, alternative_option: str = \"two-sided\"):\n",
    "    \"\"\"Calculate the p-value for A/A Test using proportions_ztest\n",
    "\n",
    "    Args:\n",
    "        data (pd.DataFrame): Dataframe with the data\n",
    "        i (int): Index of the data\n",
    "        alternative_option (str, optional): Alternative option for the test. Defaults to \"two-sided\".\n",
    "\n",
    "    Returns:\n",
    "        p_value (float): P-value for the test\n",
    "    \"\"\"\n",
    "    # Create count conversion & total observation\n",
    "    count_conversion = [data['n_cr_2'][i], data['n_cr_1'][i]]\n",
    "    count_observation = [data['n_obs_2'][i], data['n_obs_1'][i]]\n",
    "    \n",
    "    # Find p-value\n",
    "    p_value = proportions_ztest(\n",
    "        count=count_conversion,\n",
    "        nobs=count_observation,\n",
    "        alternative=alternative_option\n",
    "    )[1]\n",
    "    \n",
    "    return p_value"
   ]
  },
  {
   "cell_type": "code",
   "execution_count": 37,
   "metadata": {},
   "outputs": [],
   "source": [
    "def proportion_p_values(\n",
    "        dataset: pd.DataFrame, \n",
    "        column: str,\n",
    "        interest: str,\n",
    "        n_sample: int, \n",
    "        n_iter: int\n",
    "    ):\n",
    "    \"\"\"Calculate the p-value for A/A Test using proportions_ztest\n",
    "\n",
    "    Args:\n",
    "        dataset (pd.DataFrame): Dataframe with the data\n",
    "        column (str): Column name\n",
    "        interest (str): Condition of the column\n",
    "        n_sample (int): Sample size\n",
    "        n_iter (int): Number of iteration\n",
    "\n",
    "    Returns:\n",
    "        df_result (pd.DataFrame): Dataframe with the p-value for each iteration\n",
    "    \"\"\"\n",
    "    # defining variables\n",
    "    # Control group property list\n",
    "    c_n_obs_list = []\n",
    "    c_n_cr_list = []\n",
    "    c_cr_list = [] \n",
    "    # Treatment group property list\n",
    "    t_n_obs_list = []\n",
    "    t_n_cr_list = []\n",
    "    t_cr_list = []\n",
    "\n",
    "    # loop for each n iteration\n",
    "    for _ in range(n_iter):\n",
    "        # sampling data for A/A test based on the sample size\n",
    "        group_A1  = dataset[dataset[column] == interest].sample(n=n_sample, replace=False)\n",
    "        group_A2  = dataset[dataset[column] == interest].sample(n=n_sample, replace=False)\n",
    "    \n",
    "        # count conversion\n",
    "        n_conversion_A1 = group_A1['is conversion'].sum()\n",
    "        n_conversion_A2 = group_A2['is conversion'].sum()\n",
    "    \n",
    "        # count conversion rate\n",
    "        cr_A1 = n_conversion_A1 / group_A1.shape[0]\n",
    "        cr_A2 = n_conversion_A2 / group_A2.shape[0]\n",
    "    \n",
    "        # append to list\n",
    "        c_n_obs_list.append(group_A1.shape[0])\n",
    "        c_n_cr_list.append(n_conversion_A1)\n",
    "        c_cr_list.append(cr_A1)\n",
    "        t_n_obs_list.append(group_A2.shape[0])\n",
    "        t_n_cr_list.append(n_conversion_A2)\n",
    "        t_cr_list.append(cr_A2)\n",
    "    \n",
    "    # Convert list to dataframe\n",
    "    df_metrics = pd.DataFrame({\n",
    "        'n_obs_1': c_n_obs_list,\n",
    "        'n_obs_2': t_n_obs_list,\n",
    "        'n_cr_1': c_n_cr_list,\n",
    "        'n_cr_2': t_n_cr_list,\n",
    "        'cr_1': c_cr_list,\n",
    "        'cr_2': t_cr_list\n",
    "    })\n",
    "\n",
    "    p_value_list = []\n",
    "    # Calculate p-value A/A test\n",
    "    for i in range(n_iter):\n",
    "        # Find the A/A test p-value\n",
    "        p_value = proportion_AA_Test(\n",
    "            data=df_metrics,\n",
    "            i=i,\n",
    "            alternative_option=\"two-sided\"\n",
    "        )\n",
    "        # append to list\n",
    "        p_value_list.append(p_value)\n",
    "        \n",
    "    # Convert p_value_list to dataframe\n",
    "    df_results = pd.DataFrame(\n",
    "        data=p_value_list,\n",
    "        columns=['p_value']\n",
    "    )\n",
    "        \n",
    "    return df_results"
   ]
  },
  {
   "cell_type": "code",
   "execution_count": 87,
   "metadata": {},
   "outputs": [
    {
     "data": {
      "text/html": [
       "<div>\n",
       "<style scoped>\n",
       "    .dataframe tbody tr th:only-of-type {\n",
       "        vertical-align: middle;\n",
       "    }\n",
       "\n",
       "    .dataframe tbody tr th {\n",
       "        vertical-align: top;\n",
       "    }\n",
       "\n",
       "    .dataframe thead th {\n",
       "        text-align: right;\n",
       "    }\n",
       "</style>\n",
       "<table border=\"1\" class=\"dataframe\">\n",
       "  <thead>\n",
       "    <tr style=\"text-align: right;\">\n",
       "      <th></th>\n",
       "      <th>p_value</th>\n",
       "    </tr>\n",
       "  </thead>\n",
       "  <tbody>\n",
       "    <tr>\n",
       "      <th>0</th>\n",
       "      <td>0.461148</td>\n",
       "    </tr>\n",
       "    <tr>\n",
       "      <th>1</th>\n",
       "      <td>0.388994</td>\n",
       "    </tr>\n",
       "    <tr>\n",
       "      <th>2</th>\n",
       "      <td>0.646430</td>\n",
       "    </tr>\n",
       "    <tr>\n",
       "      <th>3</th>\n",
       "      <td>0.700556</td>\n",
       "    </tr>\n",
       "    <tr>\n",
       "      <th>4</th>\n",
       "      <td>0.112825</td>\n",
       "    </tr>\n",
       "    <tr>\n",
       "      <th>5</th>\n",
       "      <td>0.719024</td>\n",
       "    </tr>\n",
       "    <tr>\n",
       "      <th>6</th>\n",
       "      <td>0.924411</td>\n",
       "    </tr>\n",
       "    <tr>\n",
       "      <th>7</th>\n",
       "      <td>0.457443</td>\n",
       "    </tr>\n",
       "    <tr>\n",
       "      <th>8</th>\n",
       "      <td>0.612652</td>\n",
       "    </tr>\n",
       "    <tr>\n",
       "      <th>9</th>\n",
       "      <td>0.384750</td>\n",
       "    </tr>\n",
       "  </tbody>\n",
       "</table>\n",
       "</div>"
      ],
      "text/plain": [
       "    p_value\n",
       "0  0.461148\n",
       "1  0.388994\n",
       "2  0.646430\n",
       "3  0.700556\n",
       "4  0.112825\n",
       "5  0.719024\n",
       "6  0.924411\n",
       "7  0.457443\n",
       "8  0.612652\n",
       "9  0.384750"
      ]
     },
     "execution_count": 87,
     "metadata": {},
     "output_type": "execute_result"
    }
   ],
   "source": [
    "# Calculate p-value\n",
    "df_results = proportion_p_values(\n",
    "    dataset=data_control,\n",
    "    column='test group',\n",
    "    interest='psa',\n",
    "    n_sample=3334,\n",
    "    n_iter=1000\n",
    ")\n",
    "\n",
    "df_results.head(10)"
   ]
  },
  {
   "cell_type": "code",
   "execution_count": 39,
   "metadata": {},
   "outputs": [],
   "source": [
    "def p_value_distribution(data: pd.DataFrame):\n",
    "    \"\"\"Visualize the p-value distribution using histogram plot\n",
    "\n",
    "    Args:\n",
    "        df_results (pd.DataFrame): Dataframe with the p-value for each iteration\n",
    "\n",
    "    Returns:\n",
    "        Histogram plot of the p-value distribution\n",
    "    \"\"\"\n",
    "    # Styling plot\n",
    "    sns.set_style(\"darkgrid\")\n",
    "    sns.set_palette(\"pastel\")\n",
    "    plt.style.use('ggplot')\n",
    "\n",
    "    # Create a figure and axis\n",
    "    fig, ax = plt.subplots(nrows=1, ncols=1, figsize=(8, 6))\n",
    "\n",
    "    # Create bar plots\n",
    "    sns.histplot(\n",
    "        data['p_value'], \n",
    "        bins=20,\n",
    "        ax=ax\n",
    "    )\n",
    "\n",
    "    # Set titles for the subplots\n",
    "    ax.set_title('P-value Distribution')\n",
    "\n",
    "    # Set y-label for the left subplot\n",
    "    ax.set_ylabel('Frequency')\n",
    "\n",
    "    plt.show()"
   ]
  },
  {
   "cell_type": "code",
   "execution_count": 88,
   "metadata": {},
   "outputs": [
    {
     "data": {
      "image/png": "[encoded data removed]",
      "text/plain": [
       "<Figure size 800x600 with 1 Axes>"
      ]
     },
     "metadata": {},
     "output_type": "display_data"
    }
   ],
   "source": [
    "# plot p-value distribution\n",
    "p_value_distribution(df_results)"
   ]
  },
  {
   "attachments": {},
   "cell_type": "markdown",
   "metadata": {},
   "source": [
    "#### Kolmogorov-Smirnov Test\n",
    "Upon completion of the determination of the p-value in the AA test, the Kolmogorov-Smirnov test will be conducted to compare the cumulative distribution functions of the two samples. The Kolmogorov-Smirnov test is a nonparametric test that refrains from assuming any specific distribution for the samples. The test statistic denotes the maximum absolute difference between the two cumulative distribution functions. The null hypothesis infers that the two samples originate from the same distribution. In the event that the p-value of the test is less than 0.05, indicating a substantial difference between the two samples, the null hypothesis will be rejected."
   ]
  },
  {
   "attachments": {},
   "cell_type": "markdown",
   "metadata": {},
   "source": [
    "Subsequently, the goodness-of-fit test is conducted for n p-values data.\n",
    "- The **Kolmogorov-Smirnov** test can be employed for the goodness-of-fit test.\n",
    "- It is necessary that the distribution of p-values be **uniform**.\n",
    "\n",
    "The hypothesis pertaining to the goodness-of-fit test for uniform distribution is as follows:\n",
    "- $H_0$ : The data adhere to a uniform distribution\n",
    "- $H_1$ : The data deviate from a uniform distribution."
   ]
  },
  {
   "cell_type": "code",
   "execution_count": 41,
   "metadata": {},
   "outputs": [],
   "source": [
    "def ks_test(data: pd.DataFrame):\n",
    "    \"\"\" Function to perform the Kolmogorov-Smirnov test\n",
    "\n",
    "    Args:\n",
    "        data (pd.DataFrame): Data with p-values column\n",
    "\n",
    "    Returns:\n",
    "        p_value(float): p-value of the Kolmogorov-Smirnov test\n",
    "    \"\"\"\n",
    "    # Perform the Kolmogorov-Smirnov test\n",
    "    result = stats.kstest(\n",
    "        rvs=data['p_value'],\n",
    "        cdf='uniform'\n",
    "    )\n",
    "    \n",
    "    # Save the p-value\n",
    "    p_value = result[1]\n",
    "    \n",
    "    return p_value"
   ]
  },
  {
   "cell_type": "code",
   "execution_count": 89,
   "metadata": {},
   "outputs": [
    {
     "name": "stdout",
     "output_type": "stream",
     "text": [
      "p-value : 0.0581\n"
     ]
    }
   ],
   "source": [
    "# Perform the Kolmogorov-Smirnov test\n",
    "AA_result_ks = ks_test(df_results)\n",
    "\n",
    "print(f\"p-value : {AA_result_ks:.4f}\")"
   ]
  },
  {
   "cell_type": "code",
   "execution_count": 90,
   "metadata": {},
   "outputs": [
    {
     "name": "stdout",
     "output_type": "stream",
     "text": [
      "Decision : Fail to Reject Null Hypothesis\n"
     ]
    }
   ],
   "source": [
    "# Make decision from kolmogorof smirnov test\n",
    "# We can compare p-value with alpha\n",
    "# if p-value > alpha, then fail to reject H0. It means that the data is uniformly distributed\n",
    "\n",
    "alpha = 0.05\n",
    "if(AA_result_ks <  alpha):\n",
    "  print(\"Decision : Reject Null Hypothesis\")\n",
    "else:\n",
    "  print(\"Decision : Fail to Reject Null Hypothesis\")"
   ]
  },
  {
   "attachments": {},
   "cell_type": "markdown",
   "metadata": {},
   "source": [
    "The result of the Kolmogorov-Smirnov test for the p-values of the A/A test is Fail to reject the null hypothesis, which implies that the p-values of the A/A test are uniformly distributed. So, we continue to the next step. "
   ]
  },
  {
   "attachments": {},
   "cell_type": "markdown",
   "metadata": {},
   "source": [
    "### A/B Test\n",
    "#### Load the data"
   ]
  },
  {
   "cell_type": "code",
   "execution_count": 44,
   "metadata": {},
   "outputs": [
    {
     "name": "stdout",
     "output_type": "stream",
     "text": [
      "Total entry 588101\n"
     ]
    },
    {
     "data": {
      "text/html": [
       "<div>\n",
       "<style scoped>\n",
       "    .dataframe tbody tr th:only-of-type {\n",
       "        vertical-align: middle;\n",
       "    }\n",
       "\n",
       "    .dataframe tbody tr th {\n",
       "        vertical-align: top;\n",
       "    }\n",
       "\n",
       "    .dataframe thead th {\n",
       "        text-align: right;\n",
       "    }\n",
       "</style>\n",
       "<table border=\"1\" class=\"dataframe\">\n",
       "  <thead>\n",
       "    <tr style=\"text-align: right;\">\n",
       "      <th></th>\n",
       "      <th>user id</th>\n",
       "      <th>test group</th>\n",
       "      <th>converted</th>\n",
       "      <th>total ads</th>\n",
       "      <th>most ads day</th>\n",
       "      <th>most ads hour</th>\n",
       "      <th>group</th>\n",
       "      <th>is conversion</th>\n",
       "    </tr>\n",
       "  </thead>\n",
       "  <tbody>\n",
       "    <tr>\n",
       "      <th>0</th>\n",
       "      <td>1069124</td>\n",
       "      <td>ad</td>\n",
       "      <td>False</td>\n",
       "      <td>130</td>\n",
       "      <td>Monday</td>\n",
       "      <td>20</td>\n",
       "      <td>treatment</td>\n",
       "      <td>0</td>\n",
       "    </tr>\n",
       "    <tr>\n",
       "      <th>1</th>\n",
       "      <td>1119715</td>\n",
       "      <td>ad</td>\n",
       "      <td>False</td>\n",
       "      <td>93</td>\n",
       "      <td>Tuesday</td>\n",
       "      <td>22</td>\n",
       "      <td>treatment</td>\n",
       "      <td>0</td>\n",
       "    </tr>\n",
       "    <tr>\n",
       "      <th>2</th>\n",
       "      <td>1144181</td>\n",
       "      <td>ad</td>\n",
       "      <td>False</td>\n",
       "      <td>21</td>\n",
       "      <td>Tuesday</td>\n",
       "      <td>18</td>\n",
       "      <td>treatment</td>\n",
       "      <td>0</td>\n",
       "    </tr>\n",
       "    <tr>\n",
       "      <th>3</th>\n",
       "      <td>1435133</td>\n",
       "      <td>ad</td>\n",
       "      <td>False</td>\n",
       "      <td>355</td>\n",
       "      <td>Tuesday</td>\n",
       "      <td>10</td>\n",
       "      <td>treatment</td>\n",
       "      <td>0</td>\n",
       "    </tr>\n",
       "    <tr>\n",
       "      <th>4</th>\n",
       "      <td>1015700</td>\n",
       "      <td>ad</td>\n",
       "      <td>False</td>\n",
       "      <td>276</td>\n",
       "      <td>Friday</td>\n",
       "      <td>14</td>\n",
       "      <td>treatment</td>\n",
       "      <td>0</td>\n",
       "    </tr>\n",
       "    <tr>\n",
       "      <th>5</th>\n",
       "      <td>1137664</td>\n",
       "      <td>ad</td>\n",
       "      <td>False</td>\n",
       "      <td>734</td>\n",
       "      <td>Saturday</td>\n",
       "      <td>10</td>\n",
       "      <td>treatment</td>\n",
       "      <td>0</td>\n",
       "    </tr>\n",
       "    <tr>\n",
       "      <th>6</th>\n",
       "      <td>1116205</td>\n",
       "      <td>ad</td>\n",
       "      <td>False</td>\n",
       "      <td>264</td>\n",
       "      <td>Wednesday</td>\n",
       "      <td>13</td>\n",
       "      <td>treatment</td>\n",
       "      <td>0</td>\n",
       "    </tr>\n",
       "    <tr>\n",
       "      <th>7</th>\n",
       "      <td>1496843</td>\n",
       "      <td>ad</td>\n",
       "      <td>False</td>\n",
       "      <td>17</td>\n",
       "      <td>Sunday</td>\n",
       "      <td>18</td>\n",
       "      <td>treatment</td>\n",
       "      <td>0</td>\n",
       "    </tr>\n",
       "    <tr>\n",
       "      <th>8</th>\n",
       "      <td>1448851</td>\n",
       "      <td>ad</td>\n",
       "      <td>False</td>\n",
       "      <td>21</td>\n",
       "      <td>Tuesday</td>\n",
       "      <td>19</td>\n",
       "      <td>treatment</td>\n",
       "      <td>0</td>\n",
       "    </tr>\n",
       "    <tr>\n",
       "      <th>9</th>\n",
       "      <td>1446284</td>\n",
       "      <td>ad</td>\n",
       "      <td>False</td>\n",
       "      <td>142</td>\n",
       "      <td>Monday</td>\n",
       "      <td>14</td>\n",
       "      <td>treatment</td>\n",
       "      <td>0</td>\n",
       "    </tr>\n",
       "  </tbody>\n",
       "</table>\n",
       "</div>"
      ],
      "text/plain": [
       "   user id test group  converted  total ads most ads day  most ads hour  \\\n",
       "0  1069124         ad      False        130       Monday             20   \n",
       "1  1119715         ad      False         93      Tuesday             22   \n",
       "2  1144181         ad      False         21      Tuesday             18   \n",
       "3  1435133         ad      False        355      Tuesday             10   \n",
       "4  1015700         ad      False        276       Friday             14   \n",
       "5  1137664         ad      False        734     Saturday             10   \n",
       "6  1116205         ad      False        264    Wednesday             13   \n",
       "7  1496843         ad      False         17       Sunday             18   \n",
       "8  1448851         ad      False         21      Tuesday             19   \n",
       "9  1446284         ad      False        142       Monday             14   \n",
       "\n",
       "       group  is conversion  \n",
       "0  treatment              0  \n",
       "1  treatment              0  \n",
       "2  treatment              0  \n",
       "3  treatment              0  \n",
       "4  treatment              0  \n",
       "5  treatment              0  \n",
       "6  treatment              0  \n",
       "7  treatment              0  \n",
       "8  treatment              0  \n",
       "9  treatment              0  "
      ]
     },
     "execution_count": 44,
     "metadata": {},
     "output_type": "execute_result"
    }
   ],
   "source": [
    "# file path\n",
    "filename = 'dataset/marketing_AB.csv'\n",
    "\n",
    "# Load data\n",
    "ab_data = load_data(filename)\n",
    "\n",
    "# display first 10 rows\n",
    "ab_data.head(10)"
   ]
  },
  {
   "attachments": {},
   "cell_type": "markdown",
   "metadata": {},
   "source": [
    "#### Check Invalid Data\n",
    "\n",
    "Check if there are any invalid data in the dataset."
   ]
  },
  {
   "cell_type": "code",
   "execution_count": 45,
   "metadata": {},
   "outputs": [
    {
     "data": {
      "text/html": [
       "<div>\n",
       "<style scoped>\n",
       "    .dataframe tbody tr th:only-of-type {\n",
       "        vertical-align: middle;\n",
       "    }\n",
       "\n",
       "    .dataframe tbody tr th {\n",
       "        vertical-align: top;\n",
       "    }\n",
       "\n",
       "    .dataframe thead th {\n",
       "        text-align: right;\n",
       "    }\n",
       "</style>\n",
       "<table border=\"1\" class=\"dataframe\">\n",
       "  <thead>\n",
       "    <tr style=\"text-align: right;\">\n",
       "      <th></th>\n",
       "      <th>user id</th>\n",
       "      <th>test group</th>\n",
       "      <th>converted</th>\n",
       "      <th>total ads</th>\n",
       "      <th>most ads day</th>\n",
       "      <th>most ads hour</th>\n",
       "      <th>group</th>\n",
       "      <th>is conversion</th>\n",
       "    </tr>\n",
       "  </thead>\n",
       "  <tbody>\n",
       "  </tbody>\n",
       "</table>\n",
       "</div>"
      ],
      "text/plain": [
       "Empty DataFrame\n",
       "Columns: [user id, test group, converted, total ads, most ads day, most ads hour, group, is conversion]\n",
       "Index: []"
      ]
     },
     "execution_count": 45,
     "metadata": {},
     "output_type": "execute_result"
    }
   ],
   "source": [
    "### Check if there is any control with ad or treatment with psa\n",
    "condition_1 = (ab_data['group'] == 'control') & (ab_data['test group'] == 'ad')\n",
    "condition_2 = (ab_data['group'] == 'treatment') & (ab_data['test group'] == 'psa')\n",
    "\n",
    "# Display the data\n",
    "ab_data[condition_1 | condition_2]"
   ]
  },
  {
   "attachments": {},
   "cell_type": "markdown",
   "metadata": {},
   "source": [
    "There no invalid data in the dataset. So we can continue to the next step."
   ]
  },
  {
   "attachments": {},
   "cell_type": "markdown",
   "metadata": {},
   "source": [
    "#### Split and Sampling\n",
    "\n",
    "The goal metric is the proportion of users who converted in each test group. This can be calculated by dividing the number of users who converted by the total number of users in each group."
   ]
  },
  {
   "attachments": {},
   "cell_type": "markdown",
   "metadata": {},
   "source": [
    "##### Split the data into Control and Treatment"
   ]
  },
  {
   "cell_type": "markdown",
   "metadata": {},
   "source": [
    "Seperate the dataframe into two dataframes, one for users who saw the ad and one for users who saw the psa."
   ]
  },
  {
   "cell_type": "code",
   "execution_count": 46,
   "metadata": {},
   "outputs": [
    {
     "data": {
      "text/html": [
       "<div>\n",
       "<style scoped>\n",
       "    .dataframe tbody tr th:only-of-type {\n",
       "        vertical-align: middle;\n",
       "    }\n",
       "\n",
       "    .dataframe tbody tr th {\n",
       "        vertical-align: top;\n",
       "    }\n",
       "\n",
       "    .dataframe thead th {\n",
       "        text-align: right;\n",
       "    }\n",
       "</style>\n",
       "<table border=\"1\" class=\"dataframe\">\n",
       "  <thead>\n",
       "    <tr style=\"text-align: right;\">\n",
       "      <th></th>\n",
       "      <th>user id</th>\n",
       "      <th>test group</th>\n",
       "      <th>converted</th>\n",
       "      <th>total ads</th>\n",
       "      <th>most ads day</th>\n",
       "      <th>most ads hour</th>\n",
       "      <th>group</th>\n",
       "      <th>is conversion</th>\n",
       "    </tr>\n",
       "  </thead>\n",
       "  <tbody>\n",
       "    <tr>\n",
       "      <th>0</th>\n",
       "      <td>900681</td>\n",
       "      <td>psa</td>\n",
       "      <td>False</td>\n",
       "      <td>248</td>\n",
       "      <td>Saturday</td>\n",
       "      <td>19</td>\n",
       "      <td>control</td>\n",
       "      <td>0</td>\n",
       "    </tr>\n",
       "    <tr>\n",
       "      <th>1</th>\n",
       "      <td>905704</td>\n",
       "      <td>psa</td>\n",
       "      <td>False</td>\n",
       "      <td>27</td>\n",
       "      <td>Thursday</td>\n",
       "      <td>8</td>\n",
       "      <td>control</td>\n",
       "      <td>0</td>\n",
       "    </tr>\n",
       "    <tr>\n",
       "      <th>2</th>\n",
       "      <td>904595</td>\n",
       "      <td>psa</td>\n",
       "      <td>False</td>\n",
       "      <td>13</td>\n",
       "      <td>Tuesday</td>\n",
       "      <td>19</td>\n",
       "      <td>control</td>\n",
       "      <td>0</td>\n",
       "    </tr>\n",
       "    <tr>\n",
       "      <th>3</th>\n",
       "      <td>901904</td>\n",
       "      <td>psa</td>\n",
       "      <td>False</td>\n",
       "      <td>32</td>\n",
       "      <td>Wednesday</td>\n",
       "      <td>19</td>\n",
       "      <td>control</td>\n",
       "      <td>0</td>\n",
       "    </tr>\n",
       "    <tr>\n",
       "      <th>4</th>\n",
       "      <td>902234</td>\n",
       "      <td>psa</td>\n",
       "      <td>False</td>\n",
       "      <td>105</td>\n",
       "      <td>Tuesday</td>\n",
       "      <td>19</td>\n",
       "      <td>control</td>\n",
       "      <td>0</td>\n",
       "    </tr>\n",
       "    <tr>\n",
       "      <th>5</th>\n",
       "      <td>906079</td>\n",
       "      <td>psa</td>\n",
       "      <td>False</td>\n",
       "      <td>37</td>\n",
       "      <td>Monday</td>\n",
       "      <td>10</td>\n",
       "      <td>control</td>\n",
       "      <td>0</td>\n",
       "    </tr>\n",
       "    <tr>\n",
       "      <th>6</th>\n",
       "      <td>912103</td>\n",
       "      <td>psa</td>\n",
       "      <td>False</td>\n",
       "      <td>90</td>\n",
       "      <td>Friday</td>\n",
       "      <td>14</td>\n",
       "      <td>control</td>\n",
       "      <td>0</td>\n",
       "    </tr>\n",
       "    <tr>\n",
       "      <th>7</th>\n",
       "      <td>909288</td>\n",
       "      <td>psa</td>\n",
       "      <td>False</td>\n",
       "      <td>22</td>\n",
       "      <td>Friday</td>\n",
       "      <td>0</td>\n",
       "      <td>control</td>\n",
       "      <td>0</td>\n",
       "    </tr>\n",
       "    <tr>\n",
       "      <th>8</th>\n",
       "      <td>914634</td>\n",
       "      <td>psa</td>\n",
       "      <td>False</td>\n",
       "      <td>334</td>\n",
       "      <td>Thursday</td>\n",
       "      <td>18</td>\n",
       "      <td>control</td>\n",
       "      <td>0</td>\n",
       "    </tr>\n",
       "    <tr>\n",
       "      <th>9</th>\n",
       "      <td>903660</td>\n",
       "      <td>psa</td>\n",
       "      <td>False</td>\n",
       "      <td>1</td>\n",
       "      <td>Tuesday</td>\n",
       "      <td>19</td>\n",
       "      <td>control</td>\n",
       "      <td>0</td>\n",
       "    </tr>\n",
       "  </tbody>\n",
       "</table>\n",
       "</div>"
      ],
      "text/plain": [
       "   user id test group  converted  total ads most ads day  most ads hour  \\\n",
       "0   900681        psa      False        248     Saturday             19   \n",
       "1   905704        psa      False         27     Thursday              8   \n",
       "2   904595        psa      False         13      Tuesday             19   \n",
       "3   901904        psa      False         32    Wednesday             19   \n",
       "4   902234        psa      False        105      Tuesday             19   \n",
       "5   906079        psa      False         37       Monday             10   \n",
       "6   912103        psa      False         90       Friday             14   \n",
       "7   909288        psa      False         22       Friday              0   \n",
       "8   914634        psa      False        334     Thursday             18   \n",
       "9   903660        psa      False          1      Tuesday             19   \n",
       "\n",
       "     group  is conversion  \n",
       "0  control              0  \n",
       "1  control              0  \n",
       "2  control              0  \n",
       "3  control              0  \n",
       "4  control              0  \n",
       "5  control              0  \n",
       "6  control              0  \n",
       "7  control              0  \n",
       "8  control              0  \n",
       "9  control              0  "
      ]
     },
     "execution_count": 46,
     "metadata": {},
     "output_type": "execute_result"
    }
   ],
   "source": [
    "# Filter data into control group\n",
    "data_control = split_data(df)[0]\n",
    "\n",
    "# Display first 10 rows\n",
    "data_control.head(10)"
   ]
  },
  {
   "cell_type": "code",
   "execution_count": 47,
   "metadata": {},
   "outputs": [
    {
     "data": {
      "text/plain": [
       "array(['psa'], dtype=object)"
      ]
     },
     "execution_count": 47,
     "metadata": {},
     "output_type": "execute_result"
    }
   ],
   "source": [
    "# Check unique value of test group\n",
    "data_control['test group'].unique()"
   ]
  },
  {
   "cell_type": "code",
   "execution_count": 48,
   "metadata": {},
   "outputs": [
    {
     "data": {
      "text/html": [
       "<div>\n",
       "<style scoped>\n",
       "    .dataframe tbody tr th:only-of-type {\n",
       "        vertical-align: middle;\n",
       "    }\n",
       "\n",
       "    .dataframe tbody tr th {\n",
       "        vertical-align: top;\n",
       "    }\n",
       "\n",
       "    .dataframe thead th {\n",
       "        text-align: right;\n",
       "    }\n",
       "</style>\n",
       "<table border=\"1\" class=\"dataframe\">\n",
       "  <thead>\n",
       "    <tr style=\"text-align: right;\">\n",
       "      <th></th>\n",
       "      <th>user id</th>\n",
       "      <th>test group</th>\n",
       "      <th>converted</th>\n",
       "      <th>total ads</th>\n",
       "      <th>most ads day</th>\n",
       "      <th>most ads hour</th>\n",
       "      <th>group</th>\n",
       "      <th>is conversion</th>\n",
       "    </tr>\n",
       "  </thead>\n",
       "  <tbody>\n",
       "    <tr>\n",
       "      <th>0</th>\n",
       "      <td>1069124</td>\n",
       "      <td>ad</td>\n",
       "      <td>False</td>\n",
       "      <td>130</td>\n",
       "      <td>Monday</td>\n",
       "      <td>20</td>\n",
       "      <td>treatment</td>\n",
       "      <td>0</td>\n",
       "    </tr>\n",
       "    <tr>\n",
       "      <th>1</th>\n",
       "      <td>1119715</td>\n",
       "      <td>ad</td>\n",
       "      <td>False</td>\n",
       "      <td>93</td>\n",
       "      <td>Tuesday</td>\n",
       "      <td>22</td>\n",
       "      <td>treatment</td>\n",
       "      <td>0</td>\n",
       "    </tr>\n",
       "    <tr>\n",
       "      <th>2</th>\n",
       "      <td>1144181</td>\n",
       "      <td>ad</td>\n",
       "      <td>False</td>\n",
       "      <td>21</td>\n",
       "      <td>Tuesday</td>\n",
       "      <td>18</td>\n",
       "      <td>treatment</td>\n",
       "      <td>0</td>\n",
       "    </tr>\n",
       "    <tr>\n",
       "      <th>3</th>\n",
       "      <td>1435133</td>\n",
       "      <td>ad</td>\n",
       "      <td>False</td>\n",
       "      <td>355</td>\n",
       "      <td>Tuesday</td>\n",
       "      <td>10</td>\n",
       "      <td>treatment</td>\n",
       "      <td>0</td>\n",
       "    </tr>\n",
       "    <tr>\n",
       "      <th>4</th>\n",
       "      <td>1015700</td>\n",
       "      <td>ad</td>\n",
       "      <td>False</td>\n",
       "      <td>276</td>\n",
       "      <td>Friday</td>\n",
       "      <td>14</td>\n",
       "      <td>treatment</td>\n",
       "      <td>0</td>\n",
       "    </tr>\n",
       "    <tr>\n",
       "      <th>5</th>\n",
       "      <td>1137664</td>\n",
       "      <td>ad</td>\n",
       "      <td>False</td>\n",
       "      <td>734</td>\n",
       "      <td>Saturday</td>\n",
       "      <td>10</td>\n",
       "      <td>treatment</td>\n",
       "      <td>0</td>\n",
       "    </tr>\n",
       "    <tr>\n",
       "      <th>6</th>\n",
       "      <td>1116205</td>\n",
       "      <td>ad</td>\n",
       "      <td>False</td>\n",
       "      <td>264</td>\n",
       "      <td>Wednesday</td>\n",
       "      <td>13</td>\n",
       "      <td>treatment</td>\n",
       "      <td>0</td>\n",
       "    </tr>\n",
       "    <tr>\n",
       "      <th>7</th>\n",
       "      <td>1496843</td>\n",
       "      <td>ad</td>\n",
       "      <td>False</td>\n",
       "      <td>17</td>\n",
       "      <td>Sunday</td>\n",
       "      <td>18</td>\n",
       "      <td>treatment</td>\n",
       "      <td>0</td>\n",
       "    </tr>\n",
       "    <tr>\n",
       "      <th>8</th>\n",
       "      <td>1448851</td>\n",
       "      <td>ad</td>\n",
       "      <td>False</td>\n",
       "      <td>21</td>\n",
       "      <td>Tuesday</td>\n",
       "      <td>19</td>\n",
       "      <td>treatment</td>\n",
       "      <td>0</td>\n",
       "    </tr>\n",
       "    <tr>\n",
       "      <th>9</th>\n",
       "      <td>1446284</td>\n",
       "      <td>ad</td>\n",
       "      <td>False</td>\n",
       "      <td>142</td>\n",
       "      <td>Monday</td>\n",
       "      <td>14</td>\n",
       "      <td>treatment</td>\n",
       "      <td>0</td>\n",
       "    </tr>\n",
       "  </tbody>\n",
       "</table>\n",
       "</div>"
      ],
      "text/plain": [
       "   user id test group  converted  total ads most ads day  most ads hour  \\\n",
       "0  1069124         ad      False        130       Monday             20   \n",
       "1  1119715         ad      False         93      Tuesday             22   \n",
       "2  1144181         ad      False         21      Tuesday             18   \n",
       "3  1435133         ad      False        355      Tuesday             10   \n",
       "4  1015700         ad      False        276       Friday             14   \n",
       "5  1137664         ad      False        734     Saturday             10   \n",
       "6  1116205         ad      False        264    Wednesday             13   \n",
       "7  1496843         ad      False         17       Sunday             18   \n",
       "8  1448851         ad      False         21      Tuesday             19   \n",
       "9  1446284         ad      False        142       Monday             14   \n",
       "\n",
       "       group  is conversion  \n",
       "0  treatment              0  \n",
       "1  treatment              0  \n",
       "2  treatment              0  \n",
       "3  treatment              0  \n",
       "4  treatment              0  \n",
       "5  treatment              0  \n",
       "6  treatment              0  \n",
       "7  treatment              0  \n",
       "8  treatment              0  \n",
       "9  treatment              0  "
      ]
     },
     "execution_count": 48,
     "metadata": {},
     "output_type": "execute_result"
    }
   ],
   "source": [
    "# Filter data for treatment group\n",
    "data_treatment = split_data(df)[1]\n",
    "\n",
    "# display the first 10 rows of the data\n",
    "data_treatment.head(10)"
   ]
  },
  {
   "cell_type": "code",
   "execution_count": 49,
   "metadata": {},
   "outputs": [
    {
     "data": {
      "text/plain": [
       "array(['ad'], dtype=object)"
      ]
     },
     "execution_count": 49,
     "metadata": {},
     "output_type": "execute_result"
    }
   ],
   "source": [
    "# Check unique value of test group\n",
    "data_treatment['test group'].unique()"
   ]
  },
  {
   "attachments": {},
   "cell_type": "markdown",
   "metadata": {},
   "source": [
    "##### Calculate Sample Size\n",
    "\n",
    "First, we need to calculate CVR for control group. The CVR value will be the initial value to determine the effect size. The effect size is the difference between the control group and the treatment group. The effect size is used to determine the sample size for each group."
   ]
  },
  {
   "cell_type": "code",
   "execution_count": 50,
   "metadata": {},
   "outputs": [
    {
     "data": {
      "text/plain": [
       "0.01785410644448223"
      ]
     },
     "execution_count": 50,
     "metadata": {},
     "output_type": "execute_result"
    }
   ],
   "source": [
    "data_control['is conversion'].sum() / data_control.shape[0]"
   ]
  },
  {
   "cell_type": "code",
   "execution_count": 51,
   "metadata": {},
   "outputs": [],
   "source": [
    "def p_sample_size(prop1: float, prop2: float, alpha: float, power: float):\n",
    "    \"\"\"Function to calculate the minimum sample size required for A/B test based \n",
    "    on the effect size on the proportion of the baseline and the target. The target \n",
    "    value is how much the proportion value increases from the baseline.\n",
    "\n",
    "    Args:\n",
    "        prop1 (float): Proportion value of the baseline \n",
    "        prop2 (float): Proportion value of the target\n",
    "        alpha (float): Significance level\n",
    "        power (float): Power of the test\n",
    "\n",
    "    Returns:\n",
    "        sample_size (int): Minimum sample size required for A/B test\n",
    "    \"\"\"\n",
    "    # Calculate effect size\n",
    "    # Prop1 = baseline\n",
    "    # Prop2 = target\n",
    "    effect_size = proportion_effectsize(prop1, prop2)\n",
    "\n",
    "    # Calculate sample size\n",
    "    sample_size = NormalIndPower().solve_power(\n",
    "        effect_size=effect_size,\n",
    "        power=power, # power = 1 - beta\n",
    "        alpha=alpha # significance level\n",
    "    )\n",
    "    \n",
    "    sample_size = int(np.ceil(sample_size))\n",
    "\n",
    "    return sample_size"
   ]
  },
  {
   "cell_type": "code",
   "execution_count": 52,
   "metadata": {},
   "outputs": [
    {
     "name": "stdout",
     "output_type": "stream",
     "text": [
      "Minimum sample size required for A/B test is 3334\n"
     ]
    }
   ],
   "source": [
    "# Calculate minimum sample size\n",
    "min_sample_size = p_sample_size(\n",
    "    prop1=0.017, # baseline\n",
    "    prop2=0.027, # target\n",
    "    power=0.8, # power = 1 - beta\n",
    "    alpha=0.05\n",
    ")\n",
    "\n",
    "print(f\"Minimum sample size required for A/B test is {min_sample_size:.0f}\")"
   ]
  },
  {
   "attachments": {},
   "cell_type": "markdown",
   "metadata": {},
   "source": [
    "##### Sampling the data for each group\n",
    "\n",
    "After we determine the sample size for each group, we can sample the data for each group. The sample size for each group is 3334. "
   ]
  },
  {
   "cell_type": "code",
   "execution_count": 53,
   "metadata": {},
   "outputs": [],
   "source": [
    "def sampling_data(\n",
    "    control_data: pd.DataFrame,\n",
    "    treatment_data: pd.DataFrame,\n",
    "    n_size: int\n",
    "):\n",
    "    \"\"\"Function to sample data for control and treatment\n",
    "\n",
    "    Args:\n",
    "        control_data (pd.DataFrame): Data for control group\n",
    "        treatment_data (pd.DataFrame): Data for treatment group\n",
    "        n_size (int): Sample size\n",
    "\n",
    "    Returns:\n",
    "        control_df (pd.DataFrame): Sampled data for control group\n",
    "        treatment_df (pd.DataFrame): Sampled data for treatment group\n",
    "    \"\"\"\n",
    "    # Sampling data for control and treatment\n",
    "    control_df = control_data.sample(n=n_size, replace=False, random_state=72)\n",
    "    treatment_df = treatment_data.sample(n=n_size, replace=False, random_state=72)\n",
    "    \n",
    "    # Reset index\n",
    "    control_df.reset_index(drop=True, inplace=True)\n",
    "    treatment_df.reset_index(drop=True, inplace=True)\n",
    "    \n",
    "    return control_df, treatment_df"
   ]
  },
  {
   "cell_type": "code",
   "execution_count": 54,
   "metadata": {},
   "outputs": [],
   "source": [
    "# Sample data for control and treatment\n",
    "control_df, treatment_df = sampling_data(\n",
    "    data_control,\n",
    "    data_treatment,\n",
    "    n_size=min_sample_size\n",
    ")"
   ]
  },
  {
   "cell_type": "code",
   "execution_count": 55,
   "metadata": {},
   "outputs": [
    {
     "data": {
      "text/html": [
       "<div>\n",
       "<style scoped>\n",
       "    .dataframe tbody tr th:only-of-type {\n",
       "        vertical-align: middle;\n",
       "    }\n",
       "\n",
       "    .dataframe tbody tr th {\n",
       "        vertical-align: top;\n",
       "    }\n",
       "\n",
       "    .dataframe thead th {\n",
       "        text-align: right;\n",
       "    }\n",
       "</style>\n",
       "<table border=\"1\" class=\"dataframe\">\n",
       "  <thead>\n",
       "    <tr style=\"text-align: right;\">\n",
       "      <th></th>\n",
       "      <th>user id</th>\n",
       "      <th>test group</th>\n",
       "      <th>converted</th>\n",
       "      <th>total ads</th>\n",
       "      <th>most ads day</th>\n",
       "      <th>most ads hour</th>\n",
       "      <th>group</th>\n",
       "      <th>is conversion</th>\n",
       "    </tr>\n",
       "  </thead>\n",
       "  <tbody>\n",
       "    <tr>\n",
       "      <th>0</th>\n",
       "      <td>908274</td>\n",
       "      <td>psa</td>\n",
       "      <td>False</td>\n",
       "      <td>6</td>\n",
       "      <td>Friday</td>\n",
       "      <td>11</td>\n",
       "      <td>control</td>\n",
       "      <td>0</td>\n",
       "    </tr>\n",
       "    <tr>\n",
       "      <th>1</th>\n",
       "      <td>919529</td>\n",
       "      <td>psa</td>\n",
       "      <td>False</td>\n",
       "      <td>3</td>\n",
       "      <td>Friday</td>\n",
       "      <td>14</td>\n",
       "      <td>control</td>\n",
       "      <td>0</td>\n",
       "    </tr>\n",
       "    <tr>\n",
       "      <th>2</th>\n",
       "      <td>919857</td>\n",
       "      <td>psa</td>\n",
       "      <td>False</td>\n",
       "      <td>8</td>\n",
       "      <td>Friday</td>\n",
       "      <td>11</td>\n",
       "      <td>control</td>\n",
       "      <td>0</td>\n",
       "    </tr>\n",
       "    <tr>\n",
       "      <th>3</th>\n",
       "      <td>921239</td>\n",
       "      <td>psa</td>\n",
       "      <td>False</td>\n",
       "      <td>3</td>\n",
       "      <td>Wednesday</td>\n",
       "      <td>22</td>\n",
       "      <td>control</td>\n",
       "      <td>0</td>\n",
       "    </tr>\n",
       "    <tr>\n",
       "      <th>4</th>\n",
       "      <td>915986</td>\n",
       "      <td>psa</td>\n",
       "      <td>False</td>\n",
       "      <td>7</td>\n",
       "      <td>Tuesday</td>\n",
       "      <td>9</td>\n",
       "      <td>control</td>\n",
       "      <td>0</td>\n",
       "    </tr>\n",
       "    <tr>\n",
       "      <th>5</th>\n",
       "      <td>907544</td>\n",
       "      <td>psa</td>\n",
       "      <td>False</td>\n",
       "      <td>5</td>\n",
       "      <td>Monday</td>\n",
       "      <td>8</td>\n",
       "      <td>control</td>\n",
       "      <td>0</td>\n",
       "    </tr>\n",
       "    <tr>\n",
       "      <th>6</th>\n",
       "      <td>919330</td>\n",
       "      <td>psa</td>\n",
       "      <td>False</td>\n",
       "      <td>3</td>\n",
       "      <td>Thursday</td>\n",
       "      <td>9</td>\n",
       "      <td>control</td>\n",
       "      <td>0</td>\n",
       "    </tr>\n",
       "    <tr>\n",
       "      <th>7</th>\n",
       "      <td>916046</td>\n",
       "      <td>psa</td>\n",
       "      <td>False</td>\n",
       "      <td>1</td>\n",
       "      <td>Tuesday</td>\n",
       "      <td>14</td>\n",
       "      <td>control</td>\n",
       "      <td>0</td>\n",
       "    </tr>\n",
       "    <tr>\n",
       "      <th>8</th>\n",
       "      <td>901630</td>\n",
       "      <td>psa</td>\n",
       "      <td>False</td>\n",
       "      <td>32</td>\n",
       "      <td>Friday</td>\n",
       "      <td>16</td>\n",
       "      <td>control</td>\n",
       "      <td>0</td>\n",
       "    </tr>\n",
       "    <tr>\n",
       "      <th>9</th>\n",
       "      <td>920720</td>\n",
       "      <td>psa</td>\n",
       "      <td>False</td>\n",
       "      <td>68</td>\n",
       "      <td>Friday</td>\n",
       "      <td>11</td>\n",
       "      <td>control</td>\n",
       "      <td>0</td>\n",
       "    </tr>\n",
       "  </tbody>\n",
       "</table>\n",
       "</div>"
      ],
      "text/plain": [
       "   user id test group  converted  total ads most ads day  most ads hour  \\\n",
       "0   908274        psa      False          6       Friday             11   \n",
       "1   919529        psa      False          3       Friday             14   \n",
       "2   919857        psa      False          8       Friday             11   \n",
       "3   921239        psa      False          3    Wednesday             22   \n",
       "4   915986        psa      False          7      Tuesday              9   \n",
       "5   907544        psa      False          5       Monday              8   \n",
       "6   919330        psa      False          3     Thursday              9   \n",
       "7   916046        psa      False          1      Tuesday             14   \n",
       "8   901630        psa      False         32       Friday             16   \n",
       "9   920720        psa      False         68       Friday             11   \n",
       "\n",
       "     group  is conversion  \n",
       "0  control              0  \n",
       "1  control              0  \n",
       "2  control              0  \n",
       "3  control              0  \n",
       "4  control              0  \n",
       "5  control              0  \n",
       "6  control              0  \n",
       "7  control              0  \n",
       "8  control              0  \n",
       "9  control              0  "
      ]
     },
     "execution_count": 55,
     "metadata": {},
     "output_type": "execute_result"
    }
   ],
   "source": [
    "# Display first 10 rows of control data\n",
    "control_df.head(10)"
   ]
  },
  {
   "cell_type": "code",
   "execution_count": 56,
   "metadata": {},
   "outputs": [
    {
     "data": {
      "text/html": [
       "<div>\n",
       "<style scoped>\n",
       "    .dataframe tbody tr th:only-of-type {\n",
       "        vertical-align: middle;\n",
       "    }\n",
       "\n",
       "    .dataframe tbody tr th {\n",
       "        vertical-align: top;\n",
       "    }\n",
       "\n",
       "    .dataframe thead th {\n",
       "        text-align: right;\n",
       "    }\n",
       "</style>\n",
       "<table border=\"1\" class=\"dataframe\">\n",
       "  <thead>\n",
       "    <tr style=\"text-align: right;\">\n",
       "      <th></th>\n",
       "      <th>user id</th>\n",
       "      <th>test group</th>\n",
       "      <th>converted</th>\n",
       "      <th>total ads</th>\n",
       "      <th>most ads day</th>\n",
       "      <th>most ads hour</th>\n",
       "      <th>group</th>\n",
       "      <th>is conversion</th>\n",
       "    </tr>\n",
       "  </thead>\n",
       "  <tbody>\n",
       "    <tr>\n",
       "      <th>0</th>\n",
       "      <td>1642238</td>\n",
       "      <td>ad</td>\n",
       "      <td>False</td>\n",
       "      <td>4</td>\n",
       "      <td>Tuesday</td>\n",
       "      <td>0</td>\n",
       "      <td>treatment</td>\n",
       "      <td>0</td>\n",
       "    </tr>\n",
       "    <tr>\n",
       "      <th>1</th>\n",
       "      <td>1177518</td>\n",
       "      <td>ad</td>\n",
       "      <td>False</td>\n",
       "      <td>2</td>\n",
       "      <td>Thursday</td>\n",
       "      <td>11</td>\n",
       "      <td>treatment</td>\n",
       "      <td>0</td>\n",
       "    </tr>\n",
       "    <tr>\n",
       "      <th>2</th>\n",
       "      <td>1553405</td>\n",
       "      <td>ad</td>\n",
       "      <td>False</td>\n",
       "      <td>4</td>\n",
       "      <td>Thursday</td>\n",
       "      <td>14</td>\n",
       "      <td>treatment</td>\n",
       "      <td>0</td>\n",
       "    </tr>\n",
       "    <tr>\n",
       "      <th>3</th>\n",
       "      <td>1381342</td>\n",
       "      <td>ad</td>\n",
       "      <td>False</td>\n",
       "      <td>5</td>\n",
       "      <td>Wednesday</td>\n",
       "      <td>14</td>\n",
       "      <td>treatment</td>\n",
       "      <td>0</td>\n",
       "    </tr>\n",
       "    <tr>\n",
       "      <th>4</th>\n",
       "      <td>1403736</td>\n",
       "      <td>ad</td>\n",
       "      <td>False</td>\n",
       "      <td>2</td>\n",
       "      <td>Wednesday</td>\n",
       "      <td>22</td>\n",
       "      <td>treatment</td>\n",
       "      <td>0</td>\n",
       "    </tr>\n",
       "    <tr>\n",
       "      <th>5</th>\n",
       "      <td>1417943</td>\n",
       "      <td>ad</td>\n",
       "      <td>False</td>\n",
       "      <td>5</td>\n",
       "      <td>Thursday</td>\n",
       "      <td>8</td>\n",
       "      <td>treatment</td>\n",
       "      <td>0</td>\n",
       "    </tr>\n",
       "    <tr>\n",
       "      <th>6</th>\n",
       "      <td>1227469</td>\n",
       "      <td>ad</td>\n",
       "      <td>False</td>\n",
       "      <td>6</td>\n",
       "      <td>Wednesday</td>\n",
       "      <td>7</td>\n",
       "      <td>treatment</td>\n",
       "      <td>0</td>\n",
       "    </tr>\n",
       "    <tr>\n",
       "      <th>7</th>\n",
       "      <td>1522045</td>\n",
       "      <td>ad</td>\n",
       "      <td>False</td>\n",
       "      <td>9</td>\n",
       "      <td>Tuesday</td>\n",
       "      <td>12</td>\n",
       "      <td>treatment</td>\n",
       "      <td>0</td>\n",
       "    </tr>\n",
       "    <tr>\n",
       "      <th>8</th>\n",
       "      <td>1437779</td>\n",
       "      <td>ad</td>\n",
       "      <td>False</td>\n",
       "      <td>10</td>\n",
       "      <td>Sunday</td>\n",
       "      <td>23</td>\n",
       "      <td>treatment</td>\n",
       "      <td>0</td>\n",
       "    </tr>\n",
       "    <tr>\n",
       "      <th>9</th>\n",
       "      <td>1568519</td>\n",
       "      <td>ad</td>\n",
       "      <td>False</td>\n",
       "      <td>1</td>\n",
       "      <td>Tuesday</td>\n",
       "      <td>14</td>\n",
       "      <td>treatment</td>\n",
       "      <td>0</td>\n",
       "    </tr>\n",
       "  </tbody>\n",
       "</table>\n",
       "</div>"
      ],
      "text/plain": [
       "   user id test group  converted  total ads most ads day  most ads hour  \\\n",
       "0  1642238         ad      False          4      Tuesday              0   \n",
       "1  1177518         ad      False          2     Thursday             11   \n",
       "2  1553405         ad      False          4     Thursday             14   \n",
       "3  1381342         ad      False          5    Wednesday             14   \n",
       "4  1403736         ad      False          2    Wednesday             22   \n",
       "5  1417943         ad      False          5     Thursday              8   \n",
       "6  1227469         ad      False          6    Wednesday              7   \n",
       "7  1522045         ad      False          9      Tuesday             12   \n",
       "8  1437779         ad      False         10       Sunday             23   \n",
       "9  1568519         ad      False          1      Tuesday             14   \n",
       "\n",
       "       group  is conversion  \n",
       "0  treatment              0  \n",
       "1  treatment              0  \n",
       "2  treatment              0  \n",
       "3  treatment              0  \n",
       "4  treatment              0  \n",
       "5  treatment              0  \n",
       "6  treatment              0  \n",
       "7  treatment              0  \n",
       "8  treatment              0  \n",
       "9  treatment              0  "
      ]
     },
     "execution_count": 56,
     "metadata": {},
     "output_type": "execute_result"
    }
   ],
   "source": [
    "# Display first 10 rows of treatment data\n",
    "treatment_df.head(10)"
   ]
  },
  {
   "attachments": {},
   "cell_type": "markdown",
   "metadata": {},
   "source": [
    "#### Sample Ratio Mismatch\n",
    "\n",
    "The sample ratio mismatch test is used to check if the sample ratio is the same as the population ratio. The null hypothesis is that the sample ratio is the same as the population ratio. The alternative hypothesis is that the sample ratio is not the same as the population ratio.\n",
    "\n",
    "<center>\n",
    "\n",
    "|Group|# user|Percentage|\n",
    "|:--|:--:|:--:|\n",
    "|Control|3334|50%|-|\n",
    "|Treatment|3334|50%|-|\n",
    "\n",
    "</center>\n",
    "\n",
    "* #user is the sample size in the dataset in each group\n",
    "* Percentage is the percentage of sample size in each group\n",
    "* To find this value, we have to filter the data based on the group"
   ]
  },
  {
   "cell_type": "code",
   "execution_count": 57,
   "metadata": {},
   "outputs": [
    {
     "name": "stdout",
     "output_type": "stream",
     "text": [
      "Number of Users in Control Group : 3334\n"
     ]
    }
   ],
   "source": [
    "# Number of Users in Control Group\n",
    "n_control = control_df.shape[0]\n",
    "\n",
    "print(f\"Number of Users in Control Group : {n_control}\")"
   ]
  },
  {
   "cell_type": "code",
   "execution_count": 58,
   "metadata": {},
   "outputs": [
    {
     "name": "stdout",
     "output_type": "stream",
     "text": [
      "Number of Users in Treatment Group : 3334\n"
     ]
    }
   ],
   "source": [
    "# Number of Users in Treatment Group\n",
    "n_treatment = treatment_df.shape[0]\n",
    "\n",
    "print(f\"Number of Users in Treatment Group : {n_treatment}\")"
   ]
  },
  {
   "cell_type": "code",
   "execution_count": 59,
   "metadata": {},
   "outputs": [
    {
     "name": "stdout",
     "output_type": "stream",
     "text": [
      "Percentage of users in control group : 50.00%\n",
      "Percentage of users in treatment group : 50.00%\n"
     ]
    }
   ],
   "source": [
    "# Number of total users\n",
    "n_total = n_control + n_treatment\n",
    "\n",
    "# Percentage of users in control group\n",
    "percent_control = n_control / n_total * 100\n",
    "\n",
    "# Percentage of users in treatment group\n",
    "percent_traetment = n_treatment / n_total * 100\n",
    "\n",
    "print(f\"Percentage of users in control group : {percent_control:.2f}%\")\n",
    "print(f\"Percentage of users in treatment group : {percent_traetment:.2f}%\")"
   ]
  },
  {
   "attachments": {},
   "cell_type": "markdown",
   "metadata": {},
   "source": [
    "Based on the table, the ratio of the two groups is actually the same, but to confirm whether there is SRM, a Chi-Square will be performed."
   ]
  },
  {
   "attachments": {},
   "cell_type": "markdown",
   "metadata": {},
   "source": [
    "##### Chi-Square Test for Detect SRM\n",
    "\n",
    "The steps for doing a chi-square test in order to detect SRM are:\n",
    "\n",
    "**1. Define the null and alternative hypothesis ($H_0$ and $H_1$)**\n",
    "\n",
    "$H_0$  : No SRM detected\n",
    "\n",
    "$H_1$  : SRM detected\n",
    "\n",
    "**2. Calculate chi-square statistics**\n",
    "\n",
    "$$ \\chi^2 = \\sum \\frac{\\left ( \\text{observed - expected} \\right )^2}{\\text{expected}} $$\n",
    "\n",
    "Where :\n",
    "- Observed: the control and variation traffic volumes (sample size), respectively\n",
    "- Expected: the expected values for control and treatment — i.e. the total observed divided by 2\n",
    "\n",
    "**3. Define decision rules**\n",
    "\n",
    "In making statistical test decisions, we can use:\n",
    "- Comparison of chi-square statistics with critical value\n",
    "     -  $\\chi^2 > \\chi^2_{\\alpha,df}$ → reject $H_0$\n",
    "\n",
    "- Comparison of p-value with alpha\n",
    "   - pvalue < $\\alpha$ → reject $H_0$\n",
    "\n",
    "\n",
    "Normally, one would look for a p-value of 0.05 or less to proof of SRM. The problem with 0.05 is that it’s not strict enough for our purposes. Using this might give us a false signal. What we need is to be stricter for our test. So we use significance level 1%.\n",
    "\n",
    "degree of freedom (df) is calculated as: \n",
    "$$ df = (rows − 1) × (columns − 1) $$ "
   ]
  },
  {
   "cell_type": "code",
   "execution_count": 60,
   "metadata": {},
   "outputs": [],
   "source": [
    "def detect_SRM(data_control: pd.DataFrame, data_treatment: pd.DataFrame):\n",
    "    \"\"\"Function to detect Sequential Redundancy Ratio (SRM) in the data for control and treatment group \n",
    "\n",
    "    Args:\n",
    "        data_control (pd.DataFrame): Data for control group\n",
    "        data_treatment (pd.DataFrame): Data for treatment group\n",
    "\n",
    "    Returns:\n",
    "        chi (Power_divergenceResult) : Chi-square test result\n",
    "    \"\"\"\n",
    "    # Number of users in control group\n",
    "    n_control = data_control.shape[0]\n",
    "    \n",
    "    # Number of users in treatment group\n",
    "    n_treatment = data_treatment.shape[0]\n",
    "    \n",
    "    # Number of total users\n",
    "    observed = [n_control, n_treatment]\n",
    "    total_traffic = sum(observed)\n",
    "    \n",
    "    # Calculate expected value\n",
    "    expected = [total_traffic * 0.5, total_traffic * 0.5]\n",
    "    \n",
    "    # Perform chi-square test\n",
    "    chi = stats.chisquare(f_obs=observed, f_exp=expected)\n",
    "    \n",
    "    return chi"
   ]
  },
  {
   "cell_type": "code",
   "execution_count": 61,
   "metadata": {},
   "outputs": [
    {
     "name": "stdout",
     "output_type": "stream",
     "text": [
      "Chi-square test statistic : Power_divergenceResult(statistic=0.0, pvalue=1.0)\n"
     ]
    }
   ],
   "source": [
    "# Perform chi-square test\n",
    "chi_test = detect_SRM(control_df, treatment_df)\n",
    "\n",
    "print(f\"Chi-square test statistic : {chi_test}\")"
   ]
  },
  {
   "cell_type": "code",
   "execution_count": 62,
   "metadata": {},
   "outputs": [
    {
     "name": "stdout",
     "output_type": "stream",
     "text": [
      "Critical value : 6.63\n"
     ]
    }
   ],
   "source": [
    "# Comparison of chi-square statistics with critical value\n",
    "# We must calculate the critical first\n",
    "\n",
    "# critical value is the chi-square value at alpha\n",
    "alpha = 0.01\n",
    "df=(2-1)*(2-1) # degree of freedom\n",
    "\n",
    "chi_crit = stats.chi2.ppf(1-alpha, df)\n",
    "print(f\"Critical value : {chi_crit:.2f}\")"
   ]
  },
  {
   "cell_type": "code",
   "execution_count": 63,
   "metadata": {},
   "outputs": [
    {
     "data": {
      "text/plain": [
       "0.0"
      ]
     },
     "execution_count": 63,
     "metadata": {},
     "output_type": "execute_result"
    }
   ],
   "source": [
    "chi_test[0]"
   ]
  },
  {
   "cell_type": "code",
   "execution_count": 64,
   "metadata": {},
   "outputs": [
    {
     "data": {
      "text/plain": [
       "1.0"
      ]
     },
     "execution_count": 64,
     "metadata": {},
     "output_type": "execute_result"
    }
   ],
   "source": [
    "chi_test[1]"
   ]
  },
  {
   "cell_type": "code",
   "execution_count": 65,
   "metadata": {},
   "outputs": [
    {
     "name": "stdout",
     "output_type": "stream",
     "text": [
      "Fail to reject H0 : No SRM\n"
     ]
    }
   ],
   "source": [
    "#Make decisions from chi-square statistics and critical value\n",
    "if chi_test[0] > chi_crit:\n",
    "  print(\"Reject H0 : SRM may be present.\")\n",
    "else:\n",
    "  print(\"Fail to reject H0 : No SRM\")"
   ]
  },
  {
   "attachments": {},
   "cell_type": "markdown",
   "metadata": {},
   "source": [
    "Upon consulting the chi-square table, it has been determined that the critical value for a significance level of 1% and 1 degree of freedom is 6.635. Consequently, the null hypothesis cannot be rejected, leading to the conclusion that there is no evidence of a sample ratio mismatch."
   ]
  },
  {
   "attachments": {},
   "cell_type": "markdown",
   "metadata": {},
   "source": [
    "#### Calculate Evaluation Metric\n",
    "\n",
    "Calculate the conversion rate for each group. The conversion rate is the proportion of users who converted in each test group. This can be calculated by dividing the number of users who converted by the total number of users in each group. The function `extract_evaluation_metric` is used to calculate the conversion rate."
   ]
  },
  {
   "cell_type": "code",
   "execution_count": 66,
   "metadata": {},
   "outputs": [],
   "source": [
    "# Extract evaluation metric for control and treatment\n",
    "control_res = extract_evaluation_metric(data = control_df)\n",
    "treatment_res = extract_evaluation_metric(data = treatment_df)"
   ]
  },
  {
   "cell_type": "code",
   "execution_count": 67,
   "metadata": {},
   "outputs": [
    {
     "name": "stdout",
     "output_type": "stream",
     "text": [
      "CONTROL: {'session': 3334, 'conversion': 60, 'CVR': 1.8}\n",
      "TREATMENT: {'session': 3334, 'conversion': 92, 'CVR': 2.759}\n"
     ]
    }
   ],
   "source": [
    "print(f\"CONTROL: {control_res}\")\n",
    "print(f\"TREATMENT: {treatment_res}\")"
   ]
  },
  {
   "cell_type": "markdown",
   "metadata": {},
   "source": [
    "Visualize the conversion rate for each group."
   ]
  },
  {
   "cell_type": "code",
   "execution_count": 68,
   "metadata": {},
   "outputs": [
    {
     "name": "stderr",
     "output_type": "stream",
     "text": [
      "No artists with labels found to put in legend.  Note that artists whose label start with an underscore are ignored when legend() is called with no argument.\n"
     ]
    },
    {
     "data": {
      "image/png": "[encoded data removed]",
      "text/plain": [
       "<Figure size 800x600 with 1 Axes>"
      ]
     },
     "metadata": {},
     "output_type": "display_data"
    }
   ],
   "source": [
    "# Visualize the conversion rate in control group and treatment group\n",
    "visualize_CVR(\n",
    "    control_res['CVR'],\n",
    "    treatment_res['CVR']\n",
    ")"
   ]
  },
  {
   "attachments": {},
   "cell_type": "markdown",
   "metadata": {},
   "source": [
    "#### Calculate Lift-over-baseline\n",
    "\n",
    "Lift-over-baseline is the difference between the conversion rate of the treatment group and the conversion rate of the control group. It is a measure of the effectiveness of the treatment.\n",
    "\n",
    "$$\n",
    "\\text{Lift} = CVR_{\\text{treatment}} - CVR_{\\text{control}}\n",
    "$$"
   ]
  },
  {
   "cell_type": "code",
   "execution_count": 69,
   "metadata": {},
   "outputs": [
    {
     "name": "stdout",
     "output_type": "stream",
     "text": [
      "Lift: 0.9589999999999999\n"
     ]
    }
   ],
   "source": [
    "# Calculate the lift\n",
    "AB_lift = treatment_res['CVR'] - control_res['CVR']\n",
    "print(f\"Lift: {AB_lift}\")"
   ]
  },
  {
   "attachments": {},
   "cell_type": "markdown",
   "metadata": {},
   "source": [
    "The lift-over-baseline is 0.19, which means that the treatment group has a 19% higher conversion rate than the control group. This is a significant lift, but we need to determine if this lift is statistically significant."
   ]
  },
  {
   "attachments": {},
   "cell_type": "markdown",
   "metadata": {},
   "source": [
    "#### Caclulate p-value\n",
    "\n",
    "P-value is the probability of observing a test statistic at least as extreme as the one that was actually observed, assuming that the null hypothesis is true. The p-value is used to determine whether the null hypothesis should be rejected or not. The null hypothesis is that the conversion rate of the treatment group is the same as the conversion rate of the control group. The alternative hypothesis is that the conversion rate of the treatment group is higher than the conversion rate of the control group. \n",
    "\n",
    "Hypothesis testing is a statistical method that is used to determine whether a given hypothesis is true or not. The hypothesis testing process is as follows:\n",
    "\n",
    "$$H_0 : {CVR}_{treatment} = {CVR}_{control} $$\n",
    "$$H_1 : {CVR}_{treatment} > {CVR}_{control} $$\n",
    "\n",
    "The null hypothesis is that the conversion rate of the treatment group is the same as the conversion rate of the control group. The alternative hypothesis is that the conversion rate of the treatment group is higher than the conversion rate of the control group. The function `calculate_pvalue` is used to calculate the p-value."
   ]
  },
  {
   "cell_type": "code",
   "execution_count": 70,
   "metadata": {},
   "outputs": [],
   "source": [
    "def calculate_pval(control_res: dict, treatment_res: dict, alternative_option: str = \"two-sided\"):\n",
    "    \"\"\"Calculate p-value for proportion\n",
    "\n",
    "    Args:\n",
    "        control_res (dict): Control group result\n",
    "        treatment_res (dict): Treatment group result\n",
    "\n",
    "    Returns:\n",
    "        pval: p-value\n",
    "    \"\"\"\n",
    "    # Group results\n",
    "    counts = [treatment_res[\"conversion\"], control_res[\"conversion\"]]\n",
    "    obs = [treatment_res[\"session\"], control_res[\"session\"]]\n",
    "\n",
    "    zstat, pval = proportions_ztest(\n",
    "        count=counts,\n",
    "        nobs=obs,\n",
    "        alternative=alternative_option\n",
    "    )\n",
    "    \n",
    "    return zstat, pval\n"
   ]
  },
  {
   "cell_type": "code",
   "execution_count": 71,
   "metadata": {},
   "outputs": [
    {
     "data": {
      "text/plain": [
       "0.004324291592172494"
      ]
     },
     "execution_count": 71,
     "metadata": {},
     "output_type": "execute_result"
    }
   ],
   "source": [
    "p_value_ab = calculate_pval(control_res, treatment_res, alternative_option=\"larger\")[1]\n",
    "p_value_ab"
   ]
  },
  {
   "cell_type": "code",
   "execution_count": 72,
   "metadata": {},
   "outputs": [
    {
     "data": {
      "text/plain": [
       "2.625641584837512"
      ]
     },
     "execution_count": 72,
     "metadata": {},
     "output_type": "execute_result"
    }
   ],
   "source": [
    "z_stat_ab = calculate_pval(control_res, treatment_res, alternative_option=\"larger\")[0]\n",
    "z_stat_ab"
   ]
  },
  {
   "cell_type": "code",
   "execution_count": 73,
   "metadata": {},
   "outputs": [
    {
     "name": "stdout",
     "output_type": "stream",
     "text": [
      "z critical value : 1.9600\n"
     ]
    }
   ],
   "source": [
    "# critical value\n",
    "alpha= 0.05\n",
    "z_crit_ab = stats.norm.ppf(1-alpha)\n",
    "\n",
    "print(f\"z critical value : {z_crit:.4f}\")"
   ]
  },
  {
   "cell_type": "code",
   "execution_count": 74,
   "metadata": {},
   "outputs": [
    {
     "name": "stdout",
     "output_type": "stream",
     "text": [
      "Decision : Reject Null Hypothesis\n"
     ]
    }
   ],
   "source": [
    "#Melakukan pengambilan keputusan dari z-stats dan z-crit\n",
    "if z_stat_ab > z_crit_ab:\n",
    "  print(\"Decision : Reject Null Hypothesis\")\n",
    "else:\n",
    "  print(\"Decision : Fail to Reject Null Hypothesis\")"
   ]
  },
  {
   "cell_type": "code",
   "execution_count": 75,
   "metadata": {},
   "outputs": [
    {
     "name": "stdout",
     "output_type": "stream",
     "text": [
      "Decision : Reject Null Hypothesis\n"
     ]
    }
   ],
   "source": [
    "# Perbandingan P-Value dengan alpha.\n",
    "if p_value_ab<0.05:\n",
    "  print(\"Decision : Reject Null Hypothesis\")\n",
    "else:\n",
    "  print(\"Decision : Fail to Reject Null Hypothesis\")"
   ]
  },
  {
   "cell_type": "code",
   "execution_count": 76,
   "metadata": {},
   "outputs": [
    {
     "data": {
      "image/png": "[encoded data removed]",
      "text/plain": [
       "<Figure size 1000x700 with 1 Axes>"
      ]
     },
     "metadata": {},
     "output_type": "display_data"
    },
    {
     "name": "stdout",
     "output_type": "stream",
     "text": [
      "z statistics : 0.6460\n",
      "z critical : 1.9600\n"
     ]
    }
   ],
   "source": [
    "fig = plt.subplots(nrows=1, ncols=1, figsize=(10, 7))\n",
    "\n",
    "# plot sample distribution \n",
    "x = np.arange(-4, 4, 0.001)\n",
    "plt.plot(x, stats.norm.pdf(x, 0, 1), \n",
    "         color='blue')\n",
    "\n",
    "# plot alpha region\n",
    "x_alpha = np.arange(z_crit_ab,4, 0.01)\n",
    "y_alpha = stats.norm.pdf(x_alpha)\n",
    "plt.fill_between(x = x_alpha, \n",
    "                 y1 = y_alpha,\n",
    "                 facecolor = 'red',\n",
    "                 alpha = 0.35, \n",
    "                 label = 'alpha')\n",
    "\n",
    "# plot pvalue\n",
    "x_pvalue = np.arange(z_stat_ab,4, 0.01)\n",
    "y_pvalue = stats.norm.pdf(x_pvalue)\n",
    "plt.fill_between(x = x_pvalue, \n",
    "                 y1 = y_pvalue,\n",
    "                 facecolor = 'green',\n",
    "                 alpha = 0.35, \n",
    "                 label = 'pvalue')\n",
    "\n",
    "# plot z-crit and z-stats\n",
    "plt.axvline(np.round(z_stat_ab, 4), \n",
    "            color =\"green\", \n",
    "            linestyle = \"--\", \n",
    "            label =\"z-stat\")\n",
    "\n",
    "plt.axvline(z_crit_ab, \n",
    "            color =\"red\", \n",
    "            linestyle = \"--\", \n",
    "            label =\"z-crit\")\n",
    "\n",
    "plt.legend()\n",
    "plt.xlabel(\"z\")\n",
    "plt.ylabel(\"density\")\n",
    "plt.show()\n",
    "\n",
    "print(f\"z statistics : {z_stat:.4f}\")\n",
    "print(f\"z critical : {z_crit:.4f}\")"
   ]
  },
  {
   "attachments": {},
   "cell_type": "markdown",
   "metadata": {},
   "source": [
    "The result of the p-value is 0.0, which is less than 0.05. This means that we can reject the null hypothesis. The conversion rate of the treatment group is higher than the conversion rate of the control group."
   ]
  },
  {
   "attachments": {},
   "cell_type": "markdown",
   "metadata": {},
   "source": [
    "#### Confidence Interval\n",
    "\n",
    "Confidence interval is a range of values that is likely to contain the true value of the population parameter. The confidence interval is used to determine the range of values that is likely to contain the true value of the population parameter. The function `calculate_confidence_interval` is used to calculate the confidence interval."
   ]
  },
  {
   "cell_type": "code",
   "execution_count": 95,
   "metadata": {},
   "outputs": [
    {
     "name": "stdout",
     "output_type": "stream",
     "text": [
      "CI 95% for Control Group : [0.022 - 0.034]\n",
      "CI 95% for Treatment Group : [0.014 - 0.023]\n"
     ]
    }
   ],
   "source": [
    "# Success and number of trials\n",
    "success = [treatment_res[\"conversion\"], control_res[\"conversion\"]]\n",
    "n_obs = [treatment_res[\"session\"], control_res[\"session\"]]\n",
    "\n",
    "# Calculate confidence interval for control and treatment group\n",
    "(lower_cont, lower_treat), (upper_cont, upper_treat) = proportion_confint(\n",
    "    count=success, # number of success\n",
    "    nobs=n_obs, # number of trials\n",
    "    alpha=0.05, # significance level\n",
    "    method='beta' # method to calculate confidence interval\n",
    ")\n",
    "\n",
    "print(f\"CI 95% for Control Group : [{lower_cont:.3f} - {upper_cont:.3f}]\")\n",
    "print(f\"CI 95% for Treatment Group : [{lower_treat:.3f} - {upper_treat:.3f}]\")"
   ]
  },
  {
   "cell_type": "code",
   "execution_count": 97,
   "metadata": {},
   "outputs": [
    {
     "name": "stdout",
     "output_type": "stream",
     "text": [
      "CI 95% for Difference in Proportions : [0.002 - 0.017]\n"
     ]
    }
   ],
   "source": [
    "# Confidence Interval for Difference in Proportions\n",
    "confidence_interval = confint_proportions_2indep(\n",
    "    count1=treatment_res[\"conversion\"], nobs1=treatment_res[\"session\"], # treatment group\n",
    "    count2=control_res[\"conversion\"], nobs2=control_res[\"session\"], # control group\n",
    "    method='wald' ,compare=\"diff\", alpha=0.05 # method to calculate confidence interval\n",
    ")\n",
    "\n",
    "print(f\"CI 95% for Difference in Proportions : [{confidence_interval[0]:.3f} - {confidence_interval[1]:.3f}]\")"
   ]
  },
  {
   "cell_type": "code",
   "execution_count": 78,
   "metadata": {},
   "outputs": [],
   "source": [
    "def generate_posterior(result: dict):\n",
    "    \"\"\"Function to generate posterior distribution \n",
    "    from result of A/B test using beta distribution as prior\n",
    "\n",
    "    Args:\n",
    "        result (dict): Summary of metrics from A/B test\n",
    "\n",
    "    Returns:\n",
    "        posterior (numpy.ndarray) : Simulated posterior distribution\n",
    "    \"\"\"\n",
    "    # Extract the number of trials and successes\n",
    "    n_trial = result['session']\n",
    "    n_success = result['conversion']\n",
    "    n_failure = n_trial - n_success\n",
    "\n",
    "    # Generate posterior distribution\n",
    "    posteriors = stats.beta.rvs(\n",
    "        a = n_success + 1,\n",
    "        b = n_failure + 1,\n",
    "        size = 10000\n",
    "    )\n",
    "    \n",
    "    return posteriors"
   ]
  },
  {
   "cell_type": "code",
   "execution_count": 79,
   "metadata": {},
   "outputs": [],
   "source": [
    "# Generate posterior results for control and treatment\n",
    "control_posterior = generate_posterior(control_res)\n",
    "treatment_posterior = generate_posterior(treatment_res)"
   ]
  },
  {
   "cell_type": "code",
   "execution_count": 80,
   "metadata": {},
   "outputs": [],
   "source": [
    "def visualize_posterior_dist(control_posteriors: np.ndarray, treatment_posteriors: np.ndarray, alpha: float = 0.1):\n",
    "    \"\"\"Function to visualize posterior distribution of control and treatment group using KDE plot\n",
    "\n",
    "    Args:\n",
    "        control_posteriors (np.ndarray): simulation result of posterior distribution for control group\n",
    "        treatment_posteriors (np.ndarray): simulation result of posterior distribution for treatment group\n",
    "        alpha (float, optional): _description_. Defaults to 0.01.\n",
    "    \"\"\"\n",
    "    # Visualize posterior distribution\n",
    "    fig, ax = plt.subplots(nrows=1, ncols=1, figsize=(10, 7))\n",
    "\n",
    "    # Plot posterior distribution for control\n",
    "    sns.kdeplot(\n",
    "        data=control_posteriors,\n",
    "        color='blue',\n",
    "        label='Control Group',\n",
    "        fill=True,\n",
    "        alpha=alpha,\n",
    "        ax=ax\n",
    "    )\n",
    "\n",
    "    # Plot posterior distribution for treatment\n",
    "    sns.kdeplot(\n",
    "        data=treatment_posteriors,\n",
    "        color='red',\n",
    "        label='Treatment Group',\n",
    "        fill=True,\n",
    "        alpha=alpha,\n",
    "        ax=ax\n",
    "    )\n",
    "\n",
    "    # Style the plot\n",
    "    ax.set_ylabel(\"Probability Density\", fontsize=16)\n",
    "    ax.set_xlabel(\"Conversion Rate\", fontsize=16)\n",
    "    plt.legend()\n",
    "    plt.show()"
   ]
  },
  {
   "attachments": {},
   "cell_type": "markdown",
   "metadata": {},
   "source": [
    "### Summarize the results\n",
    "\n",
    "Create function `summarize_results` to summarize the results of the A/B test using pipleline based on the steps above."
   ]
  },
  {
   "cell_type": "code",
   "execution_count": 81,
   "metadata": {},
   "outputs": [],
   "source": [
    "def summarize_data(data: pd.DataFrame, n_size: int):\n",
    "    \"\"\"Summarize data for experiment result analysis\n",
    "\n",
    "    Args:\n",
    "        data (pd.DataFrame): Sample data to be summarized\n",
    "        n_size (int): Sample size\n",
    "\n",
    "    Returns:\n",
    "        summary_df (pd.DataFrame) : Summary of data\n",
    "    \"\"\"\n",
    "    # 1. Split data into control and treatment\n",
    "    control_data, treatment_data = split_data(data)\n",
    "    \n",
    "    # 2. Sample data for control and treatment\n",
    "    control_df, treatment_df = sampling_data(\n",
    "        control_data=control_data,\n",
    "        treatment_data=treatment_data,\n",
    "        n_size=n_size\n",
    "    )\n",
    "    \n",
    "    # 3. Extract evaluation metric\n",
    "    control_res = extract_evaluation_metric(control_df)\n",
    "    treatment_res = extract_evaluation_metric(treatment_df)\n",
    "    \n",
    "    # 4. Calculate lift\n",
    "    lift = treatment_res['CVR'] - control_res['CVR']\n",
    "    control_res['lift'] = \"---\" # fill in the blank\n",
    "    treatment_res['lift'] = np.round(lift, 3) # round to 3 decimal places\n",
    "    \n",
    "    # 5. Calculate p-value\n",
    "    pval = calculate_pval(control_res, treatment_res)[1]\n",
    "    control_res['p-value'] = \"---\" # fill in the blank\n",
    "    treatment_res['p-value'] = np.round(pval, 3) # round to 3 decimal places\n",
    "    \n",
    "    # Visualize the conversion rate in control group and treatment group\n",
    "    visualize_CVR(control_res['CVR'], treatment_res['CVR'])\n",
    "    \n",
    "    # 6. Generate summary\n",
    "    summary_df = pd.DataFrame(\n",
    "        data=[control_res, treatment_res],\n",
    "        index=['control', 'treatment']\n",
    "    )\n",
    "    \n",
    "    # 7. Generate posterior results for control and treatment\n",
    "    control_posterior = generate_posterior(control_res)\n",
    "    treatment_posterior = generate_posterior(treatment_res)\n",
    "    \n",
    "    # 8. Visualize posterior distribution of control and treatment group\n",
    "    visualize_posterior_dist(control_posterior, treatment_posterior)\n",
    "    \n",
    "    return summary_df"
   ]
  },
  {
   "cell_type": "code",
   "execution_count": 82,
   "metadata": {},
   "outputs": [
    {
     "name": "stderr",
     "output_type": "stream",
     "text": [
      "No artists with labels found to put in legend.  Note that artists whose label start with an underscore are ignored when legend() is called with no argument.\n"
     ]
    },
    {
     "data": {
      "image/png": "[encoded data removed]",
      "text/plain": [
       "<Figure size 800x600 with 1 Axes>"
      ]
     },
     "metadata": {},
     "output_type": "display_data"
    },
    {
     "data": {
      "image/png": "[encoded data removed]",
      "text/plain": [
       "<Figure size 1000x700 with 1 Axes>"
      ]
     },
     "metadata": {},
     "output_type": "display_data"
    },
    {
     "data": {
      "text/html": [
       "<div>\n",
       "<style scoped>\n",
       "    .dataframe tbody tr th:only-of-type {\n",
       "        vertical-align: middle;\n",
       "    }\n",
       "\n",
       "    .dataframe tbody tr th {\n",
       "        vertical-align: top;\n",
       "    }\n",
       "\n",
       "    .dataframe thead th {\n",
       "        text-align: right;\n",
       "    }\n",
       "</style>\n",
       "<table border=\"1\" class=\"dataframe\">\n",
       "  <thead>\n",
       "    <tr style=\"text-align: right;\">\n",
       "      <th></th>\n",
       "      <th>session</th>\n",
       "      <th>conversion</th>\n",
       "      <th>CVR</th>\n",
       "      <th>lift</th>\n",
       "      <th>p-value</th>\n",
       "    </tr>\n",
       "  </thead>\n",
       "  <tbody>\n",
       "    <tr>\n",
       "      <th>control</th>\n",
       "      <td>3334</td>\n",
       "      <td>60</td>\n",
       "      <td>1.800</td>\n",
       "      <td>---</td>\n",
       "      <td>---</td>\n",
       "    </tr>\n",
       "    <tr>\n",
       "      <th>treatment</th>\n",
       "      <td>3334</td>\n",
       "      <td>92</td>\n",
       "      <td>2.759</td>\n",
       "      <td>0.959</td>\n",
       "      <td>0.009</td>\n",
       "    </tr>\n",
       "  </tbody>\n",
       "</table>\n",
       "</div>"
      ],
      "text/plain": [
       "           session  conversion    CVR   lift p-value\n",
       "control       3334          60  1.800    ---     ---\n",
       "treatment     3334          92  2.759  0.959   0.009"
      ]
     },
     "execution_count": 82,
     "metadata": {},
     "output_type": "execute_result"
    }
   ],
   "source": [
    "# Summarize data for experiment result analysis\n",
    "summarize_data(ab_data, n_size=min_sample_size)"
   ]
  },
  {
   "attachments": {},
   "cell_type": "markdown",
   "metadata": {},
   "source": [
    "### Conclusion\n",
    "\n",
    "Conducting an A/B test is a good way to determine whether a change in a website or app is effective or not. The A/B test is conducted by splitting the users into two groups, the control group and the treatment group. The control group is the group that does not receive the change, while the treatment group is the group that receives the change. The goal of the A/B test is to determine whether the change is effective or not. The change is considered effective if the treatment group has a higher conversion rate than the control group. "
   ]
  }
 ],
 "metadata": {
  "kernelspec": {
   "display_name": "jcopml",
   "language": "python",
   "name": "python3"
  },
  "language_info": {
   "codemirror_mode": {
    "name": "ipython",
    "version": 3
   },
   "file_extension": ".py",
   "mimetype": "text/x-python",
   "name": "python",
   "nbconvert_exporter": "python",
   "pygments_lexer": "ipython3",
   "version": "3.8.15"
  },
  "orig_nbformat": 4
 },
 "nbformat": 4,
 "nbformat_minor": 2
}
